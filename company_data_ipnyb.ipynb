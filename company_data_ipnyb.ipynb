{
  "nbformat": 4,
  "nbformat_minor": 0,
  "metadata": {
    "colab": {
      "name": "company_data.ipnyb",
      "provenance": [],
      "collapsed_sections": []
    },
    "kernelspec": {
      "name": "python3",
      "display_name": "Python 3"
    },
    "language_info": {
      "name": "python"
    }
  },
  "cells": [
    {
      "cell_type": "code",
      "metadata": {
        "colab": {
          "base_uri": "https://localhost:8080/",
          "height": 70
        },
        "id": "GLBR950LpTER",
        "outputId": "2056efd7-47fc-4df2-8ad3-74d005db2699"
      },
      "source": [
        "'''\n",
        "Purpose: Collect top 100 companies we are initally including in our project, to extract information about\n",
        "Database Schema:\n",
        "company_name|ticker|about|type_company|recent_articles_urls|stock_price|stock_change\n",
        "\n",
        "about: summary plus wesbite\n",
        "\n",
        "stock_change: percent and price change\n",
        "\n",
        "\n",
        "REMOVE: \n",
        "'''"
      ],
      "execution_count": null,
      "outputs": [
        {
          "output_type": "execute_result",
          "data": {
            "application/vnd.google.colaboratory.intrinsic+json": {
              "type": "string"
            },
            "text/plain": [
              "'\\nPurpose: Collect top 100 companies we are initally including in our project, to extract information about\\nDatabase Schema:\\ncompany_name|ticker|about|type_company|recent_articles_urls|stock_price|stock_change\\n\\nabout: summary plus wesbite\\n\\nstock_change: percent and price change\\n\\n\\nREMOVE: \\n'"
            ]
          },
          "metadata": {},
          "execution_count": 17
        }
      ]
    },
    {
      "cell_type": "code",
      "metadata": {
        "colab": {
          "base_uri": "https://localhost:8080/"
        },
        "id": "-_JP35r8pZ6U",
        "outputId": "ceaeb0af-c7a2-4a59-bf71-1687106a168b"
      },
      "source": [
        "!pip3 install pandas\n",
        "# Let's install some libraries useful for processing web data\n",
        "\n",
        "# For string similarity\n",
        "!pip3 install py_stringsimjoin\n",
        "\n",
        "# # lxml to parse xml tree\n",
        "!pip3 install lxml\n",
        "!pip3 install requests"
      ],
      "execution_count": null,
      "outputs": [
        {
          "output_type": "stream",
          "name": "stdout",
          "text": [
            "Requirement already satisfied: pandas in /usr/local/lib/python3.7/dist-packages (1.1.5)\n",
            "Requirement already satisfied: numpy>=1.15.4 in /usr/local/lib/python3.7/dist-packages (from pandas) (1.19.5)\n",
            "Requirement already satisfied: pytz>=2017.2 in /usr/local/lib/python3.7/dist-packages (from pandas) (2018.9)\n",
            "Requirement already satisfied: python-dateutil>=2.7.3 in /usr/local/lib/python3.7/dist-packages (from pandas) (2.8.2)\n",
            "Requirement already satisfied: six>=1.5 in /usr/local/lib/python3.7/dist-packages (from python-dateutil>=2.7.3->pandas) (1.15.0)\n",
            "Collecting py_stringsimjoin\n",
            "  Downloading py_stringsimjoin-0.3.2.tar.gz (1.1 MB)\n",
            "\u001b[K     |████████████████████████████████| 1.1 MB 5.4 MB/s \n",
            "\u001b[?25hRequirement already satisfied: joblib in /usr/local/lib/python3.7/dist-packages (from py_stringsimjoin) (1.0.1)\n",
            "Requirement already satisfied: pandas>=0.16.0 in /usr/local/lib/python3.7/dist-packages (from py_stringsimjoin) (1.1.5)\n",
            "Collecting PyPrind>=2.9.3\n",
            "  Downloading PyPrind-2.11.3-py2.py3-none-any.whl (8.4 kB)\n",
            "Collecting py_stringmatching>=0.2.1\n",
            "  Downloading py_stringmatching-0.4.2.tar.gz (661 kB)\n",
            "\u001b[K     |████████████████████████████████| 661 kB 44.8 MB/s \n",
            "\u001b[?25hRequirement already satisfied: six in /usr/local/lib/python3.7/dist-packages (from py_stringsimjoin) (1.15.0)\n",
            "Requirement already satisfied: numpy>=1.15.4 in /usr/local/lib/python3.7/dist-packages (from pandas>=0.16.0->py_stringsimjoin) (1.19.5)\n",
            "Requirement already satisfied: pytz>=2017.2 in /usr/local/lib/python3.7/dist-packages (from pandas>=0.16.0->py_stringsimjoin) (2018.9)\n",
            "Requirement already satisfied: python-dateutil>=2.7.3 in /usr/local/lib/python3.7/dist-packages (from pandas>=0.16.0->py_stringsimjoin) (2.8.2)\n",
            "Building wheels for collected packages: py-stringsimjoin, py-stringmatching\n",
            "  Building wheel for py-stringsimjoin (setup.py) ... \u001b[?25l\u001b[?25hdone\n",
            "  Created wheel for py-stringsimjoin: filename=py_stringsimjoin-0.3.2-cp37-cp37m-linux_x86_64.whl size=3724012 sha256=2b7d6dbbf4bc7b3c971a13fdbde5f9e64a78445a3f7150207d341ac78c9fa0a3\n",
            "  Stored in directory: /root/.cache/pip/wheels/7c/0d/a4/c0a779a4d196bed8ed41ca12be09a93e158e4fc974b59f9fd5\n",
            "  Building wheel for py-stringmatching (setup.py) ... \u001b[?25l\u001b[?25hdone\n",
            "  Created wheel for py-stringmatching: filename=py_stringmatching-0.4.2-cp37-cp37m-linux_x86_64.whl size=2055537 sha256=b9e482f6a29cdd9ac80fb42bc12dd86b25a5145df069f5bf1ca0bcee67a2e3bf\n",
            "  Stored in directory: /root/.cache/pip/wheels/7e/12/86/46f9378ae730550dd2f89cad50880e70d66cabedd90074f2d2\n",
            "Successfully built py-stringsimjoin py-stringmatching\n",
            "Installing collected packages: PyPrind, py-stringmatching, py-stringsimjoin\n",
            "Successfully installed PyPrind-2.11.3 py-stringmatching-0.4.2 py-stringsimjoin-0.3.2\n",
            "Requirement already satisfied: lxml in /usr/local/lib/python3.7/dist-packages (4.2.6)\n",
            "Requirement already satisfied: requests in /usr/local/lib/python3.7/dist-packages (2.23.0)\n",
            "Requirement already satisfied: idna<3,>=2.5 in /usr/local/lib/python3.7/dist-packages (from requests) (2.10)\n",
            "Requirement already satisfied: certifi>=2017.4.17 in /usr/local/lib/python3.7/dist-packages (from requests) (2021.5.30)\n",
            "Requirement already satisfied: chardet<4,>=3.0.2 in /usr/local/lib/python3.7/dist-packages (from requests) (3.0.4)\n",
            "Requirement already satisfied: urllib3!=1.25.0,!=1.25.1,<1.26,>=1.21.1 in /usr/local/lib/python3.7/dist-packages (from requests) (1.24.3)\n"
          ]
        }
      ]
    },
    {
      "cell_type": "code",
      "metadata": {
        "id": "KRgK8ti_pZqZ"
      },
      "source": [
        "# Imports we'll use through the notebook, collected here for simplicity\n",
        "\n",
        "# For parsing dates and being able to compare\n",
        "import datetime\n",
        "\n",
        "# For fetching remote data\n",
        "import urllib\n",
        "import urllib.request\n",
        "\n",
        "# Pandas dataframes and operations\n",
        "import pandas as pd\n",
        "\n",
        "# Numpy matrix and array operations\n",
        "import numpy as np\n",
        "\n",
        "# Sqlite is a simplistic database\n",
        "import sqlite3\n",
        "\n",
        "# Approximate string matching, see \n",
        "import py_stringsimjoin as ssj\n",
        "import py_stringmatching as sm\n",
        "\n",
        "# Data visualization\n",
        "import matplotlib\n",
        "\n",
        "#Validate URL\n",
        "import requests\n",
        "import re\n"
      ],
      "execution_count": null,
      "outputs": []
    },
    {
      "cell_type": "code",
      "metadata": {
        "id": "V0tznBvdwAl_"
      },
      "source": [
        "# Get 500 most profitable companies in USA\n",
        "company_total_df = pd.read_html('https://en.wikipedia.org/wiki/List_of_largest_companies_in_the_United_States_by_revenue#List_of_largest_companies')[1]"
      ],
      "execution_count": null,
      "outputs": []
    },
    {
      "cell_type": "code",
      "metadata": {
        "colab": {
          "base_uri": "https://localhost:8080/",
          "height": 422
        },
        "id": "OWeEVCdrQSZM",
        "outputId": "318ed666-7463-4f02-9d09-cf8b60419d62"
      },
      "source": [
        "company_total_df"
      ],
      "execution_count": null,
      "outputs": [
        {
          "output_type": "execute_result",
          "data": {
            "text/html": [
              "<div>\n",
              "<style scoped>\n",
              "    .dataframe tbody tr th:only-of-type {\n",
              "        vertical-align: middle;\n",
              "    }\n",
              "\n",
              "    .dataframe tbody tr th {\n",
              "        vertical-align: top;\n",
              "    }\n",
              "\n",
              "    .dataframe thead th {\n",
              "        text-align: right;\n",
              "    }\n",
              "</style>\n",
              "<table border=\"1\" class=\"dataframe\">\n",
              "  <thead>\n",
              "    <tr style=\"text-align: right;\">\n",
              "      <th></th>\n",
              "      <th>Rank</th>\n",
              "      <th>Name</th>\n",
              "      <th>Industry</th>\n",
              "      <th>Revenue (USD million)</th>\n",
              "      <th>Revenue growth</th>\n",
              "      <th>Employees</th>\n",
              "      <th>Headquarters</th>\n",
              "    </tr>\n",
              "  </thead>\n",
              "  <tbody>\n",
              "    <tr>\n",
              "      <th>0</th>\n",
              "      <td>1</td>\n",
              "      <td>Walmart</td>\n",
              "      <td>Retail</td>\n",
              "      <td>559200</td>\n",
              "      <td>NaN</td>\n",
              "      <td>2300000</td>\n",
              "      <td>Bentonville, Arkansas</td>\n",
              "    </tr>\n",
              "    <tr>\n",
              "      <th>1</th>\n",
              "      <td>2</td>\n",
              "      <td>Amazon</td>\n",
              "      <td>Retail</td>\n",
              "      <td>386064</td>\n",
              "      <td>NaN</td>\n",
              "      <td>1335000</td>\n",
              "      <td>Seattle, Washington</td>\n",
              "    </tr>\n",
              "    <tr>\n",
              "      <th>2</th>\n",
              "      <td>3</td>\n",
              "      <td>Apple Inc.</td>\n",
              "      <td>Electronics industry</td>\n",
              "      <td>274515</td>\n",
              "      <td>NaN</td>\n",
              "      <td>137000</td>\n",
              "      <td>Cupertino, California</td>\n",
              "    </tr>\n",
              "    <tr>\n",
              "      <th>3</th>\n",
              "      <td>4</td>\n",
              "      <td>CVS Health</td>\n",
              "      <td>Healthcare</td>\n",
              "      <td>268706</td>\n",
              "      <td>NaN</td>\n",
              "      <td>290000</td>\n",
              "      <td>Woonsocket, Rhode Island</td>\n",
              "    </tr>\n",
              "    <tr>\n",
              "      <th>4</th>\n",
              "      <td>5</td>\n",
              "      <td>ExxonMobil</td>\n",
              "      <td>Petroleum industry</td>\n",
              "      <td>264938</td>\n",
              "      <td>NaN</td>\n",
              "      <td>74900</td>\n",
              "      <td>Irving, Texas</td>\n",
              "    </tr>\n",
              "    <tr>\n",
              "      <th>...</th>\n",
              "      <td>...</td>\n",
              "      <td>...</td>\n",
              "      <td>...</td>\n",
              "      <td>...</td>\n",
              "      <td>...</td>\n",
              "      <td>...</td>\n",
              "      <td>...</td>\n",
              "    </tr>\n",
              "    <tr>\n",
              "      <th>495</th>\n",
              "      <td>496</td>\n",
              "      <td>Crown Castle</td>\n",
              "      <td>Real estate</td>\n",
              "      <td>5763</td>\n",
              "      <td>NaN</td>\n",
              "      <td>5100</td>\n",
              "      <td>Houston, Texas</td>\n",
              "    </tr>\n",
              "    <tr>\n",
              "      <th>496</th>\n",
              "      <td>497</td>\n",
              "      <td>Simon Property Group</td>\n",
              "      <td>Real estate</td>\n",
              "      <td>5755</td>\n",
              "      <td>NaN</td>\n",
              "      <td>3750</td>\n",
              "      <td>Indianapolis, Indiana</td>\n",
              "    </tr>\n",
              "    <tr>\n",
              "      <th>497</th>\n",
              "      <td>498</td>\n",
              "      <td>Cerner</td>\n",
              "      <td>Healthcare</td>\n",
              "      <td>5693</td>\n",
              "      <td>NaN</td>\n",
              "      <td>27400</td>\n",
              "      <td>North Kansas City, Missouri</td>\n",
              "    </tr>\n",
              "    <tr>\n",
              "      <th>498</th>\n",
              "      <td>499</td>\n",
              "      <td>Post Holdings</td>\n",
              "      <td>Food processing</td>\n",
              "      <td>5681</td>\n",
              "      <td>NaN</td>\n",
              "      <td>10100</td>\n",
              "      <td>St. Louis, Missouri</td>\n",
              "    </tr>\n",
              "    <tr>\n",
              "      <th>499</th>\n",
              "      <td>500</td>\n",
              "      <td>Huntington Bancshares</td>\n",
              "      <td>Financials</td>\n",
              "      <td>5655</td>\n",
              "      <td>NaN</td>\n",
              "      <td>15664</td>\n",
              "      <td>Columbus, Ohio</td>\n",
              "    </tr>\n",
              "  </tbody>\n",
              "</table>\n",
              "<p>500 rows × 7 columns</p>\n",
              "</div>"
            ],
            "text/plain": [
              "     Rank                   Name  ... Employees                 Headquarters\n",
              "0       1                Walmart  ...   2300000        Bentonville, Arkansas\n",
              "1       2                 Amazon  ...   1335000          Seattle, Washington\n",
              "2       3             Apple Inc.  ...    137000        Cupertino, California\n",
              "3       4             CVS Health  ...    290000     Woonsocket, Rhode Island\n",
              "4       5             ExxonMobil  ...     74900                Irving, Texas\n",
              "..    ...                    ...  ...       ...                          ...\n",
              "495   496           Crown Castle  ...      5100               Houston, Texas\n",
              "496   497   Simon Property Group  ...      3750        Indianapolis, Indiana\n",
              "497   498                 Cerner  ...     27400  North Kansas City, Missouri\n",
              "498   499          Post Holdings  ...     10100          St. Louis, Missouri\n",
              "499   500  Huntington Bancshares  ...     15664               Columbus, Ohio\n",
              "\n",
              "[500 rows x 7 columns]"
            ]
          },
          "metadata": {},
          "execution_count": 5
        }
      ]
    },
    {
      "cell_type": "code",
      "metadata": {
        "id": "e0exv-dhxGds"
      },
      "source": [
        "#Extract the names for crawl list\n",
        "\n",
        "company_list = []\n",
        "\n",
        "for company in company_total_df['Name']:\n",
        "  if (company == 'Amazon'):\n",
        "    company += '.com'\n",
        "  new_url = 'https://en.wikipedia.org/wiki/' + company.replace(' ', '_')\n",
        "  company_list.append(new_url)"
      ],
      "execution_count": null,
      "outputs": []
    },
    {
      "cell_type": "code",
      "metadata": {
        "colab": {
          "base_uri": "https://localhost:8080/"
        },
        "id": "afb-WXZCN4Am",
        "outputId": "190e1aa4-b65b-49fb-b43c-6d8546ee5370"
      },
      "source": [
        "print(company_list)"
      ],
      "execution_count": null,
      "outputs": [
        {
          "output_type": "stream",
          "name": "stdout",
          "text": [
            "['https://en.wikipedia.org/wiki/Walmart', 'https://en.wikipedia.org/wiki/Amazon.com', 'https://en.wikipedia.org/wiki/Apple_Inc.', 'https://en.wikipedia.org/wiki/CVS_Health', 'https://en.wikipedia.org/wiki/ExxonMobil', 'https://en.wikipedia.org/wiki/UnitedHealth_Group', 'https://en.wikipedia.org/wiki/Berkshire_Hathaway', 'https://en.wikipedia.org/wiki/McKesson_Corporation', 'https://en.wikipedia.org/wiki/AmerisourceBergen', 'https://en.wikipedia.org/wiki/Alphabet_Inc.', 'https://en.wikipedia.org/wiki/AT&T', 'https://en.wikipedia.org/wiki/Cigna', 'https://en.wikipedia.org/wiki/Ford_Motor_Company', 'https://en.wikipedia.org/wiki/Costco', 'https://en.wikipedia.org/wiki/FedEx', 'https://en.wikipedia.org/wiki/Chevron_Corporation', 'https://en.wikipedia.org/wiki/Cardinal_Health', 'https://en.wikipedia.org/wiki/Microsoft', 'https://en.wikipedia.org/wiki/JPMorgan_Chase', 'https://en.wikipedia.org/wiki/General_Motors', 'https://en.wikipedia.org/wiki/Walgreens_Boots_Alliance', 'https://en.wikipedia.org/wiki/Verizon_Communications', 'https://en.wikipedia.org/wiki/Marathon_Petroleum', 'https://en.wikipedia.org/wiki/Kroger', 'https://en.wikipedia.org/wiki/Fannie_Mae', 'https://en.wikipedia.org/wiki/Bank_of_America', 'https://en.wikipedia.org/wiki/The_Home_Depot', 'https://en.wikipedia.org/wiki/Phillips_66', 'https://en.wikipedia.org/wiki/Comcast', 'https://en.wikipedia.org/wiki/Anthem', 'https://en.wikipedia.org/wiki/Wells_Fargo', 'https://en.wikipedia.org/wiki/Citigroup', 'https://en.wikipedia.org/wiki/Valero_Energy', 'https://en.wikipedia.org/wiki/General_Electric', 'https://en.wikipedia.org/wiki/Dell_Technologies', 'https://en.wikipedia.org/wiki/Meta_Platforms,_Inc.', 'https://en.wikipedia.org/wiki/Johnson_&_Johnson', 'https://en.wikipedia.org/wiki/State_Farm', 'https://en.wikipedia.org/wiki/Target_Corporation', 'https://en.wikipedia.org/wiki/Intel', 'https://en.wikipedia.org/wiki/IBM', 'https://en.wikipedia.org/wiki/United_Technologies', 'https://en.wikipedia.org/wiki/Boeing', 'https://en.wikipedia.org/wiki/Procter_&_Gamble', 'https://en.wikipedia.org/wiki/Freddie_Mac', 'https://en.wikipedia.org/wiki/Centene', 'https://en.wikipedia.org/wiki/United_Parcel_Service', \"https://en.wikipedia.org/wiki/Lowe's\", 'https://en.wikipedia.org/wiki/PepsiCo', 'https://en.wikipedia.org/wiki/MetLife', 'https://en.wikipedia.org/wiki/The_Walt_Disney_Company', 'https://en.wikipedia.org/wiki/Lockheed_Martin', 'https://en.wikipedia.org/wiki/Humana', 'https://en.wikipedia.org/wiki/Prudential_Financial', 'https://en.wikipedia.org/wiki/Archer_Daniels_Midland', 'https://en.wikipedia.org/wiki/Albertsons', 'https://en.wikipedia.org/wiki/Sysco', 'https://en.wikipedia.org/wiki/HP_Inc.', 'https://en.wikipedia.org/wiki/Energy_Transfer_Partners', 'https://en.wikipedia.org/wiki/Goldman_Sachs', 'https://en.wikipedia.org/wiki/Morgan_Stanley', 'https://en.wikipedia.org/wiki/Caterpillar_Inc.', 'https://en.wikipedia.org/wiki/Cisco', 'https://en.wikipedia.org/wiki/Pfizer', 'https://en.wikipedia.org/wiki/HCA_Healthcare', 'https://en.wikipedia.org/wiki/AIG', 'https://en.wikipedia.org/wiki/American_Express', 'https://en.wikipedia.org/wiki/Delta_Air_Lines', 'https://en.wikipedia.org/wiki/Merck_&_Co.', 'https://en.wikipedia.org/wiki/American_Airlines', 'https://en.wikipedia.org/wiki/Charter_Communications', 'https://en.wikipedia.org/wiki/Allstate', 'https://en.wikipedia.org/wiki/New_York_Life_Insurance_Company', 'https://en.wikipedia.org/wiki/Nationwide_Mutual_Insurance_Company', 'https://en.wikipedia.org/wiki/Best_Buy', 'https://en.wikipedia.org/wiki/United_Airlines_Holdings', 'https://en.wikipedia.org/wiki/Liberty_Mutual_Group', 'https://en.wikipedia.org/wiki/Dow_Chemical_Company', 'https://en.wikipedia.org/wiki/Tyson_Foods', 'https://en.wikipedia.org/wiki/TJX', 'https://en.wikipedia.org/wiki/TIAA', 'https://en.wikipedia.org/wiki/Oracle_Corporation', 'https://en.wikipedia.org/wiki/General_Dynamics', 'https://en.wikipedia.org/wiki/John_Deere', 'https://en.wikipedia.org/wiki/Nike,_Inc.', 'https://en.wikipedia.org/wiki/Progressive_Corporation', 'https://en.wikipedia.org/wiki/Publix', 'https://en.wikipedia.org/wiki/Coca-Cola_Company', 'https://en.wikipedia.org/wiki/Massachusetts_Mutual_Life_Insurance_Company', 'https://en.wikipedia.org/wiki/Tech_Data', 'https://en.wikipedia.org/wiki/World_Fuel_Services', 'https://en.wikipedia.org/wiki/Honeywell', 'https://en.wikipedia.org/wiki/ConocoPhillips', 'https://en.wikipedia.org/wiki/USAA', 'https://en.wikipedia.org/wiki/Exelon', 'https://en.wikipedia.org/wiki/Northrop_Grumman', 'https://en.wikipedia.org/wiki/Capital_One', 'https://en.wikipedia.org/wiki/Plains_All_American_Pipeline', 'https://en.wikipedia.org/wiki/AbbVie', 'https://en.wikipedia.org/wiki/StoneX_Group_Inc.', 'https://en.wikipedia.org/wiki/Enterprise_Products', 'https://en.wikipedia.org/wiki/Northwestern_Mutual', 'https://en.wikipedia.org/wiki/3M', 'https://en.wikipedia.org/wiki/Abbott_Laboratories', 'https://en.wikipedia.org/wiki/CHS_Inc.', 'https://en.wikipedia.org/wiki/The_Travelers_Companies', 'https://en.wikipedia.org/wiki/Tesla,_Inc.', 'https://en.wikipedia.org/wiki/Philip_Morris_International', 'https://en.wikipedia.org/wiki/Raytheon_Company', 'https://en.wikipedia.org/wiki/Hewlett_Packard_Enterprise', 'https://en.wikipedia.org/wiki/Arrow_Electronics', 'https://en.wikipedia.org/wiki/ViacomCBS', 'https://en.wikipedia.org/wiki/Dollar_General', 'https://en.wikipedia.org/wiki/U.S._Bancorp', 'https://en.wikipedia.org/wiki/Starbucks', 'https://en.wikipedia.org/wiki/Bristol-Myers_Squibb', 'https://en.wikipedia.org/wiki/US_Foods', 'https://en.wikipedia.org/wiki/Mondelez_International', 'https://en.wikipedia.org/wiki/Paccar', 'https://en.wikipedia.org/wiki/Thermo_Fisher_Scientific', \"https://en.wikipedia.org/wiki/Macy's,_Inc.\", 'https://en.wikipedia.org/wiki/Jabil', 'https://en.wikipedia.org/wiki/Kraft_Heinz', 'https://en.wikipedia.org/wiki/Duke_Energy', 'https://en.wikipedia.org/wiki/PBF_Energy', 'https://en.wikipedia.org/wiki/Qualcomm', 'https://en.wikipedia.org/wiki/NGL_Energy_Partners', 'https://en.wikipedia.org/wiki/CBRE_Group', 'https://en.wikipedia.org/wiki/Baker_Hughes', 'https://en.wikipedia.org/wiki/Synnex', 'https://en.wikipedia.org/wiki/Dollar_Tree', 'https://en.wikipedia.org/wiki/Cummins', 'https://en.wikipedia.org/wiki/United_Natural_Foods', 'https://en.wikipedia.org/wiki/Micron_Technology', 'https://en.wikipedia.org/wiki/Amgen', 'https://en.wikipedia.org/wiki/Penske_Automotive_Group', 'https://en.wikipedia.org/wiki/Visa_Inc.', 'https://en.wikipedia.org/wiki/Broadcom_Inc.', 'https://en.wikipedia.org/wiki/Nucor', 'https://en.wikipedia.org/wiki/Gilead_Sciences', 'https://en.wikipedia.org/wiki/Southwest_Airlines', 'https://en.wikipedia.org/wiki/Halliburton', 'https://en.wikipedia.org/wiki/CenturyLink', 'https://en.wikipedia.org/wiki/International_Paper', 'https://en.wikipedia.org/wiki/Eli_Lilly_and_Company', 'https://en.wikipedia.org/wiki/Aflac', 'https://en.wikipedia.org/wiki/Lennar_Corporation', 'https://en.wikipedia.org/wiki/Occidental_Petroleum', 'https://en.wikipedia.org/wiki/Union_Pacific_Corporation', 'https://en.wikipedia.org/wiki/Rite_Aid', 'https://en.wikipedia.org/wiki/PNC_Financial_Services', 'https://en.wikipedia.org/wiki/DuPont', 'https://en.wikipedia.org/wiki/Southern_Company', 'https://en.wikipedia.org/wiki/AutoNation', 'https://en.wikipedia.org/wiki/DXC_Technology', \"https://en.wikipedia.org/wiki/McDonald's\", 'https://en.wikipedia.org/wiki/Marriott_International', 'https://en.wikipedia.org/wiki/ManpowerGroup', 'https://en.wikipedia.org/wiki/Bank_of_New_York_Mellon', 'https://en.wikipedia.org/wiki/Hartford_Financial_Services', 'https://en.wikipedia.org/wiki/Danaher_Corporation', 'https://en.wikipedia.org/wiki/Whirlpool_Corporation', 'https://en.wikipedia.org/wiki/AECOM', 'https://en.wikipedia.org/wiki/Netflix', \"https://en.wikipedia.org/wiki/Kohl's\", 'https://en.wikipedia.org/wiki/Lear_Corporation', 'https://en.wikipedia.org/wiki/Altria', 'https://en.wikipedia.org/wiki/Performance_Food_Group', 'https://en.wikipedia.org/wiki/Avnet', 'https://en.wikipedia.org/wiki/Synchrony_Financial', 'https://en.wikipedia.org/wiki/Genuine_Parts_Company', 'https://en.wikipedia.org/wiki/NextEra_Energy', 'https://en.wikipedia.org/wiki/CarMax', 'https://en.wikipedia.org/wiki/Tenet_Healthcare', 'https://en.wikipedia.org/wiki/Kimberly-Clark', 'https://en.wikipedia.org/wiki/Emerson_Electric', 'https://en.wikipedia.org/wiki/WestRock', 'https://en.wikipedia.org/wiki/CDW', 'https://en.wikipedia.org/wiki/JLL', 'https://en.wikipedia.org/wiki/Sherwin-Williams', 'https://en.wikipedia.org/wiki/Fluor_Corporation', 'https://en.wikipedia.org/wiki/PayPal', 'https://en.wikipedia.org/wiki/D._R._Horton', 'https://en.wikipedia.org/wiki/HollyFrontier', 'https://en.wikipedia.org/wiki/Tenneco', 'https://en.wikipedia.org/wiki/EOG_Resources', 'https://en.wikipedia.org/wiki/Becton,_Dickinson_and_Company', 'https://en.wikipedia.org/wiki/Lincoln_National_Corporation', 'https://en.wikipedia.org/wiki/Pacific_Gas_and_Electric_Company', 'https://en.wikipedia.org/wiki/Salesforce', 'https://en.wikipedia.org/wiki/Mastercard', 'https://en.wikipedia.org/wiki/General_Mills', 'https://en.wikipedia.org/wiki/Molina_Healthcare', 'https://en.wikipedia.org/wiki/Cognizant', 'https://en.wikipedia.org/wiki/Marsh_&_McLennan_Companies', 'https://en.wikipedia.org/wiki/XPO_Logistics', 'https://en.wikipedia.org/wiki/Dominion_Energy', 'https://en.wikipedia.org/wiki/Western_Digital', 'https://en.wikipedia.org/wiki/Gap_Inc.', 'https://en.wikipedia.org/wiki/Aramark', 'https://en.wikipedia.org/wiki/Principal_Financial_Group', 'https://en.wikipedia.org/wiki/Ross_Stores', 'https://en.wikipedia.org/wiki/Colgate-Palmolive', 'https://en.wikipedia.org/wiki/American_Electric_Power', 'https://en.wikipedia.org/wiki/Nordstrom', 'https://en.wikipedia.org/wiki/Jacobs_Engineering_Group', 'https://en.wikipedia.org/wiki/Waste_Management', 'https://en.wikipedia.org/wiki/C._H._Robinson', 'https://en.wikipedia.org/wiki/PPG_Industries', 'https://en.wikipedia.org/wiki/Booking_Holdings', 'https://en.wikipedia.org/wiki/Omnicom_Group', 'https://en.wikipedia.org/wiki/Loews_Corporation', 'https://en.wikipedia.org/wiki/Ecolab', 'https://en.wikipedia.org/wiki/Stryker_Corporation', 'https://en.wikipedia.org/wiki/Estée_Lauder_Companies', 'https://en.wikipedia.org/wiki/Goodyear_Tire_and_Rubber_Company', 'https://en.wikipedia.org/wiki/Truist_Financial', 'https://en.wikipedia.org/wiki/Applied_Materials', 'https://en.wikipedia.org/wiki/BlackRock', 'https://en.wikipedia.org/wiki/Stanley_Black_&_Decker', 'https://en.wikipedia.org/wiki/Freeport-McMoRan', 'https://en.wikipedia.org/wiki/Texas_Instruments', 'https://en.wikipedia.org/wiki/Biogen', 'https://en.wikipedia.org/wiki/Parker_Hannifin', 'https://en.wikipedia.org/wiki/Reinsurance_Group_of_America', 'https://en.wikipedia.org/wiki/Howmet_Aerospace', 'https://en.wikipedia.org/wiki/ADP', 'https://en.wikipedia.org/wiki/Uber', 'https://en.wikipedia.org/wiki/Illinois_Tool_Works', 'https://en.wikipedia.org/wiki/DaVita_Inc.', 'https://en.wikipedia.org/wiki/Discover_Financial', \"https://en.wikipedia.org/wiki/Land_O'Lakes\", 'https://en.wikipedia.org/wiki/VF_Corporation', 'https://en.wikipedia.org/wiki/Corteva', 'https://en.wikipedia.org/wiki/Las_Vegas_Sands', 'https://en.wikipedia.org/wiki/Textron', \"https://en.wikipedia.org/wiki/Kellogg's\", 'https://en.wikipedia.org/wiki/Guardian_Life_Insurance_Company_of_America', 'https://en.wikipedia.org/wiki/Qurate_Retail_Group', 'https://en.wikipedia.org/wiki/Core-Mark', 'https://en.wikipedia.org/wiki/Community_Health_Systems', 'https://en.wikipedia.org/wiki/Kinder_Morgan', \"https://en.wikipedia.org/wiki/BJ's_Wholesale_Club\", 'https://en.wikipedia.org/wiki/State_Street_Corporation', 'https://en.wikipedia.org/wiki/Ameriprise_Financial', 'https://en.wikipedia.org/wiki/Global_Partners', 'https://en.wikipedia.org/wiki/U.S._Steel', 'https://en.wikipedia.org/wiki/L_Brands', 'https://en.wikipedia.org/wiki/MGM_Resorts_International', 'https://en.wikipedia.org/wiki/L3Harris_Technologies', 'https://en.wikipedia.org/wiki/Dish_Network', 'https://en.wikipedia.org/wiki/Lithia_Motors', 'https://en.wikipedia.org/wiki/DTE_Energy', 'https://en.wikipedia.org/wiki/American_Family_Insurance', 'https://en.wikipedia.org/wiki/Farmers_Insurance_Group', 'https://en.wikipedia.org/wiki/Consolidated_Edison', 'https://en.wikipedia.org/wiki/LKQ_Corporation', 'https://en.wikipedia.org/wiki/Sempra_Energy', 'https://en.wikipedia.org/wiki/Edison_International', 'https://en.wikipedia.org/wiki/CenterPoint_Energy', 'https://en.wikipedia.org/wiki/Quanta_Services', 'https://en.wikipedia.org/wiki/Murphy_USA', 'https://en.wikipedia.org/wiki/Expedia_Group', 'https://en.wikipedia.org/wiki/Group_1_Automotive', 'https://en.wikipedia.org/wiki/Bed_Bath_&_Beyond', 'https://en.wikipedia.org/wiki/Unum', 'https://en.wikipedia.org/wiki/CSX_Corporation', 'https://en.wikipedia.org/wiki/AutoZone', 'https://en.wikipedia.org/wiki/Pacific_Life', 'https://en.wikipedia.org/wiki/Vistra_Energy', 'https://en.wikipedia.org/wiki/Charles_Schwab_Corporation', 'https://en.wikipedia.org/wiki/Crown_Holdings', 'https://en.wikipedia.org/wiki/Ally_Financial', 'https://en.wikipedia.org/wiki/LabCorp', 'https://en.wikipedia.org/wiki/Live_Nation_Entertainment', 'https://en.wikipedia.org/wiki/Xcel_Energy', 'https://en.wikipedia.org/wiki/Corning_Inc.', 'https://en.wikipedia.org/wiki/W._W._Grainger', 'https://en.wikipedia.org/wiki/Ball_Corporation', 'https://en.wikipedia.org/wiki/Fox_Corporation', 'https://en.wikipedia.org/wiki/Universal_Health_Services', 'https://en.wikipedia.org/wiki/Baxter_International', 'https://en.wikipedia.org/wiki/Norfolk_Southern_Corp', 'https://en.wikipedia.org/wiki/Navistar_International', 'https://en.wikipedia.org/wiki/Adobe_Inc.', 'https://en.wikipedia.org/wiki/J.C._Penney', 'https://en.wikipedia.org/wiki/Discovery,_Inc.', 'https://en.wikipedia.org/wiki/Keurig_Dr_Pepper', 'https://en.wikipedia.org/wiki/Leidos', 'https://en.wikipedia.org/wiki/IQVIA', 'https://en.wikipedia.org/wiki/Reliance_Steel_&_Aluminum_Co.', 'https://en.wikipedia.org/wiki/Nvidia', 'https://en.wikipedia.org/wiki/Entergy_Corp', 'https://en.wikipedia.org/wiki/FirstEnergy', 'https://en.wikipedia.org/wiki/eBay', 'https://en.wikipedia.org/wiki/Boston_Scientific', 'https://en.wikipedia.org/wiki/Office_Depot', 'https://en.wikipedia.org/wiki/Molson_Coors_Beverage_Company', 'https://en.wikipedia.org/wiki/Steel_Dynamics', 'https://en.wikipedia.org/wiki/Mutual_of_Omaha', 'https://en.wikipedia.org/wiki/Sonic_Automotive', 'https://en.wikipedia.org/wiki/Alcoa', 'https://en.wikipedia.org/wiki/FIS', 'https://en.wikipedia.org/wiki/Henry_Schein', 'https://en.wikipedia.org/wiki/Republic_Services', 'https://en.wikipedia.org/wiki/Liberty_Media', 'https://en.wikipedia.org/wiki/Kiewit_Corporation', 'https://en.wikipedia.org/wiki/Interpublic_Group_of_Companies', 'https://en.wikipedia.org/wiki/PulteGroup', 'https://en.wikipedia.org/wiki/AES_Corporation', 'https://en.wikipedia.org/wiki/Fiserv', 'https://en.wikipedia.org/wiki/BorgWarner', 'https://en.wikipedia.org/wiki/Oneok', \"https://en.wikipedia.org/wiki/O'Reilly_Auto_Parts\", 'https://en.wikipedia.org/wiki/Assurant', 'https://en.wikipedia.org/wiki/Newell_Brands', 'https://en.wikipedia.org/wiki/Public_Service_Enterprise_Group', 'https://en.wikipedia.org/wiki/News_Corp', 'https://en.wikipedia.org/wiki/Calpine', 'https://en.wikipedia.org/wiki/Auto-Owners_Insurance', 'https://en.wikipedia.org/wiki/Mohawk_Industries', 'https://en.wikipedia.org/wiki/Campbell_Soup_Company', 'https://en.wikipedia.org/wiki/PVH', 'https://en.wikipedia.org/wiki/NRG_Energy', 'https://en.wikipedia.org/wiki/Fifth_Third_Bank', 'https://en.wikipedia.org/wiki/Hertz_Corporation', 'https://en.wikipedia.org/wiki/Altice_USA', 'https://en.wikipedia.org/wiki/Newmont_Corporation', 'https://en.wikipedia.org/wiki/Cheniere_Energy', 'https://en.wikipedia.org/wiki/Advance_Auto_Parts', 'https://en.wikipedia.org/wiki/Lam_Research', 'https://en.wikipedia.org/wiki/Owens_&_Minor', 'https://en.wikipedia.org/wiki/Equitable_Holdings', 'https://en.wikipedia.org/wiki/Conagra_Brands', 'https://en.wikipedia.org/wiki/Markel_Corporation', 'https://en.wikipedia.org/wiki/Edward_Jones_Investments', 'https://en.wikipedia.org/wiki/Hormel', 'https://en.wikipedia.org/wiki/Hilton_Worldwide', 'https://en.wikipedia.org/wiki/Univar_Solutions', 'https://en.wikipedia.org/wiki/United_Rentals', 'https://en.wikipedia.org/wiki/Pioneer_Natural_Resources', 'https://en.wikipedia.org/wiki/Delek_US', 'https://en.wikipedia.org/wiki/Eastman_Chemical_Company', 'https://en.wikipedia.org/wiki/Emcor', 'https://en.wikipedia.org/wiki/Avis_Budget_Group', 'https://en.wikipedia.org/wiki/J._B._Hunt', 'https://en.wikipedia.org/wiki/Xerox', 'https://en.wikipedia.org/wiki/Wayfair', 'https://en.wikipedia.org/wiki/Kohlberg_Kravis_Roberts', 'https://en.wikipedia.org/wiki/AGCO', 'https://en.wikipedia.org/wiki/Alleghany_Corporation', 'https://en.wikipedia.org/wiki/Icahn_Enterprises', 'https://en.wikipedia.org/wiki/Voya_Financial', 'https://en.wikipedia.org/wiki/Ryder', 'https://en.wikipedia.org/wiki/Air_Products_&_Chemicals', 'https://en.wikipedia.org/wiki/The_Mosaic_Company', 'https://en.wikipedia.org/wiki/Huntington_Ingalls_Industries', 'https://en.wikipedia.org/wiki/Berry_Global', 'https://en.wikipedia.org/wiki/Anixter', 'https://en.wikipedia.org/wiki/Alaska_Air_Group', 'https://en.wikipedia.org/wiki/Yum_China', \"https://en.wikipedia.org/wiki/Dick's_Sporting_Goods\", 'https://en.wikipedia.org/wiki/Caesars_Entertainment', 'https://en.wikipedia.org/wiki/Genworth_Financial', 'https://en.wikipedia.org/wiki/Targa_Resources', 'https://en.wikipedia.org/wiki/Coty,_Inc.', 'https://en.wikipedia.org/wiki/Dana_Incorporated', 'https://en.wikipedia.org/wiki/Thrivent_Financial', 'https://en.wikipedia.org/wiki/Autoliv', 'https://en.wikipedia.org/wiki/SpartanNash', 'https://en.wikipedia.org/wiki/Eversource_Energy', 'https://en.wikipedia.org/wiki/Darden_Restaurants', 'https://en.wikipedia.org/wiki/Chesapeake_Energy', 'https://en.wikipedia.org/wiki/NOV_Inc.', 'https://en.wikipedia.org/wiki/Fidelity_National_Financial', 'https://en.wikipedia.org/wiki/Erie_Insurance_Group', 'https://en.wikipedia.org/wiki/Oshkosh_Corporation', \"https://en.wikipedia.org/wiki/Casey's_General_Stores\", 'https://en.wikipedia.org/wiki/WESCO_International', 'https://en.wikipedia.org/wiki/Tractor_Supply_Company', 'https://en.wikipedia.org/wiki/CommScope', 'https://en.wikipedia.org/wiki/Huntsman_Corporation', 'https://en.wikipedia.org/wiki/American_Financial_Group', 'https://en.wikipedia.org/wiki/Masco', 'https://en.wikipedia.org/wiki/Sanmina_Corporation', 'https://en.wikipedia.org/wiki/Amphenol', 'https://en.wikipedia.org/wiki/Williams_Companies', 'https://en.wikipedia.org/wiki/Westinghouse_Air_Brake_Company', 'https://en.wikipedia.org/wiki/Expeditors_International', 'https://en.wikipedia.org/wiki/The_Andersons', 'https://en.wikipedia.org/wiki/Westlake_Chemical', 'https://en.wikipedia.org/wiki/Constellation_Brands', 'https://en.wikipedia.org/wiki/Frontier_Communications', 'https://en.wikipedia.org/wiki/JetBlue', 'https://en.wikipedia.org/wiki/Citizens_Financial_Group', 'https://en.wikipedia.org/wiki/Raymond_James_Financial', 'https://en.wikipedia.org/wiki/Foot_Locker', 'https://en.wikipedia.org/wiki/The_Hershey_Company', 'https://en.wikipedia.org/wiki/Zimmer_Biomet', 'https://en.wikipedia.org/wiki/Cincinnati_Financial', 'https://en.wikipedia.org/wiki/Western_&_Southern_Financial_Group', 'https://en.wikipedia.org/wiki/W._R._Berkley', 'https://en.wikipedia.org/wiki/Motorola_Solutions', 'https://en.wikipedia.org/wiki/Thor_Industries', 'https://en.wikipedia.org/wiki/Regeneron_Pharmaceuticals', 'https://en.wikipedia.org/wiki/Spirit_AeroSystems', 'https://en.wikipedia.org/wiki/The_J.M._Smucker_Company', 'https://en.wikipedia.org/wiki/PPL_Corporation', 'https://en.wikipedia.org/wiki/Insight_Enterprises', 'https://en.wikipedia.org/wiki/Quest_Diagnostics', 'https://en.wikipedia.org/wiki/KeyBank', 'https://en.wikipedia.org/wiki/Veritiv', 'https://en.wikipedia.org/wiki/DCP_Midstream_Partners', 'https://en.wikipedia.org/wiki/American_Tower', 'https://en.wikipedia.org/wiki/Graybar', 'https://en.wikipedia.org/wiki/WEC_Energy_Group', 'https://en.wikipedia.org/wiki/NVR,_Inc.', 'https://en.wikipedia.org/wiki/Ulta_Beauty', 'https://en.wikipedia.org/wiki/Devon_Energy', 'https://en.wikipedia.org/wiki/The_Blackstone_Group', 'https://en.wikipedia.org/wiki/Dean_Foods', 'https://en.wikipedia.org/wiki/Fortive', 'https://en.wikipedia.org/wiki/UGI_Corporation', 'https://en.wikipedia.org/wiki/Burlington', 'https://en.wikipedia.org/wiki/Builders_FirstSource', 'https://en.wikipedia.org/wiki/Toll_Brothers', 'https://en.wikipedia.org/wiki/Old_Republic_International', 'https://en.wikipedia.org/wiki/Asbury_Automotive_Group', 'https://en.wikipedia.org/wiki/Arthur_J._Gallagher_&_Co.', 'https://en.wikipedia.org/wiki/MasTec', 'https://en.wikipedia.org/wiki/Owens_Corning', 'https://en.wikipedia.org/wiki/Magellan_Health', 'https://en.wikipedia.org/wiki/Dover_Corporation', 'https://en.wikipedia.org/wiki/Beacon_Building_Products', 'https://en.wikipedia.org/wiki/Avery_Dennison', 'https://en.wikipedia.org/wiki/Hanesbrands', 'https://en.wikipedia.org/wiki/Packaging_Corporation_of_America', 'https://en.wikipedia.org/wiki/M&T_Bank', 'https://en.wikipedia.org/wiki/NCR_Corporation', 'https://en.wikipedia.org/wiki/Northern_Trust', 'https://en.wikipedia.org/wiki/Cintas', 'https://en.wikipedia.org/wiki/Polaris_Inc.', 'https://en.wikipedia.org/wiki/CMS_Energy', 'https://en.wikipedia.org/wiki/Seaboard_Corporation', 'https://en.wikipedia.org/wiki/Intuit', 'https://en.wikipedia.org/wiki/Regions_Financial_Corporation', 'https://en.wikipedia.org/wiki/FM_Global', 'https://en.wikipedia.org/wiki/Advanced_Micro_Devices', 'https://en.wikipedia.org/wiki/Ovintiv', 'https://en.wikipedia.org/wiki/Booz_Allen_Hamilton', 'https://en.wikipedia.org/wiki/S&P_Global', 'https://en.wikipedia.org/wiki/Rockwell_Automation', 'https://en.wikipedia.org/wiki/O-I_Glass', 'https://en.wikipedia.org/wiki/Wynn_Resorts', 'https://en.wikipedia.org/wiki/Securian_Financial_Group', 'https://en.wikipedia.org/wiki/Alliance_Data', 'https://en.wikipedia.org/wiki/Brighthouse_Financial', 'https://en.wikipedia.org/wiki/Weyerhaeuser', 'https://en.wikipedia.org/wiki/Intercontinental_Exchange', 'https://en.wikipedia.org/wiki/American_Axle', 'https://en.wikipedia.org/wiki/Hess_Corporation', 'https://en.wikipedia.org/wiki/ABM_Industries', 'https://en.wikipedia.org/wiki/Activision_Blizzard', 'https://en.wikipedia.org/wiki/GameStop', 'https://en.wikipedia.org/wiki/APA_Corporation', 'https://en.wikipedia.org/wiki/Science_Applications_International_Corporation', 'https://en.wikipedia.org/wiki/AK_Steel_Holding', \"https://en.wikipedia.org/wiki/Dillard's\", 'https://en.wikipedia.org/wiki/Ralph_Lauren_Corporation', 'https://en.wikipedia.org/wiki/Celanese', 'https://en.wikipedia.org/wiki/RR_Donnelley', 'https://en.wikipedia.org/wiki/Zoetis', 'https://en.wikipedia.org/wiki/Ascena_Retail_Group', 'https://en.wikipedia.org/wiki/Clorox', 'https://en.wikipedia.org/wiki/Ingredion', 'https://en.wikipedia.org/wiki/First_American_Financial', 'https://en.wikipedia.org/wiki/Graphic_Packaging', 'https://en.wikipedia.org/wiki/HD_Supply', 'https://en.wikipedia.org/wiki/NetApp', 'https://en.wikipedia.org/wiki/TravelCenters_of_America', 'https://en.wikipedia.org/wiki/Olin_Corporation', 'https://en.wikipedia.org/wiki/Robert_Half_International', 'https://en.wikipedia.org/wiki/EnLink_Midstream', 'https://en.wikipedia.org/wiki/Avantor', 'https://en.wikipedia.org/wiki/Tapestry,_Inc.', 'https://en.wikipedia.org/wiki/TD_Ameritrade', 'https://en.wikipedia.org/wiki/Analog_Devices', 'https://en.wikipedia.org/wiki/Ameren', 'https://en.wikipedia.org/wiki/Williams-Sonoma,_Inc.', 'https://en.wikipedia.org/wiki/Realogy', 'https://en.wikipedia.org/wiki/Commercial_Metals_Company', 'https://en.wikipedia.org/wiki/Rush_Enterprises', 'https://en.wikipedia.org/wiki/Franklin_Templeton_Investments', 'https://en.wikipedia.org/wiki/Fortune_Brands_Home_&_Security', 'https://en.wikipedia.org/wiki/Levi_Strauss_&_Co.', 'https://en.wikipedia.org/wiki/Crown_Castle', 'https://en.wikipedia.org/wiki/Simon_Property_Group', 'https://en.wikipedia.org/wiki/Cerner', 'https://en.wikipedia.org/wiki/Post_Holdings', 'https://en.wikipedia.org/wiki/Huntington_Bancshares']\n"
          ]
        }
      ]
    },
    {
      "cell_type": "code",
      "metadata": {
        "colab": {
          "base_uri": "https://localhost:8080/"
        },
        "id": "OGp3HS0X0qtf",
        "outputId": "8a981b57-e224-41dc-ff54-9dcd67f47ca0"
      },
      "source": [
        "pages = []\n",
        "\n",
        "for url in company_list:\n",
        "    page = url.split(\"/\")[-1] #extract the company name at the end of the url\n",
        "\n",
        "    # An issue: some of the accent characters won't work.  We need to convert them\n",
        "    # into an HTML URL.  We'll split the URL, then use \"parse.quote\" to change\n",
        "    # the structure, then re-form the URL\n",
        "    url_list = list(urllib.parse.urlsplit(url))\n",
        "    url_list[2] = urllib.parse.quote(url_list[2])\n",
        "    url_ascii = urllib.parse.urlunsplit(url_list)\n",
        "    try:\n",
        "      response = urllib.request.urlopen((url_ascii))\n",
        "      #Save page and url for later use.\n",
        "      pages.append(response)\n",
        "    except urllib.error.URLError as e:\n",
        "      print(e.reason)"
      ],
      "execution_count": null,
      "outputs": [
        {
          "output_type": "stream",
          "name": "stdout",
          "text": [
            "Not Found\n",
            "Not Found\n",
            "Not Found\n"
          ]
        }
      ]
    },
    {
      "cell_type": "code",
      "metadata": {
        "id": "z9pD1163vAza"
      },
      "source": [
        "def long_desc_extract(tree, name):\n",
        "  t1 = tree.xpath('//p')[0]\n",
        "  try:\n",
        "    t1.append(tree.xpath('//p')[1])\n",
        "    t1.append(tree.xpath('//p')[2])\n",
        "  except IndexError:\n",
        "    print(\"Small Desc\")\n",
        "  desc = []\n",
        "  for ttt in t1:\n",
        "    desc.append(''.join(ttt.itertext()))\n",
        "\n",
        "  long_desc = (''.join(desc))\n",
        "  long_desc = re.sub(\"[\\(\\[].*?[\\)\\]]\", \"\", long_desc)\n",
        "  long_desc =  re.sub(' +', ' ', long_desc)\n",
        "  fixed_1 = (long_desc[long_desc.find(name.split()[0]):])\n",
        "  if (len(fixed_1) < 5):\n",
        "    fixed_1 = (long_desc[long_desc.find(name.split('-')[0]):])\n",
        "  if (len(fixed_1) < 5):\n",
        "    fixed_1 = (long_desc[long_desc.find(name.split()[0].upper()):])\n",
        "  if (len(fixed_1) < 5):\n",
        "    tot_name = name.split()[0][0] + name.split()[0][1:].lower()\n",
        "    fixed_1 = (long_desc[long_desc.find(tot_name):])\n",
        "  #remove part before until company name\n",
        "  \n",
        "  return fixed_1"
      ],
      "execution_count": null,
      "outputs": []
    },
    {
      "cell_type": "code",
      "metadata": {
        "colab": {
          "base_uri": "https://localhost:8080/"
        },
        "id": "rVBfmd4YzXWF",
        "outputId": "4776efd3-2bf3-498d-badc-37b371167b0b"
      },
      "source": [
        "from lxml import etree\n",
        "from urllib.parse import unquote\n",
        "\n",
        "exec_df = pd.DataFrame(columns=['name', 'ticker', 'short_desc', 'website'])\n",
        "\n",
        "for idx, page in enumerate(pages):   \n",
        "    tree = etree.HTML(page.read().decode(\"utf-8\"))  #create a DOM tree of the page\n",
        "    url = page.geturl()\n",
        "    name = url[url.rfind('/')+1:] # The part of the URL after the last /\n",
        "    name = unquote(name.replace('_', ' '))\n",
        "    short_desc = tree.xpath('//div[contains(@class,\"shortdescription\")]/text()')\n",
        "    tickerNYSE = tree.xpath('//a[contains(@href,\"nyse\")]/text()')\n",
        "    tickerNASDAQ = tree.xpath('//a[contains(@href,\"nasdaq\")]/text()')\n",
        "    long_desc = long_desc_extract(tree, name)\n",
        "    try:\n",
        "      ticker = (tickerNYSE + tickerNASDAQ)[0]\n",
        "    except IndexError:\n",
        "      ticker = None\n",
        "    website = tree.xpath('//th[contains(text(), \"Website\")]/following-sibling::td//a/@href')\n",
        "    try:\n",
        "      website = website[0]\n",
        "    except IndexError:\n",
        "      website = None\n",
        "    if (len(short_desc) > 0):\n",
        "      short = short_desc[0]\n",
        "    if name in ['Meta Platforms, Inc.', 'State Farm', 'United Technologies', 'Freddie Mac', 'New York Life Insurance Company'\\\n",
        "                'Nationwide Mutual Insurance Company', 'Liberty Mutual Group', 'Dow Chemical Company', 'TIAA', 'Publix', \\\n",
        "                'Farmers Insurance Group','Massachusetts Mutual Life Insurance Company', 'USAA', 'CHS Inc.', \"Land O'Lakes\", 'American Family Insurance',\\\n",
        "                'Pacific Life', 'J.C. Penney', 'Avantor', 'Mutual of Omaha','Kiewit Corporation','Auto-Owners Insurance', 'Kohlberg Kravis Roberts',\\\n",
        "                'Thrivent Financial', 'KeyBank', 'DCP Midstream Partners', 'Graybar', 'FM Global', 'Securian Financial Group',\\\n",
        "                'Franklin Templeton Investments']: continue\n",
        "    if name == 'Uber': name = 'Uber Technologies'\n",
        "    if name == 'Fannie Mae': ticker = 'FNMA'\n",
        "    if name == \"Kellogg's\": name = 'Kellogg'\n",
        "    if name == 'FIS': name = \"Fidelity National Information Servcs Inc\"\n",
        "    if name == \"Kimberly-Clark\": name = 'Kimberly Clark'\n",
        "    \n",
        "    exec_df = exec_df.append({'name': name, 'ticker': ticker, 'website': website,\n",
        "                'short_desc': short, 'long_desc':long_desc}, ignore_index=True)\n",
        "\n",
        "exec_df=exec_df.drop_duplicates(subset=['name'])"
      ],
      "execution_count": null,
      "outputs": [
        {
          "output_type": "stream",
          "name": "stdout",
          "text": [
            "Small Desc\n",
            "Small Desc\n",
            "Small Desc\n",
            "Small Desc\n",
            "Small Desc\n",
            "Small Desc\n",
            "Small Desc\n",
            "Small Desc\n",
            "Small Desc\n",
            "Small Desc\n"
          ]
        }
      ]
    },
    {
      "cell_type": "code",
      "metadata": {
        "id": "cXtDSrXkXyim"
      },
      "source": [
        "exec_df.to_csv(\"COMP.csv\")"
      ],
      "execution_count": null,
      "outputs": []
    },
    {
      "cell_type": "markdown",
      "metadata": {
        "id": "T65LlxM85YY8"
      },
      "source": [
        "Getting the News Articles"
      ]
    },
    {
      "cell_type": "code",
      "metadata": {
        "id": "mgGlY3pf5XeQ"
      },
      "source": [
        "def news_for_company(company, count):\n",
        "     \n",
        "    # BBC news api\n",
        "    # following query parameters are used\n",
        "    # source, sortBy and apiKey\n",
        "\n",
        "    apiKeys = ['45bcdb0400ae42528a19416ef87bef5d',\n",
        "               'a549306a2c0d4e37b61a99453c6a4257',\n",
        "               'c341933c334f4ced9d49626672c5b325',\n",
        "               'e0a9571efefb4c098dbb624edfe0473e',\n",
        "               '5db6d48108aa4234b9308423606e5e55'\n",
        "               ]\n",
        "    count = count//100\n",
        "\n",
        "\n",
        "\n",
        "    query_params = {\n",
        "      \"q\": company,\n",
        "      \"qInTitle\": company,\n",
        "      \"sortBy\" : \"relevancy\",\n",
        "      \"apiKey\": '0b44028d95fc46abb6b094060f3ba3c6'\n",
        "    }\n",
        "\n",
        "    main_url = \"https://newsapi.org/v2/everything\"\n",
        " \n",
        "    # fetching data in json format\n",
        "    res = requests.get(main_url, params=query_params)\n",
        "    open_bbc_page = res.json()\n",
        " \n",
        "    # getting all articles in a string article\n",
        "    try:\n",
        "      articles = open_bbc_page[\"articles\"]\n",
        "    except KeyError:\n",
        "      articles = []\n",
        "\n",
        "    return articles[:3]"
      ],
      "execution_count": null,
      "outputs": []
    },
    {
      "cell_type": "code",
      "metadata": {
        "id": "UURwTGGW5K3R",
        "colab": {
          "base_uri": "https://localhost:8080/"
        },
        "outputId": "2d3d1e36-2ed0-48eb-eeae-43e20a12ff1e"
      },
      "source": [
        "import requests  \n",
        "\n",
        "news_url_df = pd.DataFrame(columns = ['author', 'title', 'description', 'url', 'urlToImage', 'publishedAt', 'content', 'source.name'])\n",
        "count = 1\n",
        "for company in company_total_df['Name']:\n",
        "  articles = news_for_company(company, count)\n",
        "  print(articles)\n",
        "  break\n",
        "  count=+1\n",
        "  for ar in articles:\n",
        "    df = pd.json_normalize(ar)\n",
        "    df['company']=company\n",
        "    news_url_df = news_url_df.append(df)\n",
        "    break\n",
        "  break\n",
        "\n",
        "news_url_df.to_csv('news_articles_with_company.csv')"
      ],
      "execution_count": null,
      "outputs": [
        {
          "output_type": "stream",
          "name": "stdout",
          "text": [
            "[{'source': {'id': 'wired', 'name': 'Wired'}, 'author': 'Beth Mole, Ars Technica', 'title': 'A Deadly Microbe Mystery Leads to a Spray Sold at Walmart', 'description': 'A series of puzzling infections has been traced to the presence of a dangerous bacterium in an aromatherapy spray.', 'url': 'https://www.wired.com/story/deadly-microbe-mystery-walmart-spray/', 'urlToImage': 'https://media.wired.com/photos/617b10022e017071a37d8bb6/191:100/w_1280,c_limit/Science_WIREDUK_GettyImages-509399592.jpg', 'publishedAt': '2021-10-29T13:00:00Z', 'content': 'The Centers for Disease Control and Prevention on Tuesday confirmed that an aromatherapy gemstone spray sold at Walmart is linked to four mysterious bacterial infections in four different states. The… [+3728 chars]'}, {'source': {'id': 'the-verge', 'name': 'The Verge'}, 'author': 'Richard Lawler', 'title': 'A fake press release claiming Kroger accepts crypto reached the retailer’s own webpage', 'description': 'A crypto hoax claimed Kroger is accepting Bitcoin Cash. The fake press release was similar to one targeting Walmart earlier this year. The retailer quickly confirmed it’s fake, but not before the cryptocurrency’s price spiked by $30.', 'url': 'https://www.theverge.com/2021/11/5/22765098/kroger-bitcoin-cash-cryptocurrency-hoax-pump-dump', 'urlToImage': 'https://cdn.vox-cdn.com/thumbor/CKp0YjnwF88--mWg1kfPmspvfzY=/0x358:5000x2976/fit-in/1200x630/cdn.vox-cdn.com/uploads/chorus_asset/file/22988084/1234440443.jpg', 'publishedAt': '2021-11-05T13:32:14Z', 'content': 'A similar hoax earlier this year tied Walmart to Litecoin\\r\\nIf you buy something from a Verge link, Vox Media may earn a commission. See our ethics statement.\\r\\nPhoto Illustration by Thiago Prudencio/S… [+1900 chars]'}, {'source': {'id': 'the-verge', 'name': 'The Verge'}, 'author': 'Cameron Faulkner', 'title': 'Insignia’s 55-inch QLED 4K TV is just $400 for today only', 'description': 'The best deals you can get right now include Insignia’s F50 55-inch 4K TV with a QLED panel for $400. You can also save $100 on Apple’s latest 11-inch iPad Pro, and Walmart is offering a great discount on Samsung’s Galaxy Buds Plus.', 'url': 'https://www.theverge.com/good-deals/2021/11/4/22763071/insignia-tv-ipad-pro-samsung-galaxy-buds-steam-game-deals-sale-best-buy-amazon', 'urlToImage': 'https://cdn.vox-cdn.com/thumbor/O6G5dyQEGuIGpOtoDu0reCVLAM8=/0x158:2517x1476/fit-in/1200x630/cdn.vox-cdn.com/uploads/chorus_asset/file/22758154/B823E2AA_EE2D_4D51_9125_88DEF71EF1B4.jpeg', 'publishedAt': '2021-11-04T13:04:24Z', 'content': 'Plus, get a bargain on Samsungs Galaxy Buds Plus, the 11-inch iPad Pro, and more\\r\\nIf you buy something from a Verge link, Vox Media may earn a commission. See our ethics statement.\\r\\nImage: Amazon\\r\\nTh… [+4254 chars]'}]\n"
          ]
        }
      ]
    },
    {
      "cell_type": "code",
      "metadata": {
        "colab": {
          "base_uri": "https://localhost:8080/",
          "height": 49
        },
        "id": "eJcep2ihY_1S",
        "outputId": "8f619bfc-77c4-48c8-d536-dc808912599c"
      },
      "source": [
        "news_url_df"
      ],
      "execution_count": null,
      "outputs": [
        {
          "output_type": "execute_result",
          "data": {
            "text/html": [
              "<div>\n",
              "<style scoped>\n",
              "    .dataframe tbody tr th:only-of-type {\n",
              "        vertical-align: middle;\n",
              "    }\n",
              "\n",
              "    .dataframe tbody tr th {\n",
              "        vertical-align: top;\n",
              "    }\n",
              "\n",
              "    .dataframe thead th {\n",
              "        text-align: right;\n",
              "    }\n",
              "</style>\n",
              "<table border=\"1\" class=\"dataframe\">\n",
              "  <thead>\n",
              "    <tr style=\"text-align: right;\">\n",
              "      <th></th>\n",
              "      <th>author</th>\n",
              "      <th>title</th>\n",
              "      <th>description</th>\n",
              "      <th>url</th>\n",
              "      <th>urlToImage</th>\n",
              "      <th>publishedAt</th>\n",
              "      <th>content</th>\n",
              "      <th>source.name</th>\n",
              "    </tr>\n",
              "  </thead>\n",
              "  <tbody>\n",
              "  </tbody>\n",
              "</table>\n",
              "</div>"
            ],
            "text/plain": [
              "Empty DataFrame\n",
              "Columns: [author, title, description, url, urlToImage, publishedAt, content, source.name]\n",
              "Index: []"
            ]
          },
          "metadata": {},
          "execution_count": 14
        }
      ]
    },
    {
      "cell_type": "markdown",
      "metadata": {
        "id": "f5FIa_P_Tj85"
      },
      "source": [
        "Make ESG Entity"
      ]
    },
    {
      "cell_type": "code",
      "metadata": {
        "id": "fBdYicj7Wghn"
      },
      "source": [
        "exec_df = exec_df[exec_df['long_desc'].notna()]\n",
        "exec_df = exec_df[exec_df['website'].notna()]\n",
        "exec_df = exec_df[exec_df['ticker'].notna()]"
      ],
      "execution_count": null,
      "outputs": []
    },
    {
      "cell_type": "code",
      "metadata": {
        "id": "E91WhsgROA_P"
      },
      "source": [
        "main_simple_df = exec_df[['name', 'ticker']].reset_index(drop=True)\n",
        "main_simple_df.to_csv('main_name_ticker.csv')"
      ],
      "execution_count": null,
      "outputs": []
    },
    {
      "cell_type": "code",
      "metadata": {
        "colab": {
          "base_uri": "https://localhost:8080/",
          "height": 595
        },
        "id": "FLZ1TGhnV4j1",
        "outputId": "eb819449-b248-4c17-f381-99556f5c8381"
      },
      "source": [
        "conn = sqlite3.connect('local.db')\n",
        "\n",
        "exec_df.to_sql(\"companies\", conn, if_exists=\"replace\", index=False)\n",
        "\n",
        "pd.read_sql_query('select * from companies', conn)"
      ],
      "execution_count": null,
      "outputs": [
        {
          "output_type": "execute_result",
          "data": {
            "text/html": [
              "<div>\n",
              "<style scoped>\n",
              "    .dataframe tbody tr th:only-of-type {\n",
              "        vertical-align: middle;\n",
              "    }\n",
              "\n",
              "    .dataframe tbody tr th {\n",
              "        vertical-align: top;\n",
              "    }\n",
              "\n",
              "    .dataframe thead th {\n",
              "        text-align: right;\n",
              "    }\n",
              "</style>\n",
              "<table border=\"1\" class=\"dataframe\">\n",
              "  <thead>\n",
              "    <tr style=\"text-align: right;\">\n",
              "      <th></th>\n",
              "      <th>name</th>\n",
              "      <th>ticker</th>\n",
              "      <th>short_desc</th>\n",
              "      <th>website</th>\n",
              "      <th>long_desc</th>\n",
              "    </tr>\n",
              "  </thead>\n",
              "  <tbody>\n",
              "    <tr>\n",
              "      <th>0</th>\n",
              "      <td>Walmart</td>\n",
              "      <td>WMT</td>\n",
              "      <td>American multinational retail chain</td>\n",
              "      <td>http://walmart.com</td>\n",
              "      <td>Walmart Inc. is an American multinational retail corporation that operates a chain of hypermarke...</td>\n",
              "    </tr>\n",
              "    <tr>\n",
              "      <th>1</th>\n",
              "      <td>Amazon.com</td>\n",
              "      <td>AMZN</td>\n",
              "      <td>American multinational technology company</td>\n",
              "      <td>http://amazon.com</td>\n",
              "      <td>Amazon.com, Inc. is an American multinational technology company which focuses on e-commerce, cl...</td>\n",
              "    </tr>\n",
              "    <tr>\n",
              "      <th>2</th>\n",
              "      <td>Apple Inc.</td>\n",
              "      <td>AAPL</td>\n",
              "      <td>American multinational technology company</td>\n",
              "      <td>https://www.apple.com</td>\n",
              "      <td>Apple Inc. is an American multinational technology company that specializes in consumer electron...</td>\n",
              "    </tr>\n",
              "    <tr>\n",
              "      <th>3</th>\n",
              "      <td>CVS Health</td>\n",
              "      <td>CVS</td>\n",
              "      <td>American healthcare company</td>\n",
              "      <td>http://cvshealth.com</td>\n",
              "      <td>CVS Health Corporation is an American healthcare company that owns CVS Pharmacy, a retail pharma...</td>\n",
              "    </tr>\n",
              "    <tr>\n",
              "      <th>4</th>\n",
              "      <td>ExxonMobil</td>\n",
              "      <td>XOM</td>\n",
              "      <td>American multinational oil and gas corporation</td>\n",
              "      <td>https://corporate.exxonmobil.com/</td>\n",
              "      <td>ExxonMobil, is an American multinational oil and gas corporation headquartered in Irving, Texas....</td>\n",
              "    </tr>\n",
              "    <tr>\n",
              "      <th>...</th>\n",
              "      <td>...</td>\n",
              "      <td>...</td>\n",
              "      <td>...</td>\n",
              "      <td>...</td>\n",
              "      <td>...</td>\n",
              "    </tr>\n",
              "    <tr>\n",
              "      <th>431</th>\n",
              "      <td>Crown Castle</td>\n",
              "      <td>CCI</td>\n",
              "      <td>American real estate investment trust</td>\n",
              "      <td>http://crowncastle.com</td>\n",
              "      <td>Crown Castlereal estate investment trustHeadquartered in Houston, Texas, the company has 100 off...</td>\n",
              "    </tr>\n",
              "    <tr>\n",
              "      <th>432</th>\n",
              "      <td>Simon Property Group</td>\n",
              "      <td>SPG</td>\n",
              "      <td>International real estate investment trust founded in the United States</td>\n",
              "      <td>http://simon.com</td>\n",
              "      <td>Simon Property Group, Inc.real estate investment trustshopping mallsoutlet centerslifestyle cent...</td>\n",
              "    </tr>\n",
              "    <tr>\n",
              "      <th>433</th>\n",
              "      <td>Cerner</td>\n",
              "      <td>CERN</td>\n",
              "      <td>American healthcare company</td>\n",
              "      <td>http://www.cerner.com</td>\n",
              "      <td>Cerner Corporationhealth information technologyKansas City, MissouriNorth Kansas City, MissouriC...</td>\n",
              "    </tr>\n",
              "    <tr>\n",
              "      <th>434</th>\n",
              "      <td>Post Holdings</td>\n",
              "      <td>POST</td>\n",
              "      <td>American consumer packaged goods holding company</td>\n",
              "      <td>https://www.postholdings.com/</td>\n",
              "      <td>Post HoldingsPost Holdings, Inc.consumer packaged goodsBrentwood, MissouriThrough its Post Refri...</td>\n",
              "    </tr>\n",
              "    <tr>\n",
              "      <th>435</th>\n",
              "      <td>Huntington Bancshares</td>\n",
              "      <td>HBAN</td>\n",
              "      <td>Bank holding company headquartered in Columbus, Ohio</td>\n",
              "      <td>http://huntington.com</td>\n",
              "      <td>Huntington Bancshares Incorporated is an American bank holding company headquartered in Columbus...</td>\n",
              "    </tr>\n",
              "  </tbody>\n",
              "</table>\n",
              "<p>436 rows × 5 columns</p>\n",
              "</div>"
            ],
            "text/plain": [
              "                      name  ...                                                                                            long_desc\n",
              "0                  Walmart  ...  Walmart Inc. is an American multinational retail corporation that operates a chain of hypermarke...\n",
              "1               Amazon.com  ...  Amazon.com, Inc. is an American multinational technology company which focuses on e-commerce, cl...\n",
              "2               Apple Inc.  ...  Apple Inc. is an American multinational technology company that specializes in consumer electron...\n",
              "3               CVS Health  ...  CVS Health Corporation is an American healthcare company that owns CVS Pharmacy, a retail pharma...\n",
              "4               ExxonMobil  ...  ExxonMobil, is an American multinational oil and gas corporation headquartered in Irving, Texas....\n",
              "..                     ...  ...                                                                                                  ...\n",
              "431           Crown Castle  ...  Crown Castlereal estate investment trustHeadquartered in Houston, Texas, the company has 100 off...\n",
              "432   Simon Property Group  ...  Simon Property Group, Inc.real estate investment trustshopping mallsoutlet centerslifestyle cent...\n",
              "433                 Cerner  ...  Cerner Corporationhealth information technologyKansas City, MissouriNorth Kansas City, MissouriC...\n",
              "434          Post Holdings  ...  Post HoldingsPost Holdings, Inc.consumer packaged goodsBrentwood, MissouriThrough its Post Refri...\n",
              "435  Huntington Bancshares  ...  Huntington Bancshares Incorporated is an American bank holding company headquartered in Columbus...\n",
              "\n",
              "[436 rows x 5 columns]"
            ]
          },
          "metadata": {},
          "execution_count": 18
        }
      ]
    },
    {
      "cell_type": "code",
      "metadata": {
        "id": "D2DnOf7jLk52"
      },
      "source": [
        "exec_df.to_csv('company_ese_450.csv')"
      ],
      "execution_count": null,
      "outputs": []
    },
    {
      "cell_type": "markdown",
      "metadata": {
        "id": "rYVc1GlmOExt"
      },
      "source": [
        "HERE IS ROBINHOOD API ---------------------------------------------------------------------------------------------------------------------------------------------------------------------------------------------------\n"
      ]
    },
    {
      "cell_type": "code",
      "metadata": {
        "id": "GYMnHQCeROFL"
      },
      "source": [
        "!pip3 install robin_stocks\n",
        "!git clone https://github.com/jmfernandes/robin_stocks.git\n",
        "!cd robin_stocks\n",
        "!pip install ."
      ],
      "execution_count": null,
      "outputs": []
    },
    {
      "cell_type": "code",
      "metadata": {
        "id": "JNyjCUZlPI7X"
      },
      "source": [
        "\n",
        "import robin_stocks as r\n",
        "import pandas as pd\n",
        "from datetime import datetime\n",
        "from decimal import Decimal\n",
        "import logging\n",
        "from logging.handlers import TimedRotatingFileHandler\n",
        "import pandas as pd\n",
        "import plotly.express as px \n",
        "from plotly.subplots import make_subplots\n",
        "import plotly.graph_objects as go\n",
        "\n",
        "import pandas as pd\n",
        "import datetime as dt\n",
        "import pandas_datareader.data as web\n",
        "import plotly.express as px\n",
        "import plotly.graph_objects as go"
      ],
      "execution_count": null,
      "outputs": []
    },
    {
      "cell_type": "code",
      "metadata": {
        "colab": {
          "base_uri": "https://localhost:8080/"
        },
        "id": "ofHmBH0uBVl5",
        "outputId": "ad55199a-6554-48c8-9f4b-02c7e1b2f813"
      },
      "source": [
        "import robin_stocks as rh\n",
        "import json\n",
        "\n",
        "config=open('/content/config.json').read()\n",
        "content=json.loads(config)\n",
        "\n",
        "rh.robinhood.authentication.login(content['username'], content['password'])"
      ],
      "execution_count": null,
      "outputs": [
        {
          "output_type": "execute_result",
          "data": {
            "text/plain": [
              "{'access_token': 'eyJ0eXAiOiJKV1QiLCJhbGciOiJSUzI1NiJ9.eyJleHAiOjE2MzY3NTQ2MjEsInRva2VuIjoiNVlFOUEyVU56Nmdoczl6azZqT3FaaGFJSzJVT202IiwidXNlcl9pZCI6ImZiMGU1MDFmLTIwZDUtNDU0Mi1hNTc0LTQyMTA0MzhjMjA3MCIsImRldmljZV9oYXNoIjoiMTNhNzNmMjIzNDhmNGMyMWJkODUzMGQ0NmMzODQzYWMiLCJzY29wZSI6ImludGVybmFsIiwiZGN0IjoxNjM2MzAyNDcyLCJzZXJ2aWNlX3JlY29yZHMiOlt7ImhhbHRlZCI6ZmFsc2UsInNlcnZpY2UiOiJudW1tdXNfdXMiLCJzaGFyZF9pZCI6MSwic3RhdGUiOiJhdmFpbGFibGUifSx7ImhhbHRlZCI6ZmFsc2UsInNlcnZpY2UiOiJicm9rZWJhY2tfdXMiLCJzaGFyZF9pZCI6MTEsInN0YXRlIjoiYXZhaWxhYmxlIn1dLCJ1c2VyX29yaWdpbiI6IlVTIiwib3B0aW9ucyI6dHJ1ZSwibGV2ZWwyX2FjY2VzcyI6ZmFsc2V9.A5H3D4azgB-kAlQoTh9oHkmchkd3Rf2DwYvJ9h2AdFZPLVOE9pu8VxkPncnUeP88LG0cha9nRp-TTRiopSLUuDIAHS7Mrww_8lPlWTKNiDvsvGrw7olPrTwLilNVxF9ifJd0BAc7vrrqA6PKvOzRocnGeBy7VKdAmTLUG2TZIhu02xAfE5PYJwKtyKzEt_LPb4CwG-zN-bqybQGD6B6-L0VxMAIwM5ynr-U0eXo57sWkBVUN52WP1b2EeEGMFc0j-Cz3MeTPXfRrwBlBdb2r6NK4tYApYAw_uNrkl7fNLZAWH0mKFJW0ajDi1DkGfr96AIV-5Zu1rzcYp9ZzHQNJ5Q',\n",
              " 'backup_code': None,\n",
              " 'detail': 'logged in using authentication in robinhood.pickle',\n",
              " 'expires_in': 86400,\n",
              " 'refresh_token': 'C1a0UABUsqZlSxk3l9sSr1gI3ckJvV',\n",
              " 'scope': 'internal',\n",
              " 'token_type': 'Bearer'}"
            ]
          },
          "metadata": {},
          "execution_count": 120
        }
      ]
    },
    {
      "cell_type": "code",
      "metadata": {
        "id": "PkmygyR_ETu0"
      },
      "source": [
        "ll = rh.robinhood.account.build_holdings()"
      ],
      "execution_count": null,
      "outputs": []
    },
    {
      "cell_type": "code",
      "metadata": {
        "id": "Z94ev6K1Now0"
      },
      "source": [
        "klf = rh.robinhood.profiles.load_portfolio_profile"
      ],
      "execution_count": null,
      "outputs": []
    },
    {
      "cell_type": "code",
      "metadata": {
        "colab": {
          "base_uri": "https://localhost:8080/"
        },
        "id": "ApFCkcGvNsFM",
        "outputId": "e0a3c699-184b-4b6d-9648-dab33d478df2"
      },
      "source": [
        "rh.robinhood.stocks.get_fundamentals('TSLA')"
      ],
      "execution_count": null,
      "outputs": [
        {
          "output_type": "execute_result",
          "data": {
            "text/plain": [
              "[{'average_volume': '40120982.800000',\n",
              "  'average_volume_2_weeks': '40120982.800000',\n",
              "  'ceo': 'Elon Reeve Musk',\n",
              "  'description': 'Tesla, Inc. engages in the design, development, manufacture, and sale of fully electric vehicles, energy generation and storage systems. It also provides vehicle service centers, supercharger station, and self-driving capability. The company operates through the following segments: Automotive and Energy Generation and Storage. The Automotive segment includes the design, development, manufacture and sale of electric vehicles. The Energy Generation and Storage segment includes the design, manufacture, installation, sale, and lease of stationary energy storage products and solar energy systems, and sale of electricity generated by its solar energy systems to customers. It develops energy storage products for use in homes, commercial facilities and utility sites. The company was founded by Jeffrey B. Straubel, Elon Reeve Musk, Martin Eberhard, and Marc Tarpenning on July 1, 2003 and is headquartered in Palo Alto, CA.',\n",
              "  'dividend_yield': None,\n",
              "  'float': '813631366.800000',\n",
              "  'headquarters_city': 'Palo Alto',\n",
              "  'headquarters_state': 'California',\n",
              "  'high': '1239.800000',\n",
              "  'high_52_weeks': '1243.490000',\n",
              "  'industry': 'Motor Vehicles',\n",
              "  'instrument': 'https://api.robinhood.com/instruments/e39ed23a-7bd1-4587-b060-71988d9ef483/',\n",
              "  'low': '1208.000000',\n",
              "  'low_52_weeks': '396.030100',\n",
              "  'market_cap': '1227302023915.367920',\n",
              "  'market_date': '2021-11-05',\n",
              "  'num_employees': 70757,\n",
              "  'open': '1228.450000',\n",
              "  'pb_ratio': '43.367000',\n",
              "  'pe_ratio': '395.703000',\n",
              "  'sector': 'Consumer Durables',\n",
              "  'shares_outstanding': '1004264844.582124',\n",
              "  'symbol': 'TSLA',\n",
              "  'volume': '21628044.000000',\n",
              "  'year_founded': 2003}]"
            ]
          },
          "metadata": {},
          "execution_count": 129
        }
      ]
    },
    {
      "cell_type": "code",
      "metadata": {
        "id": "0ZTjCCEAIglb"
      },
      "source": [
        "stocks_df = pd.DataFrame.from_dict(ll, orient='index')"
      ],
      "execution_count": null,
      "outputs": []
    },
    {
      "cell_type": "code",
      "metadata": {
        "colab": {
          "base_uri": "https://localhost:8080/",
          "height": 983
        },
        "id": "iKbPuxq5sp6Z",
        "outputId": "e9e16539-4438-4f1c-d686-b10d58ad95f4"
      },
      "source": [
        "stocks_df"
      ],
      "execution_count": null,
      "outputs": [
        {
          "output_type": "execute_result",
          "data": {
            "text/html": [
              "<div>\n",
              "<style scoped>\n",
              "    .dataframe tbody tr th:only-of-type {\n",
              "        vertical-align: middle;\n",
              "    }\n",
              "\n",
              "    .dataframe tbody tr th {\n",
              "        vertical-align: top;\n",
              "    }\n",
              "\n",
              "    .dataframe thead th {\n",
              "        text-align: right;\n",
              "    }\n",
              "</style>\n",
              "<table border=\"1\" class=\"dataframe\">\n",
              "  <thead>\n",
              "    <tr style=\"text-align: right;\">\n",
              "      <th></th>\n",
              "      <th>price</th>\n",
              "      <th>quantity</th>\n",
              "      <th>average_buy_price</th>\n",
              "      <th>equity</th>\n",
              "      <th>percent_change</th>\n",
              "      <th>intraday_percent_change</th>\n",
              "      <th>equity_change</th>\n",
              "      <th>type</th>\n",
              "      <th>name</th>\n",
              "      <th>id</th>\n",
              "      <th>pe_ratio</th>\n",
              "      <th>percentage</th>\n",
              "    </tr>\n",
              "  </thead>\n",
              "  <tbody>\n",
              "    <tr>\n",
              "      <th>NIO</th>\n",
              "      <td>42.320000</td>\n",
              "      <td>34.18391900</td>\n",
              "      <td>46.7179</td>\n",
              "      <td>1446.66</td>\n",
              "      <td>-9.41</td>\n",
              "      <td>0.00</td>\n",
              "      <td>-150.337457</td>\n",
              "      <td>adr</td>\n",
              "      <td>NIO</td>\n",
              "      <td>9f1399e5-5023-425a-9eb5-cd3f91560189</td>\n",
              "      <td>None</td>\n",
              "      <td>46.46</td>\n",
              "    </tr>\n",
              "    <tr>\n",
              "      <th>SNAP</th>\n",
              "      <td>53.080000</td>\n",
              "      <td>0.03492100</td>\n",
              "      <td>55.8403</td>\n",
              "      <td>1.85</td>\n",
              "      <td>-4.94</td>\n",
              "      <td>0.00</td>\n",
              "      <td>-0.096392</td>\n",
              "      <td>stock</td>\n",
              "      <td>Snap</td>\n",
              "      <td>1e513292-5926-4dc4-8c3d-4af6b5836704</td>\n",
              "      <td>None</td>\n",
              "      <td>0.06</td>\n",
              "    </tr>\n",
              "    <tr>\n",
              "      <th>SNDL</th>\n",
              "      <td>0.649000</td>\n",
              "      <td>131.56003400</td>\n",
              "      <td>1.9200</td>\n",
              "      <td>85.38</td>\n",
              "      <td>-66.20</td>\n",
              "      <td>0.00</td>\n",
              "      <td>-167.212803</td>\n",
              "      <td>stock</td>\n",
              "      <td>Sundial Growers</td>\n",
              "      <td>4e5f3782-d87a-4b16-824f-ec4076c55e49</td>\n",
              "      <td>None</td>\n",
              "      <td>2.74</td>\n",
              "    </tr>\n",
              "    <tr>\n",
              "      <th>TLRY</th>\n",
              "      <td>10.810000</td>\n",
              "      <td>6.76585700</td>\n",
              "      <td>31.9250</td>\n",
              "      <td>73.14</td>\n",
              "      <td>-66.14</td>\n",
              "      <td>0.00</td>\n",
              "      <td>-142.861071</td>\n",
              "      <td>stock</td>\n",
              "      <td>Tilray</td>\n",
              "      <td>1ca933b1-ec38-45f3-b815-7d2189103133</td>\n",
              "      <td>None</td>\n",
              "      <td>2.35</td>\n",
              "    </tr>\n",
              "    <tr>\n",
              "      <th>LAZR</th>\n",
              "      <td>16.799900</td>\n",
              "      <td>1.36684500</td>\n",
              "      <td>32.4324</td>\n",
              "      <td>22.96</td>\n",
              "      <td>-48.20</td>\n",
              "      <td>0.00</td>\n",
              "      <td>-21.367204</td>\n",
              "      <td>stock</td>\n",
              "      <td>Luminar Technologies</td>\n",
              "      <td>0b0a602b-d441-48ff-98d2-9d22a5342274</td>\n",
              "      <td>None</td>\n",
              "      <td>0.74</td>\n",
              "    </tr>\n",
              "    <tr>\n",
              "      <th>PLTR</th>\n",
              "      <td>26.080000</td>\n",
              "      <td>21.19392400</td>\n",
              "      <td>28.3100</td>\n",
              "      <td>552.74</td>\n",
              "      <td>-7.88</td>\n",
              "      <td>0.00</td>\n",
              "      <td>-47.262451</td>\n",
              "      <td>stock</td>\n",
              "      <td>Palantir Technologies</td>\n",
              "      <td>f90de184-4f73-4aad-9a5f-407858013eb1</td>\n",
              "      <td>None</td>\n",
              "      <td>17.75</td>\n",
              "    </tr>\n",
              "    <tr>\n",
              "      <th>SOS</th>\n",
              "      <td>2.120000</td>\n",
              "      <td>197.51756500</td>\n",
              "      <td>5.0700</td>\n",
              "      <td>418.74</td>\n",
              "      <td>-58.19</td>\n",
              "      <td>0.00</td>\n",
              "      <td>-582.676817</td>\n",
              "      <td>adr</td>\n",
              "      <td>SOS Limited</td>\n",
              "      <td>167850e6-b16b-4f3f-a035-5949604204b0</td>\n",
              "      <td>6.028570</td>\n",
              "      <td>13.45</td>\n",
              "    </tr>\n",
              "    <tr>\n",
              "      <th>WISH</th>\n",
              "      <td>4.970000</td>\n",
              "      <td>98.77871900</td>\n",
              "      <td>7.0855</td>\n",
              "      <td>490.93</td>\n",
              "      <td>-29.86</td>\n",
              "      <td>0.00</td>\n",
              "      <td>-208.966380</td>\n",
              "      <td>stock</td>\n",
              "      <td>ContextLogic</td>\n",
              "      <td>b95a1ef1-b779-4872-85a4-6e7e82d6e095</td>\n",
              "      <td>None</td>\n",
              "      <td>15.77</td>\n",
              "    </tr>\n",
              "    <tr>\n",
              "      <th>WWR</th>\n",
              "      <td>3.340000</td>\n",
              "      <td>1.00000000</td>\n",
              "      <td>0.0000</td>\n",
              "      <td>3.34</td>\n",
              "      <td>0.00</td>\n",
              "      <td>0.00</td>\n",
              "      <td>3.340000</td>\n",
              "      <td>stock</td>\n",
              "      <td>Westwater Resources</td>\n",
              "      <td>0f5d5b98-ef18-4ade-a341-c9861aaa7688</td>\n",
              "      <td>None</td>\n",
              "      <td>0.11</td>\n",
              "    </tr>\n",
              "    <tr>\n",
              "      <th>AYRO</th>\n",
              "      <td>3.000000</td>\n",
              "      <td>1.00000000</td>\n",
              "      <td>0.0000</td>\n",
              "      <td>3.00</td>\n",
              "      <td>0.00</td>\n",
              "      <td>0.00</td>\n",
              "      <td>3.000000</td>\n",
              "      <td>stock</td>\n",
              "      <td>Ayro</td>\n",
              "      <td>6c440459-2674-47fb-90e0-54bb108f7d77</td>\n",
              "      <td>None</td>\n",
              "      <td>0.10</td>\n",
              "    </tr>\n",
              "    <tr>\n",
              "      <th>NVDA</th>\n",
              "      <td>299.000000</td>\n",
              "      <td>0.02322800</td>\n",
              "      <td>301.3604</td>\n",
              "      <td>6.95</td>\n",
              "      <td>-0.78</td>\n",
              "      <td>-0.78</td>\n",
              "      <td>-0.054827</td>\n",
              "      <td>stock</td>\n",
              "      <td>NVIDIA</td>\n",
              "      <td>a4ecd608-e7b4-4ff3-afa5-f77ae7632dfb</td>\n",
              "      <td>106.208000</td>\n",
              "      <td>0.22</td>\n",
              "    </tr>\n",
              "  </tbody>\n",
              "</table>\n",
              "</div>"
            ],
            "text/plain": [
              "           price      quantity  ...    pe_ratio percentage\n",
              "NIO    42.320000   34.18391900  ...        None      46.46\n",
              "SNAP   53.080000    0.03492100  ...        None       0.06\n",
              "SNDL    0.649000  131.56003400  ...        None       2.74\n",
              "TLRY   10.810000    6.76585700  ...        None       2.35\n",
              "LAZR   16.799900    1.36684500  ...        None       0.74\n",
              "PLTR   26.080000   21.19392400  ...        None      17.75\n",
              "SOS     2.120000  197.51756500  ...    6.028570      13.45\n",
              "WISH    4.970000   98.77871900  ...        None      15.77\n",
              "WWR     3.340000    1.00000000  ...        None       0.11\n",
              "AYRO    3.000000    1.00000000  ...        None       0.10\n",
              "NVDA  299.000000    0.02322800  ...  106.208000       0.22\n",
              "\n",
              "[11 rows x 12 columns]"
            ]
          },
          "metadata": {},
          "execution_count": 118
        }
      ]
    },
    {
      "cell_type": "code",
      "metadata": {
        "id": "Xori1liwOtdB"
      },
      "source": [
        "stocks_df = stocks_df[['price', 'quantity']].reset_index().rename(columns={'index': 'symbol'})"
      ],
      "execution_count": null,
      "outputs": []
    },
    {
      "cell_type": "code",
      "metadata": {
        "id": "YdsRtfsES-T5"
      },
      "source": [
        "total_hourly_df = pd.DataFrame()\n",
        "\n",
        "for stock in stocks_df['symbol']:\n",
        "  hourly_json = rh.robinhood.stocks.get_stock_historicals(stock, span='day', interval='hour')\n",
        "  hourly_df = pd.DataFrame.from_dict(hourly_json)\n",
        "  total_hourly_df =total_hourly_df.append(hourly_df)\n",
        "\n",
        "tt = pd.merge(total_hourly_df,stocks_df, on='symbol')"
      ],
      "execution_count": null,
      "outputs": []
    },
    {
      "cell_type": "code",
      "metadata": {
        "id": "1SPYd4nCXN-h"
      },
      "source": [
        "tt[\"contribution\"]=pd.to_numeric(tt[\"quantity\"])*pd.to_numeric(tt[\"open_price\"])"
      ],
      "execution_count": null,
      "outputs": []
    },
    {
      "cell_type": "code",
      "metadata": {
        "id": "KPf_5qC_X0yt"
      },
      "source": [
        "tt = tt.groupby(by=[\"begins_at\"]).sum()"
      ],
      "execution_count": null,
      "outputs": []
    },
    {
      "cell_type": "code",
      "metadata": {
        "id": "x5WJQNoeY0-E"
      },
      "source": [
        "tt=tt[['contribution']]"
      ],
      "execution_count": null,
      "outputs": []
    },
    {
      "cell_type": "code",
      "metadata": {
        "id": "_gQZ1ugtZ-tX"
      },
      "source": [
        "import matplotlib.pyplot as plt"
      ],
      "execution_count": null,
      "outputs": []
    },
    {
      "cell_type": "code",
      "metadata": {
        "colab": {
          "base_uri": "https://localhost:8080/",
          "height": 717
        },
        "id": "-avi-sP6Zrts",
        "outputId": "a9cb8593-7615-4e48-806f-5693be180b57"
      },
      "source": [
        "plt.figure(figsize=(10,10))\n",
        "plt.plot(tt.index, tt['contribution'])\n",
        "plt.xlabel(\"date\")\n",
        "plt.xticks(rotation = 45) \n",
        "plt.ylabel(\"$ price\")\n",
        "plt.title(\"DIS Stock Price 1/1/17 - 8/1/19\")"
      ],
      "execution_count": null,
      "outputs": [
        {
          "output_type": "execute_result",
          "data": {
            "text/plain": [
              "Text(0.5, 1.0, 'DIS Stock Price 1/1/17 - 8/1/19')"
            ]
          },
          "metadata": {},
          "execution_count": 113
        },
        {
          "output_type": "display_data",
          "data": {
            "image/png": "[encoded data removed]",
            "text/plain": [
              "<Figure size 720x720 with 1 Axes>"
            ]
          },
          "metadata": {
            "needs_background": "light"
          }
        }
      ]
    },
    {
      "cell_type": "code",
      "metadata": {
        "colab": {
          "base_uri": "https://localhost:8080/",
          "height": 282
        },
        "id": "N_tvwCsCYdL2",
        "outputId": "45725b20-2157-41fa-a1f9-d597239502fd"
      },
      "source": [
        "area_chart = px.area(tt, title = 'TOTAL PORTFOLIO DAILY')\n",
        "area_chart.update_xaxes(title_text = 'Date')\n",
        "area_chart.update_yaxes(title_text = 'Total', tickprefix = '$')\n",
        "area_chart.update_layout(showlegend = False)\n",
        "\n",
        "tt.plot.area()"
      ],
      "execution_count": null,
      "outputs": [
        {
          "output_type": "execute_result",
          "data": {
            "text/plain": [
              "<matplotlib.axes._subplots.AxesSubplot at 0x7f1a205dbd10>"
            ]
          },
          "metadata": {},
          "execution_count": 90
        },
        {
          "output_type": "display_data",
          "data": {
            "image/png": "[encoded data removed]",
            "text/plain": [
              "<Figure size 432x288 with 1 Axes>"
            ]
          },
          "metadata": {
            "needs_background": "light"
          }
        }
      ]
    },
    {
      "cell_type": "code",
      "metadata": {
        "id": "eYOXYRg4TKTr"
      },
      "source": [
        "tt.groupby(by=[\"symbol\"]).sum()"
      ],
      "execution_count": null,
      "outputs": []
    },
    {
      "cell_type": "code",
      "metadata": {
        "colab": {
          "base_uri": "https://localhost:8080/"
        },
        "id": "PdISE17ZIuVG",
        "outputId": "3d162990-a67f-4696-f782-5b7b749f2869"
      },
      "source": [
        "rh.robinhood.stocks.get_fundamentals(\"TSLA\")"
      ],
      "execution_count": null,
      "outputs": [
        {
          "output_type": "execute_result",
          "data": {
            "text/plain": [
              "[{'average_volume': '38553696.636364',\n",
              "  'average_volume_2_weeks': '38553696.636364',\n",
              "  'ceo': 'Elon Reeve Musk',\n",
              "  'description': 'Tesla, Inc. engages in the design, development, manufacture, and sale of fully electric vehicles, energy generation and storage systems. It also provides vehicle service centers, supercharger station, and self-driving capability. The company operates through the following segments: Automotive and Energy Generation and Storage. The Automotive segment includes the design, development, manufacture and sale of electric vehicles. The Energy Generation and Storage segment includes the design, manufacture, installation, sale, and lease of stationary energy storage products and solar energy systems, and sale of electricity generated by its solar energy systems to customers. It develops energy storage products for use in homes, commercial facilities and utility sites. The company was founded by Jeffrey B. Straubel, Elon Reeve Musk, Martin Eberhard, and Marc Tarpenning on July 1, 2003 and is headquartered in Palo Alto, CA.',\n",
              "  'dividend_yield': None,\n",
              "  'float': '813648439.220000',\n",
              "  'headquarters_city': 'Palo Alto',\n",
              "  'headquarters_state': 'California',\n",
              "  'high': '1239.800000',\n",
              "  'high_52_weeks': '1243.490000',\n",
              "  'industry': 'Motor Vehicles',\n",
              "  'instrument': 'https://api.robinhood.com/instruments/e39ed23a-7bd1-4587-b060-71988d9ef483/',\n",
              "  'low': '1208.000000',\n",
              "  'low_52_weeks': '396.030100',\n",
              "  'market_cap': '1227302023915.367920',\n",
              "  'market_date': '2021-11-05',\n",
              "  'num_employees': 70757,\n",
              "  'open': '1228.450000',\n",
              "  'pb_ratio': '43.644500',\n",
              "  'pe_ratio': '398.235000',\n",
              "  'sector': 'Consumer Durables',\n",
              "  'shares_outstanding': '1004264844.582124',\n",
              "  'symbol': 'TSLA',\n",
              "  'volume': '21628044.000000',\n",
              "  'year_founded': 2003}]"
            ]
          },
          "metadata": {},
          "execution_count": 45
        }
      ]
    },
    {
      "cell_type": "code",
      "metadata": {
        "id": "3lahYP5hNoQ2"
      },
      "source": [
        "rh.robinhood.authentication.logout()"
      ],
      "execution_count": null,
      "outputs": []
    },
    {
      "cell_type": "markdown",
      "metadata": {
        "id": "bRBe8-xW8kNf"
      },
      "source": [
        "|\n",
        "\n",
        "|\n",
        "\n",
        "|\n",
        "\n",
        "|\n",
        "\n",
        "|"
      ]
    },
    {
      "cell_type": "code",
      "metadata": {
        "id": "4JhJlds56odf"
      },
      "source": [
        "import pandas as pd\n",
        "import sqlite3\n",
        "russel_df = pd.read_csv(\"/content/Stocks in the Russell 1000 Index.csv\")"
      ],
      "execution_count": 2,
      "outputs": []
    },
    {
      "cell_type": "code",
      "metadata": {
        "id": "cMWXxN3vYprF",
        "colab": {
          "base_uri": "https://localhost:8080/",
          "height": 612
        },
        "outputId": "2cc33128-028e-4e2f-ac7c-db385848ae94"
      },
      "source": [
        "russel_df"
      ],
      "execution_count": 3,
      "outputs": [
        {
          "output_type": "execute_result",
          "data": {
            "text/html": [
              "<div>\n",
              "<style scoped>\n",
              "    .dataframe tbody tr th:only-of-type {\n",
              "        vertical-align: middle;\n",
              "    }\n",
              "\n",
              "    .dataframe tbody tr th {\n",
              "        vertical-align: top;\n",
              "    }\n",
              "\n",
              "    .dataframe thead th {\n",
              "        text-align: right;\n",
              "    }\n",
              "</style>\n",
              "<table border=\"1\" class=\"dataframe\">\n",
              "  <thead>\n",
              "    <tr style=\"text-align: right;\">\n",
              "      <th></th>\n",
              "      <th>Symbol</th>\n",
              "      <th>Description</th>\n",
              "      <th>Category2</th>\n",
              "      <th>Category3</th>\n",
              "      <th>GICS Sector</th>\n",
              "      <th>Market cap</th>\n",
              "      <th>Dividend yield</th>\n",
              "      <th>Country</th>\n",
              "      <th>Action</th>\n",
              "    </tr>\n",
              "  </thead>\n",
              "  <tbody>\n",
              "    <tr>\n",
              "      <th>0</th>\n",
              "      <td>MSFT</td>\n",
              "      <td>Microsoft Corp</td>\n",
              "      <td>Common stocks</td>\n",
              "      <td>Large cap</td>\n",
              "      <td>Information Technology</td>\n",
              "      <td>$2,495,877,938,999</td>\n",
              "      <td>0.67%</td>\n",
              "      <td>USA</td>\n",
              "      <td>Analyze</td>\n",
              "    </tr>\n",
              "    <tr>\n",
              "      <th>1</th>\n",
              "      <td>AAPL</td>\n",
              "      <td>Apple Inc</td>\n",
              "      <td>Common stocks</td>\n",
              "      <td>Large cap</td>\n",
              "      <td>Information Technology</td>\n",
              "      <td>$2,426,013,924,390</td>\n",
              "      <td>0.58%</td>\n",
              "      <td>USA</td>\n",
              "      <td>Analyze</td>\n",
              "    </tr>\n",
              "    <tr>\n",
              "      <th>2</th>\n",
              "      <td>GOOG</td>\n",
              "      <td>Alphabet Inc Class C</td>\n",
              "      <td>Common stocks</td>\n",
              "      <td>Large cap</td>\n",
              "      <td>Communication Services</td>\n",
              "      <td>$1,981,599,901,640</td>\n",
              "      <td>0.00%</td>\n",
              "      <td>USA</td>\n",
              "      <td>Analyze</td>\n",
              "    </tr>\n",
              "    <tr>\n",
              "      <th>3</th>\n",
              "      <td>GOOGL</td>\n",
              "      <td>Alphabet Inc Class A</td>\n",
              "      <td>Common stocks</td>\n",
              "      <td>Large cap</td>\n",
              "      <td>Communication Services</td>\n",
              "      <td>$1,981,599,901,640</td>\n",
              "      <td>0.00%</td>\n",
              "      <td>USA</td>\n",
              "      <td>Analyze</td>\n",
              "    </tr>\n",
              "    <tr>\n",
              "      <th>4</th>\n",
              "      <td>AMZN</td>\n",
              "      <td>Amazon.Com Inc.</td>\n",
              "      <td>Common stocks</td>\n",
              "      <td>Large cap</td>\n",
              "      <td>Consumer Discretionary</td>\n",
              "      <td>$1,761,070,110,450</td>\n",
              "      <td>0.00%</td>\n",
              "      <td>USA</td>\n",
              "      <td>Analyze</td>\n",
              "    </tr>\n",
              "    <tr>\n",
              "      <th>...</th>\n",
              "      <td>...</td>\n",
              "      <td>...</td>\n",
              "      <td>...</td>\n",
              "      <td>...</td>\n",
              "      <td>...</td>\n",
              "      <td>...</td>\n",
              "      <td>...</td>\n",
              "      <td>...</td>\n",
              "      <td>...</td>\n",
              "    </tr>\n",
              "    <tr>\n",
              "      <th>1020</th>\n",
              "      <td>SLVM</td>\n",
              "      <td>Sylvamo Corporation</td>\n",
              "      <td>Common stocks</td>\n",
              "      <td>Small cap</td>\n",
              "      <td>Materials</td>\n",
              "      <td>$1,324,539,264</td>\n",
              "      <td>0.00%</td>\n",
              "      <td>USA</td>\n",
              "      <td>Analyze</td>\n",
              "    </tr>\n",
              "    <tr>\n",
              "      <th>1021</th>\n",
              "      <td>UWMC</td>\n",
              "      <td>UWM Holdings Corporation Class A</td>\n",
              "      <td>Common stocks</td>\n",
              "      <td>Small cap</td>\n",
              "      <td>Financials</td>\n",
              "      <td>$699,561,322</td>\n",
              "      <td>4.25%</td>\n",
              "      <td>USA</td>\n",
              "      <td>Analyze</td>\n",
              "    </tr>\n",
              "    <tr>\n",
              "      <th>1022</th>\n",
              "      <td>PSFE</td>\n",
              "      <td>Paysafe Limited</td>\n",
              "      <td>Common stocks</td>\n",
              "      <td>Small cap</td>\n",
              "      <td>Information Technology</td>\n",
              "      <td>$622,022,183</td>\n",
              "      <td>0.00%</td>\n",
              "      <td>Bermuda</td>\n",
              "      <td>Analyze</td>\n",
              "    </tr>\n",
              "    <tr>\n",
              "      <th>1023</th>\n",
              "      <td>GOCO</td>\n",
              "      <td>GoHealth, Inc. - Class A</td>\n",
              "      <td>Common stocks</td>\n",
              "      <td>Small cap</td>\n",
              "      <td>Financials</td>\n",
              "      <td>$515,829,416</td>\n",
              "      <td>0.00%</td>\n",
              "      <td>USA</td>\n",
              "      <td>Analyze</td>\n",
              "    </tr>\n",
              "    <tr>\n",
              "      <th>1024</th>\n",
              "      <td>PANL</td>\n",
              "      <td>Pangaea Logistics Solutions Ltd</td>\n",
              "      <td>Common stocks</td>\n",
              "      <td>Micro cap</td>\n",
              "      <td>Industrials</td>\n",
              "      <td>$207,212,142</td>\n",
              "      <td>1.54%</td>\n",
              "      <td>USA</td>\n",
              "      <td>Analyze</td>\n",
              "    </tr>\n",
              "  </tbody>\n",
              "</table>\n",
              "<p>1025 rows × 9 columns</p>\n",
              "</div>"
            ],
            "text/plain": [
              "     Symbol                       Description  ...  Country   Action\n",
              "0      MSFT                    Microsoft Corp  ...      USA  Analyze\n",
              "1      AAPL                         Apple Inc  ...      USA  Analyze\n",
              "2      GOOG              Alphabet Inc Class C  ...      USA  Analyze\n",
              "3     GOOGL              Alphabet Inc Class A  ...      USA  Analyze\n",
              "4      AMZN                   Amazon.Com Inc.  ...      USA  Analyze\n",
              "...     ...                               ...  ...      ...      ...\n",
              "1020   SLVM               Sylvamo Corporation  ...      USA  Analyze\n",
              "1021   UWMC  UWM Holdings Corporation Class A  ...      USA  Analyze\n",
              "1022   PSFE                   Paysafe Limited  ...  Bermuda  Analyze\n",
              "1023   GOCO          GoHealth, Inc. - Class A  ...      USA  Analyze\n",
              "1024   PANL   Pangaea Logistics Solutions Ltd  ...      USA  Analyze\n",
              "\n",
              "[1025 rows x 9 columns]"
            ]
          },
          "metadata": {},
          "execution_count": 3
        }
      ]
    },
    {
      "cell_type": "code",
      "metadata": {
        "id": "7DKHoS2S7Gjf"
      },
      "source": [
        "import json\n",
        "try:\n",
        "    # For Python 3.0 and later\n",
        "        from urllib.request import urlopen\n",
        "except ImportError:\n",
        "# Fall back to Python 2's urllib2\n",
        "    from urllib2 import urlopen"
      ],
      "execution_count": 7,
      "outputs": []
    },
    {
      "cell_type": "code",
      "metadata": {
        "id": "0Iw8DJj8l_Ps"
      },
      "source": [
        "def get_jsonparsed_data(url):\n",
        "    \"\"\"\n",
        "    Receive the content of ``url``, parse it as JSON and return the object.\n",
        "    \"\"\"\n",
        "    response = urlopen(url)\n",
        "    data = response.read().decode(\"utf-8\")\n",
        "    return json.loads(data)"
      ],
      "execution_count": 5,
      "outputs": []
    },
    {
      "cell_type": "code",
      "metadata": {
        "id": "3TTHAdrimTLb"
      },
      "source": [
        "dd = pd.DataFrame()\n",
        "apiKey = ['49dddabbcf6a628339fbc25049270225', '813841e1635f4f74e3555996113e7470',\n",
        "          '81c66b2b7a409dde0ec114b052cd0d45', '1817f0b75f62e8d3556c787b8e58a6a8',\n",
        "          'a4bedca2df6809daa70d74cf9671699f']\n",
        "\n",
        "count = 0\n",
        "for ticker in russel_df['Symbol']:\n",
        "  i = count //210\n",
        "  url = f\"https://financialmodelingprep.com/api/v3/profile/{ticker}?apikey={apiKey[i]}\"\n",
        "  try:\n",
        "    dd = dd.append(pd.DataFrame(get_jsonparsed_data(url)[0], index=[0])[['symbol', 'cusip']])\n",
        "  except Exception as e:\n",
        "    # print(e, ticker)\n",
        "    print(\"e\")\n",
        "  count+=1\n",
        "\n",
        "dd"
      ],
      "execution_count": null,
      "outputs": []
    },
    {
      "cell_type": "code",
      "metadata": {
        "id": "UyCrV9901KYm"
      },
      "source": [
        "dd=dd.dropna()"
      ],
      "execution_count": null,
      "outputs": []
    },
    {
      "cell_type": "code",
      "metadata": {
        "id": "P_3Sik-jqbdm"
      },
      "source": [
        "dd.to_csv(\"try.csv\")"
      ],
      "execution_count": null,
      "outputs": []
    },
    {
      "cell_type": "markdown",
      "metadata": {
        "id": "Mq2RSnWeDh2P"
      },
      "source": [
        "\\\n",
        "ᴬᴬ\n",
        "\n",
        "ᴬ\n"
      ]
    },
    {
      "cell_type": "code",
      "metadata": {
        "id": "INK95VYMDk2k"
      },
      "source": [
        "import pandas as pd\n",
        "import sqlite3\n",
        "all_comps_df = pd.read_csv(\"/content/try.csv\").drop(columns='Unnamed: 0')"
      ],
      "execution_count": null,
      "outputs": []
    },
    {
      "cell_type": "code",
      "metadata": {
        "id": "FJOsbcZwEsP1"
      },
      "source": [
        "dd = pd.DataFrame()\n",
        "apiKey = ['49dddabbcf6a628339fbc25049270225', '813841e1635f4f74e3555996113e7470',\n",
        "          '81c66b2b7a409dde0ec114b052cd0d45', '1817f0b75f62e8d3556c787b8e58a6a8',\n",
        "          'a4bedca2df6809daa70d74cf9671699f']\n",
        "\n",
        "count = 0\n",
        "for ticker in all_comps_df['symbol']:\n",
        "  i = count //210\n",
        "  url = f\"https://financialmodelingprep.com/api/v3/market-capitalization/{ticker}?apikey={apiKey[i]}\"\n",
        "  try:\n",
        "    dd = dd.append(pd.DataFrame(get_jsonparsed_data(url)[0], index=[0])[['symbol', 'marketCap']])\n",
        "  except Exception as e:\n",
        "    print(e, ticker)\n",
        "  count+=1\n",
        "\n",
        "dd"
      ],
      "execution_count": null,
      "outputs": []
    },
    {
      "cell_type": "code",
      "metadata": {
        "id": "UMzJx6IKHR8O"
      },
      "source": [
        "dd.to_csv(\"market_cap.csv\")"
      ],
      "execution_count": null,
      "outputs": []
    },
    {
      "cell_type": "code",
      "metadata": {
        "id": "5-M01E16Dp8O"
      },
      "source": [
        "all_comps_df"
      ],
      "execution_count": null,
      "outputs": []
    },
    {
      "cell_type": "code",
      "metadata": {
        "id": "DNcgFQ21HarN"
      },
      "source": [
        "dd = pd.DataFrame()\n",
        "apiKey = ['49dddabbcf6a628339fbc25049270225', '813841e1635f4f74e3555996113e7470',\n",
        "          '81c66b2b7a409dde0ec114b052cd0d45', '1817f0b75f62e8d3556c787b8e58a6a8',\n",
        "          'a4bedca2df6809daa70d74cf9671699f']\n",
        "\n",
        "count = 0\n",
        "for ticker in all_comps_df['symbol']:\n",
        "  i = count //210\n",
        "  \n",
        "  url = f\"https://financialmodelingprep.com/api/v3/cash-flow-statement/{ticker}?limit=120&apikey={apiKey[i]}\"\n",
        "  try:\n",
        "    dd = dd.append(pd.DataFrame(get_jsonparsed_data(url)[0], index=[0])[['symbol', 'operatingCashFlow']])\n",
        "  except Exception as e:\n",
        "    print(e, ticker)\n",
        "  count+=1\n",
        "\n",
        "dd"
      ],
      "execution_count": null,
      "outputs": []
    }
  ]
}