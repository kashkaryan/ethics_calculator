{
  "nbformat": 4,
  "nbformat_minor": 0,
  "metadata": {
    "colab": {
      "name": "Senior_Design_FCLT_ESG_Variable_Data_Collection.ipynb",
      "provenance": [],
      "collapsed_sections": [
        "KsVdkuSElRPO",
        "uRRS8pSsXfLO",
        "U83tRkBl9Tl2"
      ]
    },
    "kernelspec": {
      "display_name": "Python 3",
      "name": "python3"
    },
    "language_info": {
      "name": "python"
    }
  },
  "cells": [
    {
      "cell_type": "markdown",
      "metadata": {
        "id": "IjvGD_m2T3ej"
      },
      "source": [
        "### Software setup\n"
      ]
    },
    {
      "cell_type": "code",
      "metadata": {
        "id": "vshCXawrUiTW",
        "colab": {
          "base_uri": "https://localhost:8080/"
        },
        "outputId": "86af4f6f-57e8-4756-93df-d283b5df565e"
      },
      "source": [
        "# Mount to Google Drive\n",
        "\n",
        "import os, sys\n",
        "from google.colab import drive\n",
        "drive.mount('/content/mnt', force_remount=True)\n",
        "nb_path = '/content/notebooks'\n",
        "os.symlink('/content/mnt/My Drive/Colab Notebooks', nb_path)\n",
        "sys.path.insert(0, nb_path)  # or append(nb_path)"
      ],
      "execution_count": null,
      "outputs": [
        {
          "output_type": "stream",
          "name": "stdout",
          "text": [
            "Mounted at /content/mnt\n"
          ]
        }
      ]
    },
    {
      "cell_type": "code",
      "metadata": {
        "id": "XSViTX17WaEo",
        "colab": {
          "base_uri": "https://localhost:8080/",
          "height": 1000
        },
        "outputId": "be6d2073-21e3-4c68-9be8-b3c01f336c79"
      },
      "source": [
        "# Install WRDS package\n",
        "!pip install --target=$nb_path wrds"
      ],
      "execution_count": null,
      "outputs": [
        {
          "output_type": "stream",
          "name": "stdout",
          "text": [
            "Collecting wrds\n",
            "  Downloading wrds-3.1.1-py3-none-any.whl (12 kB)\n",
            "Collecting psycopg2-binary\n",
            "  Downloading psycopg2_binary-2.9.1-cp37-cp37m-manylinux_2_17_x86_64.manylinux2014_x86_64.whl (3.4 MB)\n",
            "\u001b[K     |████████████████████████████████| 3.4 MB 8.5 MB/s \n",
            "\u001b[?25hCollecting mock\n",
            "  Downloading mock-4.0.3-py3-none-any.whl (28 kB)\n",
            "Collecting numpy\n",
            "  Downloading numpy-1.21.4-cp37-cp37m-manylinux_2_12_x86_64.manylinux2010_x86_64.whl (15.7 MB)\n",
            "\u001b[K     |████████████████████████████████| 15.7 MB 61 kB/s \n",
            "\u001b[?25hCollecting sqlalchemy\n",
            "  Downloading SQLAlchemy-1.4.26-cp37-cp37m-manylinux_2_5_x86_64.manylinux1_x86_64.manylinux_2_17_x86_64.manylinux2014_x86_64.whl (1.6 MB)\n",
            "\u001b[K     |████████████████████████████████| 1.6 MB 32.6 MB/s \n",
            "\u001b[?25hCollecting pandas\n",
            "  Downloading pandas-1.3.4-cp37-cp37m-manylinux_2_17_x86_64.manylinux2014_x86_64.whl (11.3 MB)\n",
            "\u001b[K     |████████████████████████████████| 11.3 MB 72.9 MB/s \n",
            "\u001b[?25hCollecting python-dateutil>=2.7.3\n",
            "  Downloading python_dateutil-2.8.2-py2.py3-none-any.whl (247 kB)\n",
            "\u001b[K     |████████████████████████████████| 247 kB 65.2 MB/s \n",
            "\u001b[?25hCollecting pytz>=2017.3\n",
            "  Downloading pytz-2021.3-py2.py3-none-any.whl (503 kB)\n",
            "\u001b[K     |████████████████████████████████| 503 kB 61.9 MB/s \n",
            "\u001b[?25hCollecting six>=1.5\n",
            "  Downloading six-1.16.0-py2.py3-none-any.whl (11 kB)\n",
            "Collecting greenlet!=0.4.17\n",
            "  Downloading greenlet-1.1.2-cp37-cp37m-manylinux_2_17_x86_64.manylinux2014_x86_64.whl (150 kB)\n",
            "\u001b[K     |████████████████████████████████| 150 kB 64.1 MB/s \n",
            "\u001b[?25hCollecting importlib-metadata\n",
            "  Downloading importlib_metadata-4.8.2-py3-none-any.whl (17 kB)\n",
            "Collecting typing-extensions>=3.6.4\n",
            "  Downloading typing_extensions-3.10.0.2-py3-none-any.whl (26 kB)\n",
            "Collecting zipp>=0.5\n",
            "  Downloading zipp-3.6.0-py3-none-any.whl (5.3 kB)\n",
            "Installing collected packages: zipp, typing-extensions, six, pytz, python-dateutil, numpy, importlib-metadata, greenlet, sqlalchemy, psycopg2-binary, pandas, mock, wrds\n",
            "\u001b[31mERROR: pip's dependency resolver does not currently take into account all the packages that are installed. This behaviour is the source of the following dependency conflicts.\n",
            "tensorflow 2.6.0 requires numpy~=1.19.2, but you have numpy 1.21.4 which is incompatible.\n",
            "tensorflow 2.6.0 requires six~=1.15.0, but you have six 1.16.0 which is incompatible.\n",
            "tensorflow 2.6.0 requires typing-extensions~=3.7.4, but you have typing-extensions 3.10.0.2 which is incompatible.\n",
            "google-colab 1.0.0 requires pandas~=1.1.0; python_version >= \"3.0\", but you have pandas 1.3.4 which is incompatible.\n",
            "google-colab 1.0.0 requires six~=1.15.0, but you have six 1.16.0 which is incompatible.\n",
            "datascience 0.10.6 requires folium==0.2.1, but you have folium 0.8.3 which is incompatible.\n",
            "albumentations 0.1.12 requires imgaug<0.2.7,>=0.2.5, but you have imgaug 0.2.9 which is incompatible.\u001b[0m\n",
            "Successfully installed greenlet-1.1.2 importlib-metadata-4.8.2 mock-4.0.3 numpy-1.21.4 pandas-1.3.4 psycopg2-binary-2.9.1 python-dateutil-2.8.2 pytz-2021.3 six-1.16.0 sqlalchemy-1.4.26 typing-extensions-3.10.0.2 wrds-3.1.1 zipp-3.6.0\n",
            "\u001b[33mWARNING: Target directory /content/notebooks/greenlet already exists. Specify --upgrade to force replacement.\u001b[0m\n",
            "\u001b[33mWARNING: Target directory /content/notebooks/__pycache__ already exists. Specify --upgrade to force replacement.\u001b[0m\n",
            "\u001b[33mWARNING: Target directory /content/notebooks/psycopg2_binary.libs already exists. Specify --upgrade to force replacement.\u001b[0m\n",
            "\u001b[33mWARNING: Target directory /content/notebooks/greenlet-1.1.2.dist-info already exists. Specify --upgrade to force replacement.\u001b[0m\n",
            "\u001b[33mWARNING: Target directory /content/notebooks/pytz already exists. Specify --upgrade to force replacement.\u001b[0m\n",
            "\u001b[33mWARNING: Target directory /content/notebooks/six.py already exists. Specify --upgrade to force replacement.\u001b[0m\n",
            "\u001b[33mWARNING: Target directory /content/notebooks/psycopg2_binary-2.9.1.dist-info already exists. Specify --upgrade to force replacement.\u001b[0m\n",
            "\u001b[33mWARNING: Target directory /content/notebooks/six-1.16.0.dist-info already exists. Specify --upgrade to force replacement.\u001b[0m\n",
            "\u001b[33mWARNING: Target directory /content/notebooks/python_dateutil-2.8.2.dist-info already exists. Specify --upgrade to force replacement.\u001b[0m\n",
            "\u001b[33mWARNING: Target directory /content/notebooks/wrds-3.1.1.dist-info already exists. Specify --upgrade to force replacement.\u001b[0m\n",
            "\u001b[33mWARNING: Target directory /content/notebooks/zipp.py already exists. Specify --upgrade to force replacement.\u001b[0m\n",
            "\u001b[33mWARNING: Target directory /content/notebooks/SQLAlchemy-1.4.26.dist-info already exists. Specify --upgrade to force replacement.\u001b[0m\n",
            "\u001b[33mWARNING: Target directory /content/notebooks/mock-4.0.3.dist-info already exists. Specify --upgrade to force replacement.\u001b[0m\n",
            "\u001b[33mWARNING: Target directory /content/notebooks/pandas-1.3.4.dist-info already exists. Specify --upgrade to force replacement.\u001b[0m\n",
            "\u001b[33mWARNING: Target directory /content/notebooks/dateutil already exists. Specify --upgrade to force replacement.\u001b[0m\n",
            "\u001b[33mWARNING: Target directory /content/notebooks/numpy.libs already exists. Specify --upgrade to force replacement.\u001b[0m\n",
            "\u001b[33mWARNING: Target directory /content/notebooks/mock already exists. Specify --upgrade to force replacement.\u001b[0m\n",
            "\u001b[33mWARNING: Target directory /content/notebooks/typing_extensions-3.10.0.2.dist-info already exists. Specify --upgrade to force replacement.\u001b[0m\n",
            "\u001b[33mWARNING: Target directory /content/notebooks/zipp-3.6.0.dist-info already exists. Specify --upgrade to force replacement.\u001b[0m\n",
            "\u001b[33mWARNING: Target directory /content/notebooks/psycopg2 already exists. Specify --upgrade to force replacement.\u001b[0m\n",
            "\u001b[33mWARNING: Target directory /content/notebooks/pandas already exists. Specify --upgrade to force replacement.\u001b[0m\n",
            "\u001b[33mWARNING: Target directory /content/notebooks/numpy already exists. Specify --upgrade to force replacement.\u001b[0m\n",
            "\u001b[33mWARNING: Target directory /content/notebooks/sqlalchemy already exists. Specify --upgrade to force replacement.\u001b[0m\n",
            "\u001b[33mWARNING: Target directory /content/notebooks/typing_extensions.py already exists. Specify --upgrade to force replacement.\u001b[0m\n",
            "\u001b[33mWARNING: Target directory /content/notebooks/numpy-1.21.4.dist-info already exists. Specify --upgrade to force replacement.\u001b[0m\n",
            "\u001b[33mWARNING: Target directory /content/notebooks/wrds already exists. Specify --upgrade to force replacement.\u001b[0m\n",
            "\u001b[33mWARNING: Target directory /content/notebooks/pytz-2021.3.dist-info already exists. Specify --upgrade to force replacement.\u001b[0m\n",
            "\u001b[33mWARNING: Target directory /content/notebooks/importlib_metadata already exists. Specify --upgrade to force replacement.\u001b[0m\n",
            "\u001b[33mWARNING: Target directory /content/notebooks/bin already exists. Specify --upgrade to force replacement.\u001b[0m\n",
            "\u001b[33mWARNING: Target directory /content/notebooks/include already exists. Specify --upgrade to force replacement.\u001b[0m\n"
          ]
        },
        {
          "output_type": "display_data",
          "data": {
            "application/vnd.colab-display-data+json": {
              "pip_warning": {
                "packages": [
                  "dateutil"
                ]
              }
            }
          },
          "metadata": {}
        }
      ]
    },
    {
      "cell_type": "code",
      "metadata": {
        "id": "Nh4dzCWFWdVH",
        "colab": {
          "base_uri": "https://localhost:8080/"
        },
        "outputId": "a9cace89-6188-4442-d73b-26c2256564fc"
      },
      "source": [
        "# Installing WRDS api\n",
        "!pip install wrds"
      ],
      "execution_count": null,
      "outputs": [
        {
          "output_type": "stream",
          "name": "stdout",
          "text": [
            "Collecting wrds\n",
            "  Using cached wrds-3.1.1-py3-none-any.whl (12 kB)\n",
            "Collecting mock\n",
            "  Using cached mock-4.0.3-py3-none-any.whl (28 kB)\n",
            "Requirement already satisfied: sqlalchemy in /usr/local/lib/python3.7/dist-packages (from wrds) (1.4.25)\n",
            "Requirement already satisfied: numpy in /usr/local/lib/python3.7/dist-packages (from wrds) (1.19.5)\n",
            "Requirement already satisfied: pandas in /usr/local/lib/python3.7/dist-packages (from wrds) (1.1.5)\n",
            "Collecting psycopg2-binary\n",
            "  Using cached psycopg2_binary-2.9.1-cp37-cp37m-manylinux_2_17_x86_64.manylinux2014_x86_64.whl (3.4 MB)\n",
            "Requirement already satisfied: python-dateutil>=2.7.3 in /usr/local/lib/python3.7/dist-packages (from pandas->wrds) (2.8.2)\n",
            "Requirement already satisfied: pytz>=2017.2 in /usr/local/lib/python3.7/dist-packages (from pandas->wrds) (2018.9)\n",
            "Requirement already satisfied: six>=1.5 in /usr/local/lib/python3.7/dist-packages (from python-dateutil>=2.7.3->pandas->wrds) (1.15.0)\n",
            "Requirement already satisfied: greenlet!=0.4.17 in /usr/local/lib/python3.7/dist-packages (from sqlalchemy->wrds) (1.1.2)\n",
            "Requirement already satisfied: importlib-metadata in /usr/local/lib/python3.7/dist-packages (from sqlalchemy->wrds) (4.8.1)\n",
            "Requirement already satisfied: typing-extensions>=3.6.4 in /usr/local/lib/python3.7/dist-packages (from importlib-metadata->sqlalchemy->wrds) (3.7.4.3)\n",
            "Requirement already satisfied: zipp>=0.5 in /usr/local/lib/python3.7/dist-packages (from importlib-metadata->sqlalchemy->wrds) (3.6.0)\n",
            "Installing collected packages: psycopg2-binary, mock, wrds\n",
            "Successfully installed mock-4.0.3 psycopg2-binary-2.9.1 wrds-3.1.1\n"
          ]
        }
      ]
    },
    {
      "cell_type": "markdown",
      "metadata": {
        "id": "swuxHb72XAyi"
      },
      "source": [
        "### Bloomberg API installation code "
      ]
    },
    {
      "cell_type": "code",
      "metadata": {
        "id": "VhMvmwnEc7T7",
        "colab": {
          "base_uri": "https://localhost:8080/"
        },
        "outputId": "091a2fce-c922-434e-878e-c07ae4f00f02"
      },
      "source": [
        "# Installing blp (Pythonic interface for Bloomberg Open API)\n",
        "# https://github.com/matthewgilbert/blp\n",
        "\n",
        "!pip install blp"
      ],
      "execution_count": null,
      "outputs": [
        {
          "output_type": "stream",
          "name": "stdout",
          "text": [
            "Collecting blp\n",
            "  Downloading blp-0.0.1-py2.py3-none-any.whl (31 kB)\n",
            "Requirement already satisfied: pandas in /usr/local/lib/python3.7/dist-packages (from blp) (1.1.5)\n",
            "Requirement already satisfied: numpy>=1.15.4 in /usr/local/lib/python3.7/dist-packages (from pandas->blp) (1.19.5)\n",
            "Requirement already satisfied: python-dateutil>=2.7.3 in /usr/local/lib/python3.7/dist-packages (from pandas->blp) (2.8.2)\n",
            "Requirement already satisfied: pytz>=2017.2 in /usr/local/lib/python3.7/dist-packages (from pandas->blp) (2018.9)\n",
            "Requirement already satisfied: six>=1.5 in /usr/local/lib/python3.7/dist-packages (from python-dateutil>=2.7.3->pandas->blp) (1.15.0)\n",
            "Installing collected packages: blp\n",
            "Successfully installed blp-0.0.1\n"
          ]
        }
      ]
    },
    {
      "cell_type": "code",
      "metadata": {
        "id": "z5R-XvDrbwUx",
        "colab": {
          "base_uri": "https://localhost:8080/",
          "height": 676
        },
        "outputId": "6a9e6c47-3cf1-4d68-c790-939cd42ad6d7"
      },
      "source": [
        "# Installing Bloomberg API \n",
        "# See https://www.bloomberg.com/professional/support/api-library/\n",
        "!pip install blpapi --index-url=https://bloomberg.bintray.com/pip/simple\n",
        "!pip install xbbg"
      ],
      "execution_count": null,
      "outputs": [
        {
          "output_type": "stream",
          "name": "stdout",
          "text": [
            "Looking in indexes: https://bloomberg.bintray.com/pip/simple\n",
            "\u001b[31mERROR: Could not find a version that satisfies the requirement blpapi (from versions: none)\u001b[0m\n",
            "\u001b[31mERROR: No matching distribution found for blpapi\u001b[0m\n",
            "Collecting xbbg\n",
            "  Downloading xbbg-0.7.6-py3-none-any.whl (52 kB)\n",
            "\u001b[K     |████████████████████████████████| 52 kB 1.2 MB/s \n",
            "\u001b[?25hRequirement already satisfied: pyarrow>=1.0.1 in /usr/local/lib/python3.7/dist-packages (from xbbg) (3.0.0)\n",
            "Collecting pytz>=2020.4\n",
            "  Using cached pytz-2021.3-py2.py3-none-any.whl (503 kB)\n",
            "Collecting ruamel.yaml>=0.15.0\n",
            "  Downloading ruamel.yaml-0.17.17-py3-none-any.whl (109 kB)\n",
            "\u001b[K     |████████████████████████████████| 109 kB 17.5 MB/s \n",
            "\u001b[?25hRequirement already satisfied: numpy>=1.15.0 in /usr/local/lib/python3.7/dist-packages (from xbbg) (1.19.5)\n",
            "Requirement already satisfied: pytest in /usr/local/lib/python3.7/dist-packages (from xbbg) (3.6.4)\n",
            "Requirement already satisfied: pandas>=1.0.0 in /usr/local/lib/python3.7/dist-packages (from xbbg) (1.1.5)\n",
            "Requirement already satisfied: python-dateutil>=2.7.3 in /usr/local/lib/python3.7/dist-packages (from pandas>=1.0.0->xbbg) (2.8.2)\n",
            "Requirement already satisfied: six>=1.5 in /usr/local/lib/python3.7/dist-packages (from python-dateutil>=2.7.3->pandas>=1.0.0->xbbg) (1.15.0)\n",
            "Collecting ruamel.yaml.clib>=0.1.2\n",
            "  Downloading ruamel.yaml.clib-0.2.6-cp37-cp37m-manylinux1_x86_64.whl (546 kB)\n",
            "\u001b[K     |████████████████████████████████| 546 kB 57.5 MB/s \n",
            "\u001b[?25hRequirement already satisfied: setuptools in /usr/local/lib/python3.7/dist-packages (from pytest->xbbg) (57.4.0)\n",
            "Requirement already satisfied: atomicwrites>=1.0 in /usr/local/lib/python3.7/dist-packages (from pytest->xbbg) (1.4.0)\n",
            "Requirement already satisfied: attrs>=17.4.0 in /usr/local/lib/python3.7/dist-packages (from pytest->xbbg) (21.2.0)\n",
            "Requirement already satisfied: more-itertools>=4.0.0 in /usr/local/lib/python3.7/dist-packages (from pytest->xbbg) (8.10.0)\n",
            "Requirement already satisfied: py>=1.5.0 in /usr/local/lib/python3.7/dist-packages (from pytest->xbbg) (1.10.0)\n",
            "Requirement already satisfied: pluggy<0.8,>=0.5 in /usr/local/lib/python3.7/dist-packages (from pytest->xbbg) (0.7.1)\n",
            "Installing collected packages: ruamel.yaml.clib, pytz, ruamel.yaml, xbbg\n",
            "  Attempting uninstall: pytz\n",
            "    Found existing installation: pytz 2018.9\n",
            "    Uninstalling pytz-2018.9:\n",
            "      Successfully uninstalled pytz-2018.9\n",
            "Successfully installed pytz-2021.3 ruamel.yaml-0.17.17 ruamel.yaml.clib-0.2.6 xbbg-0.7.6\n"
          ]
        },
        {
          "output_type": "display_data",
          "data": {
            "application/vnd.colab-display-data+json": {
              "pip_warning": {
                "packages": [
                  "pytz"
                ]
              }
            }
          },
          "metadata": {}
        }
      ]
    },
    {
      "cell_type": "markdown",
      "metadata": {
        "id": "LxCeNQGu-ABM"
      },
      "source": [
        "## WRDS API Installation"
      ]
    },
    {
      "cell_type": "code",
      "metadata": {
        "id": "Qq1sLnhVWXV8",
        "colab": {
          "base_uri": "https://localhost:8080/"
        },
        "outputId": "e8df7172-2897-4d4a-e86c-e9eb06c378ed"
      },
      "source": [
        "import numpy as np\n",
        "import pandas as pd\n",
        "import matplotlib.pyplot as plt\n",
        "import wrds\n",
        "import datetime\n",
        "import json\n",
        "\n",
        "db = wrds.Connection()\n",
        "\n",
        "db.create_pgpass_file()"
      ],
      "execution_count": null,
      "outputs": [
        {
          "output_type": "stream",
          "name": "stdout",
          "text": [
            "Enter your WRDS username [root]:ani09\n",
            "Enter your password:··········\n",
            "WRDS recommends setting up a .pgpass file.\n",
            "Create .pgpass file now [y/n]?: y\n",
            "Created .pgpass file successfully.\n",
            "Loading library list...\n",
            "Done\n"
          ]
        }
      ]
    },
    {
      "cell_type": "markdown",
      "metadata": {
        "id": "z8df96XvT-Lb"
      },
      "source": [
        "### WRDS setup"
      ]
    },
    {
      "cell_type": "code",
      "metadata": {
        "id": "GD5PIxHt7nH3"
      },
      "source": [
        "# Creating a function to make querying a bit easier to type.\n",
        "def query_wrds(query, user):\n",
        "    with wrds.Connection(wrds_username=user) as db:\n",
        "        data = db.raw_sql(query)\n",
        "    return data"
      ],
      "execution_count": null,
      "outputs": []
    },
    {
      "cell_type": "code",
      "metadata": {
        "id": "jQkla-cd1wbD"
      },
      "source": [
        "# names_in_wrds_df = db.raw_sql(\"SELECT * FROM tr_esg.wrds_company_info\")\n",
        "# jeopardy_qa_df = pd.read_csv('/content/mnt/MyDrive/COMP_upd.csv')\n",
        "# companies_all_df = jeopardy_qa_df.drop(columns=['Unnamed: 0'])"
      ],
      "execution_count": null,
      "outputs": []
    },
    {
      "cell_type": "code",
      "metadata": {
        "id": "IkYECjMD97fI"
      },
      "source": [
        "# russel_1000_df=pd.read_csv(\"/content/russel_1000.csv\").drop(columns=['Unnamed: 0'])\n",
        "russel_leftover_df=pd.read_csv(\"/content/mnt/MyDrive/company_has_org.csv\").drop(columns=['Unnamed: 0'])"
      ],
      "execution_count": null,
      "outputs": []
    },
    {
      "cell_type": "code",
      "metadata": {
        "id": "DnbSRersqnp9"
      },
      "source": [
        "# basic_100_df=pd.read_csv(\"/content/try.csv\").drop(columns=['Unnamed: 0'])"
      ],
      "execution_count": null,
      "outputs": []
    },
    {
      "cell_type": "code",
      "metadata": {
        "id": "D2Txlpsf-HpM"
      },
      "source": [
        "russel_leftover_df"
      ],
      "execution_count": null,
      "outputs": []
    },
    {
      "cell_type": "code",
      "metadata": {
        "id": "aTMzeZBN_Z-c"
      },
      "source": [
        "import sqlite3\n",
        "\n",
        "conn = sqlite3.connect('local.db')\n",
        "\n",
        "russel_1000_df.to_sql(\"companies\", conn, if_exists=\"replace\", index=False)\n",
        "\n",
        "pd.read_sql_query('select * from companies', conn)"
      ],
      "execution_count": null,
      "outputs": []
    },
    {
      "cell_type": "code",
      "metadata": {
        "id": "WAUvlAjc_vks"
      },
      "source": [
        "dd = pd.DataFrame()\n",
        "\n",
        "for row in basic_100_df.iterrows():\n",
        "  symbol = (row[1]['symbol'])\n",
        "  cusip = (row[1]['cusip'])\n",
        "  tot = db.raw_sql(f\"SELECT * FROM tr_esg.wrds_company_info WHERE cusip='{cusip[:-1]}'\")\n",
        "  if (len(tot)) == 0:\n",
        "    tot = db.raw_sql(f\"SELECT * FROM tr_esg.wrds_company_info WHERE tick='{symbol}'\")\n",
        "  if (len(tot)) == 0:\n",
        "    print(\"STILL\", symbol)\n",
        "  dd = dd.append(tot)\n"
      ],
      "execution_count": null,
      "outputs": []
    },
    {
      "cell_type": "code",
      "metadata": {
        "id": "8RSSBposGoZ_"
      },
      "source": [
        "company_has_org_df = dd[['orgid', 'orgname', 'tick', 'cusip']]"
      ],
      "execution_count": null,
      "outputs": []
    },
    {
      "cell_type": "code",
      "metadata": {
        "id": "3WqzNSTRG1Sw"
      },
      "source": [
        "company_has_org_df = company_has_org_df.dropna()"
      ],
      "execution_count": null,
      "outputs": []
    },
    {
      "cell_type": "code",
      "metadata": {
        "id": "KGeKEUKwrqoH"
      },
      "source": [
        "company_has_org_df.to_csv(\"company_has_org.csv\")"
      ],
      "execution_count": null,
      "outputs": []
    },
    {
      "cell_type": "code",
      "metadata": {
        "id": "D7VXccgbDiQt"
      },
      "source": [
        "db.raw_sql(f\"SELECT * FROM tr_esg.wrds_esg_catscores LIMIT 5\")"
      ],
      "execution_count": null,
      "outputs": []
    },
    {
      "cell_type": "code",
      "metadata": {
        "id": "X0VoaBKD8u-H"
      },
      "source": [
        "# List all libraries in WRDS\n",
        "# db.list_libraries().sort()\n",
        "# db.list_libraries()"
      ],
      "execution_count": null,
      "outputs": []
    },
    {
      "cell_type": "code",
      "metadata": {
        "id": "ETfZGLjk9kEZ",
        "colab": {
          "base_uri": "https://localhost:8080/"
        },
        "outputId": "4efec738-62be-41bd-9468-39e7632d9fd9"
      },
      "source": [
        "# List all tables within a library (tr_esg is Refinitiv's ESG data library)\n",
        "total = db.list_tables(library='tr_esg')\n",
        "total"
      ],
      "execution_count": null,
      "outputs": [
        {
          "output_type": "execute_result",
          "data": {
            "text/plain": [
              "['a4catdata',\n",
              " 'a4cmpchg',\n",
              " 'a4cmpfdata',\n",
              " 'a4cmpidata',\n",
              " 'a4cmpinfo',\n",
              " 'a4cmpsdata',\n",
              " 'a4cmpsummdata',\n",
              " 'a4code',\n",
              " 'a4desc',\n",
              " 'a4driverdata',\n",
              " 'a4indaggrdata',\n",
              " 'a4item',\n",
              " 'a4memfdata',\n",
              " 'a4memidata',\n",
              " 'a4memsdata',\n",
              " 'a4outcomedata',\n",
              " 'wrds_company_cg',\n",
              " 'wrds_company_ec',\n",
              " 'wrds_company_en',\n",
              " 'wrds_company_info',\n",
              " 'wrds_company_smry',\n",
              " 'wrds_company_so',\n",
              " 'wrds_esg_boardmem',\n",
              " 'wrds_esg_catscores',\n",
              " 'wrds_esg_drivers',\n",
              " 'wrds_esg_indagg',\n",
              " 'wrds_esg_outcomes']"
            ]
          },
          "metadata": {},
          "execution_count": 25
        }
      ]
    },
    {
      "cell_type": "code",
      "metadata": {
        "id": "uuJqqOU7iFpl"
      },
      "source": [
        "russel_leftover_df"
      ],
      "execution_count": null,
      "outputs": []
    },
    {
      "cell_type": "code",
      "metadata": {
        "id": "ilezXSYbaiS0",
        "colab": {
          "base_uri": "https://localhost:8080/",
          "height": 264
        },
        "outputId": "5a80c1ba-85ba-4172-c726-5da7b7397bc1"
      },
      "source": [
        "db.raw_sql(f\"SELECT * FROM tr_esg.wrds_esg_catscores LIMIT 4\")"
      ],
      "execution_count": null,
      "outputs": [
        {
          "output_type": "execute_result",
          "data": {
            "text/html": [
              "<div>\n",
              "<style scoped>\n",
              "    .dataframe tbody tr th:only-of-type {\n",
              "        vertical-align: middle;\n",
              "    }\n",
              "\n",
              "    .dataframe tbody tr th {\n",
              "        vertical-align: top;\n",
              "    }\n",
              "\n",
              "    .dataframe thead th {\n",
              "        text-align: right;\n",
              "    }\n",
              "</style>\n",
              "<table border=\"1\" class=\"dataframe\">\n",
              "  <thead>\n",
              "    <tr style=\"text-align: right;\">\n",
              "      <th></th>\n",
              "      <th>orgid</th>\n",
              "      <th>fisyear</th>\n",
              "      <th>cdflag</th>\n",
              "      <th>feeddate</th>\n",
              "      <th>fyenddate</th>\n",
              "      <th>cg_bd_bf</th>\n",
              "      <th>cg_bd_bs</th>\n",
              "      <th>cg_bd_cp</th>\n",
              "      <th>cg_in_vs</th>\n",
              "      <th>cg_sh_sr</th>\n",
              "      <th>ec_ma_pe</th>\n",
              "      <th>ec_pr_sl</th>\n",
              "      <th>ec_re_cl</th>\n",
              "      <th>en_en_er</th>\n",
              "      <th>en_en_pi</th>\n",
              "      <th>en_en_rr</th>\n",
              "      <th>so_cu_pr</th>\n",
              "      <th>so_so_co</th>\n",
              "      <th>so_so_hr</th>\n",
              "      <th>so_wo_do</th>\n",
              "      <th>so_wo_eq</th>\n",
              "      <th>so_wo_hs</th>\n",
              "      <th>so_wo_td</th>\n",
              "      <th>score</th>\n",
              "      <th>cscore</th>\n",
              "      <th>controversiesscore</th>\n",
              "      <th>resourceusescore</th>\n",
              "      <th>emissionsscore</th>\n",
              "      <th>innovationscore</th>\n",
              "      <th>workforcescore</th>\n",
              "      <th>humanrightsscore</th>\n",
              "      <th>communityscore</th>\n",
              "      <th>productrespscore</th>\n",
              "      <th>managementscore</th>\n",
              "      <th>shareholdersscore</th>\n",
              "      <th>csrstrategyscore</th>\n",
              "    </tr>\n",
              "  </thead>\n",
              "  <tbody>\n",
              "    <tr>\n",
              "      <th>0</th>\n",
              "      <td>10014.0</td>\n",
              "      <td>2017.0</td>\n",
              "      <td>500.0</td>\n",
              "      <td>2021-09-12</td>\n",
              "      <td>2017-12-31</td>\n",
              "      <td>0.133968</td>\n",
              "      <td>0.252110</td>\n",
              "      <td>0.710553</td>\n",
              "      <td>0.450873</td>\n",
              "      <td>0.451312</td>\n",
              "      <td>0.371852</td>\n",
              "      <td>0.565041</td>\n",
              "      <td>0.140463</td>\n",
              "      <td>0.306771</td>\n",
              "      <td>0.594566</td>\n",
              "      <td>0.528954</td>\n",
              "      <td>0.204667</td>\n",
              "      <td>0.134683</td>\n",
              "      <td>0.578074</td>\n",
              "      <td>0.556046</td>\n",
              "      <td>0.305888</td>\n",
              "      <td>0.764517</td>\n",
              "      <td>0.703794</td>\n",
              "      <td>0.592532</td>\n",
              "      <td>0.592532</td>\n",
              "      <td>1.0</td>\n",
              "      <td>0.218750</td>\n",
              "      <td>0.415441</td>\n",
              "      <td>0.699074</td>\n",
              "      <td>0.724390</td>\n",
              "      <td>0.089286</td>\n",
              "      <td>0.568293</td>\n",
              "      <td>0.309353</td>\n",
              "      <td>0.916667</td>\n",
              "      <td>0.972222</td>\n",
              "      <td>0.083333</td>\n",
              "    </tr>\n",
              "    <tr>\n",
              "      <th>1</th>\n",
              "      <td>10014.0</td>\n",
              "      <td>2018.0</td>\n",
              "      <td>500.0</td>\n",
              "      <td>2021-09-12</td>\n",
              "      <td>2018-12-31</td>\n",
              "      <td>0.225599</td>\n",
              "      <td>0.394001</td>\n",
              "      <td>0.395091</td>\n",
              "      <td>0.437932</td>\n",
              "      <td>0.527877</td>\n",
              "      <td>0.643755</td>\n",
              "      <td>0.202724</td>\n",
              "      <td>0.149223</td>\n",
              "      <td>0.595474</td>\n",
              "      <td>0.618164</td>\n",
              "      <td>0.570780</td>\n",
              "      <td>0.184485</td>\n",
              "      <td>0.122413</td>\n",
              "      <td>0.565440</td>\n",
              "      <td>0.707875</td>\n",
              "      <td>0.633625</td>\n",
              "      <td>0.831174</td>\n",
              "      <td>0.829689</td>\n",
              "      <td>0.568982</td>\n",
              "      <td>0.568982</td>\n",
              "      <td>1.0</td>\n",
              "      <td>0.216292</td>\n",
              "      <td>0.546784</td>\n",
              "      <td>0.710145</td>\n",
              "      <td>0.667373</td>\n",
              "      <td>0.054167</td>\n",
              "      <td>0.593220</td>\n",
              "      <td>0.330508</td>\n",
              "      <td>0.783333</td>\n",
              "      <td>0.916667</td>\n",
              "      <td>0.083333</td>\n",
              "    </tr>\n",
              "    <tr>\n",
              "      <th>2</th>\n",
              "      <td>10014.0</td>\n",
              "      <td>2019.0</td>\n",
              "      <td>500.0</td>\n",
              "      <td>2021-09-12</td>\n",
              "      <td>2019-12-31</td>\n",
              "      <td>0.308772</td>\n",
              "      <td>0.432291</td>\n",
              "      <td>0.552788</td>\n",
              "      <td>0.399387</td>\n",
              "      <td>0.531437</td>\n",
              "      <td>0.842687</td>\n",
              "      <td>0.828948</td>\n",
              "      <td>0.161277</td>\n",
              "      <td>0.387259</td>\n",
              "      <td>0.800864</td>\n",
              "      <td>0.439381</td>\n",
              "      <td>0.288695</td>\n",
              "      <td>0.155909</td>\n",
              "      <td>0.529828</td>\n",
              "      <td>0.864055</td>\n",
              "      <td>0.926474</td>\n",
              "      <td>0.819146</td>\n",
              "      <td>0.788462</td>\n",
              "      <td>0.546237</td>\n",
              "      <td>0.546237</td>\n",
              "      <td>1.0</td>\n",
              "      <td>0.021645</td>\n",
              "      <td>0.265625</td>\n",
              "      <td>0.703390</td>\n",
              "      <td>0.776451</td>\n",
              "      <td>0.027273</td>\n",
              "      <td>0.573379</td>\n",
              "      <td>0.314050</td>\n",
              "      <td>0.863636</td>\n",
              "      <td>0.954545</td>\n",
              "      <td>0.106061</td>\n",
              "    </tr>\n",
              "    <tr>\n",
              "      <th>3</th>\n",
              "      <td>10014.0</td>\n",
              "      <td>2020.0</td>\n",
              "      <td>510.0</td>\n",
              "      <td>2021-09-12</td>\n",
              "      <td>None</td>\n",
              "      <td>0.286328</td>\n",
              "      <td>0.621999</td>\n",
              "      <td>0.563088</td>\n",
              "      <td>0.363382</td>\n",
              "      <td>0.514689</td>\n",
              "      <td>0.904467</td>\n",
              "      <td>0.257841</td>\n",
              "      <td>0.099481</td>\n",
              "      <td>0.351222</td>\n",
              "      <td>0.777933</td>\n",
              "      <td>0.405672</td>\n",
              "      <td>0.260570</td>\n",
              "      <td>0.142922</td>\n",
              "      <td>0.504687</td>\n",
              "      <td>0.825979</td>\n",
              "      <td>0.923178</td>\n",
              "      <td>0.767007</td>\n",
              "      <td>0.762257</td>\n",
              "      <td>0.535270</td>\n",
              "      <td>0.535270</td>\n",
              "      <td>1.0</td>\n",
              "      <td>0.014228</td>\n",
              "      <td>0.240741</td>\n",
              "      <td>0.685930</td>\n",
              "      <td>0.754125</td>\n",
              "      <td>0.027778</td>\n",
              "      <td>0.498350</td>\n",
              "      <td>0.285985</td>\n",
              "      <td>0.897059</td>\n",
              "      <td>0.955882</td>\n",
              "      <td>0.102941</td>\n",
              "    </tr>\n",
              "  </tbody>\n",
              "</table>\n",
              "</div>"
            ],
            "text/plain": [
              "     orgid  fisyear  ...  shareholdersscore csrstrategyscore\n",
              "0  10014.0   2017.0  ...           0.972222         0.083333\n",
              "1  10014.0   2018.0  ...           0.916667         0.083333\n",
              "2  10014.0   2019.0  ...           0.954545         0.106061\n",
              "3  10014.0   2020.0  ...           0.955882         0.102941\n",
              "\n",
              "[4 rows x 36 columns]"
            ]
          },
          "metadata": {},
          "execution_count": 26
        }
      ]
    },
    {
      "cell_type": "code",
      "metadata": {
        "id": "psjFhKqBb4QH"
      },
      "source": [
        "# db.raw_sql(f\"SELECT * FROM tr_esg.a4cmpinfo LIMIT 5\").head(10)"
      ],
      "execution_count": null,
      "outputs": []
    },
    {
      "cell_type": "code",
      "metadata": {
        "id": "f8tZi9Brb6Qw"
      },
      "source": [
        "dd = pd.DataFrame()\n",
        "\n",
        "for idx, name_ticker in russel_leftover_df.iterrows():\n",
        "  orgid = (name_ticker.orgid)\n",
        "  orgname = (name_ticker.orgname)\n",
        "  tick = (name_ticker.tick)\n",
        "  cusip = (name_ticker.cusip)\n",
        "\n",
        "  tot = db.raw_sql(f\"SELECT * FROM tr_esg.wrds_esg_catscores WHERE orgid='{orgid}' AND (fisyear='2020' OR fisyear='2021')\")\n",
        "  dd = dd.append(tot)\n",
        "\n",
        "dd"
      ],
      "execution_count": null,
      "outputs": []
    },
    {
      "cell_type": "code",
      "metadata": {
        "id": "SAG3bQ7AkzGG"
      },
      "source": [
        "dd=dd.reset_index()\n",
        "dd=dd.drop(columns=['level_0', 'index'])\n",
        "dd"
      ],
      "execution_count": null,
      "outputs": []
    },
    {
      "cell_type": "code",
      "metadata": {
        "id": "Yzp7tO2LlCMM"
      },
      "source": [
        "dd.to_csv('orgid_to_allESGcatscores.csv')"
      ],
      "execution_count": null,
      "outputs": []
    },
    {
      "cell_type": "code",
      "metadata": {
        "id": "PMujVgnvUp3L"
      },
      "source": [
        "db.raw_sql(f\"SELECT *, {count} as count FROM tr_esg.wrds_company_info WHERE REPLACE(REPLACE(UPPER(orgname),'`',''),',','') LIKE '%FIDELITY%'\").head(10)"
      ],
      "execution_count": null,
      "outputs": []
    },
    {
      "cell_type": "code",
      "metadata": {
        "colab": {
          "base_uri": "https://localhost:8080/"
        },
        "id": "-TUNX328LfI5",
        "outputId": "5b9e506b-5405-4efe-915b-dcb10b7f142e"
      },
      "source": [
        "import re\n",
        "import copy\n",
        "dd = pd.DataFrame()\n",
        "\n",
        "for idx, name_ticker in companies_all_df.iterrows():\n",
        "  df_to_ad = pd.DataFrame()\n",
        "  name=name_ticker[0]\n",
        "  og_name=name[:]\n",
        "  if (name == 'Pacific Gas and Electric Company'): name = 'PG&E Corporation'\n",
        "  if (name == 'Fannie Mae'): name = 'Federal National Mortgage Association'\n",
        "  if (name == 'The Blackstone Group'): name = 'Blackstone Inc'\n",
        "  if (name == 'Erie Insurance Group'): name = 'Erie Indemnity'\n",
        "  if (name == 'Post Holdings'): name = 'Post Holdings Inc'\n",
        "  if (name == 'L Brands'): name = 'Bath & Body Works Inc'\n",
        "  if (name == 'U.S. Bancorp'): name = 'US Bancorp'\n",
        "  if (name == 'LabCorp'): name = 'Laboratory Corp. Of America Holdings'\n",
        "  if (name.split(\" \")[0] == 'U.S.'): \n",
        "    name = \"United States \" + \" \".join(name.split(\" \")[1:])\n",
        "  if (name == 'John Deere'): name = 'Deere'\n",
        "  if (name == 'C. H. Robinson'): name = 'CH Robinson'\n",
        "  if (\"Corp\" in name.split(\" \")[-1] and name not in ['McKesson Corporation', 'Olin Corporation', 'APA Corporation', 'Lear Corporation', 'Fox Corporation', 'AES Corporation', 'News Corp', 'PPL Corporation']):\n",
        "    name = ' '.join(name.split(\" \")[:-1])\n",
        "  if (\"Corporation\" in name.split(\" \")[-1]):\n",
        "    name = ' '.join(name.split(\" \")[:-1])+\" Corp\"\n",
        "  updated_name = name.replace(\"'\", \"\")\n",
        "  if (\"Reilly\" in updated_name): updated_name = \"Reilly\"\n",
        "  updated_name = updated_name.replace(\"`\", \"\")\n",
        "  updated_name = updated_name.replace(\",\", \"\")\n",
        "  if (\"com\" not in updated_name.split('.')):\n",
        "    updated_name = updated_name.replace(\".\", \"\")\n",
        "  if (updated_name[-1]=='.'): updated_name=updated_name[:-1]\n",
        "  if (updated_name[:3]=='The'): updated_name=updated_name[3:]\n",
        "  if (updated_name=='CenturyLink'): updated_name=\"Lumen\"\n",
        "  if (len(updated_name)==3):\n",
        "    df_to_ad = db.raw_sql(f\"SELECT * FROM tr_esg.wrds_company_info WHERE tick LIKE '%{updated_name.upper()}%'\").head(1)\n",
        "  if (updated_name == 'Meta Platforms Inc'): continue\n",
        "  if (name in ['Dow Chemical Company', 'CHS Inc.', 'Freddie Mac','Kohlberg Kravis Roberts', 'State Farm', 'KeyBank', 'DCP Midstream Partners']): continue\n",
        "\n",
        "  broken = updated_name.split(\" \")\n",
        "  new_name=[]\n",
        "  for part in broken:\n",
        "    if len(part)==2 and part[-1]=='.': continue\n",
        "    new_name.append(part)\n",
        "    \n",
        "  updated_name = ' '.join(new_name)\n",
        "\n",
        "  updated_lowercase=' '.join(re.sub( r\"([A-Z])\", r\" \\1\", updated_name).split())\n",
        "  updated_second=' '.join(re.sub( r\"([A-Z])\", r\" \\1\", updated_name).split())\n",
        "  updated_third=' '.join(re.sub( r\"([A-Z])\", r\" \\1\", updated_name).split()[1:2])\n",
        "  updated_2quarter=' '.join(re.sub( r\"([A-Z])\", r\" \\1\", updated_name).split()[0:2])\n",
        "  updated_2half=' '.join(re.sub( r\"([A-Z])\", r\" \\1\", updated_name).split()[0:1])\n",
        "  og_name=og_name.replace(\"'\",\"\")\n",
        "  ticker=name_ticker[1]\n",
        "  if (df_to_ad.shape[0] == 0):\n",
        "    df_to_ad = db.raw_sql(f\"SELECT *,'{og_name}' as about_name FROM tr_esg.wrds_company_info WHERE REPLACE(REPLACE(UPPER(orgname),'`',''),',','') LIKE '%{updated_name.upper()}%'\").head(1)\n",
        "  if (df_to_ad.shape[0] == 0):\n",
        "    df_to_ad = db.raw_sql(f\"SELECT *,'{og_name}' as about_name FROM tr_esg.wrds_company_info WHERE REPLACE(UPPER(orgname),'''','') LIKE '%{updated_name.upper()}%'\").head(1)\n",
        "  if (df_to_ad.shape[0] == 0):\n",
        "    df_to_ad = db.raw_sql(f\"SELECT *,'{og_name}' as about_name FROM tr_esg.wrds_company_info WHERE UPPER(orgname) LIKE '%{updated_second.upper()}%'\").head(1)\n",
        "  if (df_to_ad.shape[0] == 0):\n",
        "    df_to_ad = db.raw_sql(f\"SELECT *,'{og_name}' as about_name FROM tr_esg.wrds_company_info WHERE UPPER(orgname) LIKE '%{updated_2quarter.upper()}%'\").head(1)\n",
        "  if (df_to_ad.shape[0] == 0):\n",
        "    df_to_ad = db.raw_sql(f\"SELECT *,'{og_name}' as about_name FROM tr_esg.wrds_company_info WHERE UPPER(orgname) LIKE '%{updated_2half.upper()}%'\").head(1)\n",
        "  if (df_to_ad.shape[0] == 0):\n",
        "    df_to_ad = db.raw_sql(f\"SELECT *,'{og_name}' as about_name FROM tr_esg.wrds_company_info WHERE UPPER(orgname) LIKE '%{updated_2half.upper()} %'\").head(1)\n",
        "  if (df_to_ad.shape[0] == 0):\n",
        "    df_to_ad = db.raw_sql(f\"SELECT *,'{og_name}' as about_name FROM tr_esg.wrds_company_info WHERE UPPER(orgname) LIKE '%{updated_third.upper()}%'\").head(1)\n",
        "  dd = dd.append(df_to_ad)\n",
        "\n",
        "print(dd.shape[0])\n",
        "\n",
        "dd[['orgname']].to_csv('two_hundred.csv')"
      ],
      "execution_count": null,
      "outputs": [
        {
          "output_type": "stream",
          "name": "stdout",
          "text": [
            "469\n"
          ]
        }
      ]
    },
    {
      "cell_type": "code",
      "metadata": {
        "id": "o7m9diKpO_LM"
      },
      "source": [
        "name_to_orgid = dd[['orgname', 'orgid']]\n",
        "name_to_orgid"
      ],
      "execution_count": null,
      "outputs": []
    },
    {
      "cell_type": "code",
      "metadata": {
        "id": "S-jc6U241-Yu"
      },
      "source": [
        "company_score_per_category= db.raw_sql(f\"SELECT * FROM tr_esg.wrds_esg_catscores WHERE fisyear=2020\")"
      ],
      "execution_count": null,
      "outputs": []
    },
    {
      "cell_type": "code",
      "metadata": {
        "colab": {
          "base_uri": "https://localhost:8080/",
          "height": 666
        },
        "id": "7hHe4BjNOQTz",
        "outputId": "5f6a8b03-330f-4b95-fa17-9d242b3d3cfa"
      },
      "source": [
        "name_to_orgid.merge(company_score_per_category, how='left', left_on='orgid', right_on='orgid', indicator=True)"
      ],
      "execution_count": null,
      "outputs": [
        {
          "output_type": "execute_result",
          "data": {
            "text/html": [
              "<div>\n",
              "<style scoped>\n",
              "    .dataframe tbody tr th:only-of-type {\n",
              "        vertical-align: middle;\n",
              "    }\n",
              "\n",
              "    .dataframe tbody tr th {\n",
              "        vertical-align: top;\n",
              "    }\n",
              "\n",
              "    .dataframe thead th {\n",
              "        text-align: right;\n",
              "    }\n",
              "</style>\n",
              "<table border=\"1\" class=\"dataframe\">\n",
              "  <thead>\n",
              "    <tr style=\"text-align: right;\">\n",
              "      <th></th>\n",
              "      <th>orgname</th>\n",
              "      <th>orgid</th>\n",
              "      <th>fisyear</th>\n",
              "      <th>cdflag</th>\n",
              "      <th>feeddate</th>\n",
              "      <th>fyenddate</th>\n",
              "      <th>cg_bd_bf</th>\n",
              "      <th>cg_bd_bs</th>\n",
              "      <th>cg_bd_cp</th>\n",
              "      <th>cg_in_vs</th>\n",
              "      <th>cg_sh_sr</th>\n",
              "      <th>ec_ma_pe</th>\n",
              "      <th>ec_pr_sl</th>\n",
              "      <th>ec_re_cl</th>\n",
              "      <th>en_en_er</th>\n",
              "      <th>en_en_pi</th>\n",
              "      <th>en_en_rr</th>\n",
              "      <th>so_cu_pr</th>\n",
              "      <th>so_so_co</th>\n",
              "      <th>so_so_hr</th>\n",
              "      <th>so_wo_do</th>\n",
              "      <th>so_wo_eq</th>\n",
              "      <th>so_wo_hs</th>\n",
              "      <th>so_wo_td</th>\n",
              "      <th>score</th>\n",
              "      <th>cscore</th>\n",
              "      <th>controversiesscore</th>\n",
              "      <th>resourceusescore</th>\n",
              "      <th>emissionsscore</th>\n",
              "      <th>innovationscore</th>\n",
              "      <th>workforcescore</th>\n",
              "      <th>humanrightsscore</th>\n",
              "      <th>communityscore</th>\n",
              "      <th>productrespscore</th>\n",
              "      <th>managementscore</th>\n",
              "      <th>shareholdersscore</th>\n",
              "      <th>csrstrategyscore</th>\n",
              "      <th>_merge</th>\n",
              "    </tr>\n",
              "  </thead>\n",
              "  <tbody>\n",
              "    <tr>\n",
              "      <th>0</th>\n",
              "      <td>Walmart Inc</td>\n",
              "      <td>32947.0</td>\n",
              "      <td>2020.0</td>\n",
              "      <td>500.0</td>\n",
              "      <td>2021-09-12</td>\n",
              "      <td>2020-01-31</td>\n",
              "      <td>0.886623</td>\n",
              "      <td>0.906218</td>\n",
              "      <td>0.380313</td>\n",
              "      <td>0.796719</td>\n",
              "      <td>0.333092</td>\n",
              "      <td>0.135473</td>\n",
              "      <td>0.895344</td>\n",
              "      <td>0.260191</td>\n",
              "      <td>0.915963</td>\n",
              "      <td>0.920998</td>\n",
              "      <td>0.943729</td>\n",
              "      <td>0.782165</td>\n",
              "      <td>0.260851</td>\n",
              "      <td>0.887719</td>\n",
              "      <td>0.807082</td>\n",
              "      <td>0.039979</td>\n",
              "      <td>0.360740</td>\n",
              "      <td>0.881856</td>\n",
              "      <td>0.845700</td>\n",
              "      <td>0.429993</td>\n",
              "      <td>0.014286</td>\n",
              "      <td>0.927184</td>\n",
              "      <td>0.771028</td>\n",
              "      <td>0.771930</td>\n",
              "      <td>0.917969</td>\n",
              "      <td>0.928571</td>\n",
              "      <td>0.972656</td>\n",
              "      <td>0.815789</td>\n",
              "      <td>0.856493</td>\n",
              "      <td>0.560383</td>\n",
              "      <td>0.718545</td>\n",
              "      <td>both</td>\n",
              "    </tr>\n",
              "    <tr>\n",
              "      <th>1</th>\n",
              "      <td>Amazon.com, Inc.</td>\n",
              "      <td>114492.0</td>\n",
              "      <td>2020.0</td>\n",
              "      <td>500.0</td>\n",
              "      <td>2021-09-12</td>\n",
              "      <td>2020-12-31</td>\n",
              "      <td>0.869738</td>\n",
              "      <td>0.904743</td>\n",
              "      <td>0.806548</td>\n",
              "      <td>0.832386</td>\n",
              "      <td>0.902421</td>\n",
              "      <td>0.119645</td>\n",
              "      <td>0.051528</td>\n",
              "      <td>0.264124</td>\n",
              "      <td>0.928547</td>\n",
              "      <td>0.920998</td>\n",
              "      <td>0.898678</td>\n",
              "      <td>0.170254</td>\n",
              "      <td>0.527054</td>\n",
              "      <td>0.780654</td>\n",
              "      <td>0.744795</td>\n",
              "      <td>0.040040</td>\n",
              "      <td>0.135057</td>\n",
              "      <td>0.848896</td>\n",
              "      <td>0.864718</td>\n",
              "      <td>0.447065</td>\n",
              "      <td>0.029412</td>\n",
              "      <td>0.784722</td>\n",
              "      <td>0.977612</td>\n",
              "      <td>0.784091</td>\n",
              "      <td>0.914773</td>\n",
              "      <td>0.954545</td>\n",
              "      <td>0.903409</td>\n",
              "      <td>0.896104</td>\n",
              "      <td>0.855238</td>\n",
              "      <td>0.823871</td>\n",
              "      <td>0.608727</td>\n",
              "      <td>both</td>\n",
              "    </tr>\n",
              "    <tr>\n",
              "      <th>2</th>\n",
              "      <td>Apple Inc</td>\n",
              "      <td>19775.0</td>\n",
              "      <td>2020.0</td>\n",
              "      <td>500.0</td>\n",
              "      <td>2021-09-12</td>\n",
              "      <td>2020-09-26</td>\n",
              "      <td>0.676142</td>\n",
              "      <td>0.878849</td>\n",
              "      <td>0.468761</td>\n",
              "      <td>0.895881</td>\n",
              "      <td>0.854137</td>\n",
              "      <td>0.128579</td>\n",
              "      <td>0.064180</td>\n",
              "      <td>0.323031</td>\n",
              "      <td>0.919721</td>\n",
              "      <td>0.831795</td>\n",
              "      <td>0.880692</td>\n",
              "      <td>0.129399</td>\n",
              "      <td>0.553834</td>\n",
              "      <td>0.629236</td>\n",
              "      <td>0.877535</td>\n",
              "      <td>0.040188</td>\n",
              "      <td>0.850068</td>\n",
              "      <td>0.862175</td>\n",
              "      <td>0.725013</td>\n",
              "      <td>0.375665</td>\n",
              "      <td>0.026316</td>\n",
              "      <td>0.876623</td>\n",
              "      <td>0.854430</td>\n",
              "      <td>0.377049</td>\n",
              "      <td>0.810345</td>\n",
              "      <td>0.808219</td>\n",
              "      <td>0.729885</td>\n",
              "      <td>0.607143</td>\n",
              "      <td>0.825125</td>\n",
              "      <td>0.773996</td>\n",
              "      <td>0.790182</td>\n",
              "      <td>both</td>\n",
              "    </tr>\n",
              "    <tr>\n",
              "      <th>3</th>\n",
              "      <td>CVS Health Corp</td>\n",
              "      <td>27445.0</td>\n",
              "      <td>2020.0</td>\n",
              "      <td>500.0</td>\n",
              "      <td>2021-09-12</td>\n",
              "      <td>2020-12-31</td>\n",
              "      <td>0.750123</td>\n",
              "      <td>0.890279</td>\n",
              "      <td>0.221364</td>\n",
              "      <td>0.820186</td>\n",
              "      <td>0.914876</td>\n",
              "      <td>0.705639</td>\n",
              "      <td>0.109768</td>\n",
              "      <td>0.911021</td>\n",
              "      <td>0.921595</td>\n",
              "      <td>0.897814</td>\n",
              "      <td>0.943208</td>\n",
              "      <td>0.505187</td>\n",
              "      <td>0.987170</td>\n",
              "      <td>0.887719</td>\n",
              "      <td>0.908851</td>\n",
              "      <td>0.059883</td>\n",
              "      <td>0.952959</td>\n",
              "      <td>0.879685</td>\n",
              "      <td>0.874543</td>\n",
              "      <td>0.491619</td>\n",
              "      <td>0.108696</td>\n",
              "      <td>0.994048</td>\n",
              "      <td>0.981013</td>\n",
              "      <td>0.500000</td>\n",
              "      <td>0.928571</td>\n",
              "      <td>0.903509</td>\n",
              "      <td>0.966165</td>\n",
              "      <td>0.880165</td>\n",
              "      <td>0.783093</td>\n",
              "      <td>0.761136</td>\n",
              "      <td>0.922909</td>\n",
              "      <td>both</td>\n",
              "    </tr>\n",
              "    <tr>\n",
              "      <th>4</th>\n",
              "      <td>Exxon Mobil Corporation</td>\n",
              "      <td>18215.0</td>\n",
              "      <td>2020.0</td>\n",
              "      <td>510.0</td>\n",
              "      <td>2021-09-12</td>\n",
              "      <td>None</td>\n",
              "      <td>0.214224</td>\n",
              "      <td>0.269807</td>\n",
              "      <td>0.420322</td>\n",
              "      <td>0.920032</td>\n",
              "      <td>0.021636</td>\n",
              "      <td>0.171373</td>\n",
              "      <td>0.189167</td>\n",
              "      <td>0.064513</td>\n",
              "      <td>0.918828</td>\n",
              "      <td>0.795904</td>\n",
              "      <td>0.802589</td>\n",
              "      <td>0.582347</td>\n",
              "      <td>0.289163</td>\n",
              "      <td>0.656745</td>\n",
              "      <td>0.822735</td>\n",
              "      <td>0.040066</td>\n",
              "      <td>0.957306</td>\n",
              "      <td>0.786656</td>\n",
              "      <td>0.697857</td>\n",
              "      <td>0.417477</td>\n",
              "      <td>0.137097</td>\n",
              "      <td>0.927230</td>\n",
              "      <td>0.850211</td>\n",
              "      <td>0.806667</td>\n",
              "      <td>0.737154</td>\n",
              "      <td>0.418239</td>\n",
              "      <td>0.950593</td>\n",
              "      <td>0.971491</td>\n",
              "      <td>0.402917</td>\n",
              "      <td>0.377196</td>\n",
              "      <td>0.858545</td>\n",
              "      <td>both</td>\n",
              "    </tr>\n",
              "    <tr>\n",
              "      <th>...</th>\n",
              "      <td>...</td>\n",
              "      <td>...</td>\n",
              "      <td>...</td>\n",
              "      <td>...</td>\n",
              "      <td>...</td>\n",
              "      <td>...</td>\n",
              "      <td>...</td>\n",
              "      <td>...</td>\n",
              "      <td>...</td>\n",
              "      <td>...</td>\n",
              "      <td>...</td>\n",
              "      <td>...</td>\n",
              "      <td>...</td>\n",
              "      <td>...</td>\n",
              "      <td>...</td>\n",
              "      <td>...</td>\n",
              "      <td>...</td>\n",
              "      <td>...</td>\n",
              "      <td>...</td>\n",
              "      <td>...</td>\n",
              "      <td>...</td>\n",
              "      <td>...</td>\n",
              "      <td>...</td>\n",
              "      <td>...</td>\n",
              "      <td>...</td>\n",
              "      <td>...</td>\n",
              "      <td>...</td>\n",
              "      <td>...</td>\n",
              "      <td>...</td>\n",
              "      <td>...</td>\n",
              "      <td>...</td>\n",
              "      <td>...</td>\n",
              "      <td>...</td>\n",
              "      <td>...</td>\n",
              "      <td>...</td>\n",
              "      <td>...</td>\n",
              "      <td>...</td>\n",
              "      <td>...</td>\n",
              "    </tr>\n",
              "    <tr>\n",
              "      <th>464</th>\n",
              "      <td>Crown Castle International Corp</td>\n",
              "      <td>114398634.0</td>\n",
              "      <td>2020.0</td>\n",
              "      <td>510.0</td>\n",
              "      <td>2021-09-12</td>\n",
              "      <td>None</td>\n",
              "      <td>0.904794</td>\n",
              "      <td>0.869555</td>\n",
              "      <td>0.670797</td>\n",
              "      <td>0.800785</td>\n",
              "      <td>0.321281</td>\n",
              "      <td>0.820206</td>\n",
              "      <td>0.630965</td>\n",
              "      <td>0.653507</td>\n",
              "      <td>0.772061</td>\n",
              "      <td>0.140032</td>\n",
              "      <td>0.806941</td>\n",
              "      <td>0.226519</td>\n",
              "      <td>0.683676</td>\n",
              "      <td>0.858629</td>\n",
              "      <td>0.320754</td>\n",
              "      <td>0.337971</td>\n",
              "      <td>0.942544</td>\n",
              "      <td>0.846063</td>\n",
              "      <td>0.686121</td>\n",
              "      <td>0.618061</td>\n",
              "      <td>0.550000</td>\n",
              "      <td>0.831148</td>\n",
              "      <td>0.833333</td>\n",
              "      <td>0.241706</td>\n",
              "      <td>0.671543</td>\n",
              "      <td>0.361413</td>\n",
              "      <td>0.577128</td>\n",
              "      <td>0.408960</td>\n",
              "      <td>0.712829</td>\n",
              "      <td>0.737923</td>\n",
              "      <td>0.718545</td>\n",
              "      <td>both</td>\n",
              "    </tr>\n",
              "    <tr>\n",
              "      <th>465</th>\n",
              "      <td>Simon Property Group Inc</td>\n",
              "      <td>63242.0</td>\n",
              "      <td>2020.0</td>\n",
              "      <td>500.0</td>\n",
              "      <td>2021-09-12</td>\n",
              "      <td>2020-12-31</td>\n",
              "      <td>0.741601</td>\n",
              "      <td>0.690796</td>\n",
              "      <td>0.521668</td>\n",
              "      <td>0.933133</td>\n",
              "      <td>0.370163</td>\n",
              "      <td>0.497888</td>\n",
              "      <td>0.140918</td>\n",
              "      <td>0.812751</td>\n",
              "      <td>0.915650</td>\n",
              "      <td>0.140618</td>\n",
              "      <td>0.693989</td>\n",
              "      <td>0.514492</td>\n",
              "      <td>0.794392</td>\n",
              "      <td>0.466516</td>\n",
              "      <td>0.828807</td>\n",
              "      <td>0.041272</td>\n",
              "      <td>0.318724</td>\n",
              "      <td>0.810050</td>\n",
              "      <td>0.604118</td>\n",
              "      <td>0.604118</td>\n",
              "      <td>1.000000</td>\n",
              "      <td>0.857377</td>\n",
              "      <td>0.881877</td>\n",
              "      <td>0.241706</td>\n",
              "      <td>0.716755</td>\n",
              "      <td>0.168478</td>\n",
              "      <td>0.934840</td>\n",
              "      <td>0.408960</td>\n",
              "      <td>0.073243</td>\n",
              "      <td>0.708438</td>\n",
              "      <td>0.858545</td>\n",
              "      <td>both</td>\n",
              "    </tr>\n",
              "    <tr>\n",
              "      <th>466</th>\n",
              "      <td>Cerner Corporation</td>\n",
              "      <td>21451.0</td>\n",
              "      <td>2020.0</td>\n",
              "      <td>500.0</td>\n",
              "      <td>2021-09-12</td>\n",
              "      <td>2020-12-31</td>\n",
              "      <td>0.725627</td>\n",
              "      <td>0.842732</td>\n",
              "      <td>0.325964</td>\n",
              "      <td>0.737502</td>\n",
              "      <td>0.403264</td>\n",
              "      <td>0.089669</td>\n",
              "      <td>0.756113</td>\n",
              "      <td>0.876685</td>\n",
              "      <td>0.192123</td>\n",
              "      <td>0.219834</td>\n",
              "      <td>0.767476</td>\n",
              "      <td>0.247569</td>\n",
              "      <td>0.557230</td>\n",
              "      <td>0.869520</td>\n",
              "      <td>0.849264</td>\n",
              "      <td>0.279905</td>\n",
              "      <td>0.351283</td>\n",
              "      <td>0.747799</td>\n",
              "      <td>0.405971</td>\n",
              "      <td>0.405971</td>\n",
              "      <td>1.000000</td>\n",
              "      <td>0.450355</td>\n",
              "      <td>0.142308</td>\n",
              "      <td>0.000000</td>\n",
              "      <td>0.679283</td>\n",
              "      <td>0.246429</td>\n",
              "      <td>0.766932</td>\n",
              "      <td>0.136364</td>\n",
              "      <td>0.492629</td>\n",
              "      <td>0.520859</td>\n",
              "      <td>0.385818</td>\n",
              "      <td>both</td>\n",
              "    </tr>\n",
              "    <tr>\n",
              "      <th>467</th>\n",
              "      <td>Post Holdings Inc</td>\n",
              "      <td>111181321.0</td>\n",
              "      <td>2020.0</td>\n",
              "      <td>500.0</td>\n",
              "      <td>2021-09-12</td>\n",
              "      <td>2020-09-30</td>\n",
              "      <td>0.412062</td>\n",
              "      <td>0.332095</td>\n",
              "      <td>0.860563</td>\n",
              "      <td>0.819825</td>\n",
              "      <td>0.717286</td>\n",
              "      <td>0.844563</td>\n",
              "      <td>0.430906</td>\n",
              "      <td>0.280565</td>\n",
              "      <td>0.552137</td>\n",
              "      <td>0.403496</td>\n",
              "      <td>0.621975</td>\n",
              "      <td>0.605132</td>\n",
              "      <td>0.128932</td>\n",
              "      <td>0.819637</td>\n",
              "      <td>0.912430</td>\n",
              "      <td>0.143073</td>\n",
              "      <td>0.198125</td>\n",
              "      <td>0.753338</td>\n",
              "      <td>0.344219</td>\n",
              "      <td>0.344219</td>\n",
              "      <td>0.696078</td>\n",
              "      <td>0.356089</td>\n",
              "      <td>0.214801</td>\n",
              "      <td>0.239130</td>\n",
              "      <td>0.412621</td>\n",
              "      <td>0.319383</td>\n",
              "      <td>0.585761</td>\n",
              "      <td>0.281250</td>\n",
              "      <td>0.273369</td>\n",
              "      <td>0.474435</td>\n",
              "      <td>0.533455</td>\n",
              "      <td>both</td>\n",
              "    </tr>\n",
              "    <tr>\n",
              "      <th>468</th>\n",
              "      <td>Huntington Bancshares Incorporated</td>\n",
              "      <td>25518.0</td>\n",
              "      <td>2020.0</td>\n",
              "      <td>510.0</td>\n",
              "      <td>2021-09-12</td>\n",
              "      <td>None</td>\n",
              "      <td>0.922783</td>\n",
              "      <td>0.883494</td>\n",
              "      <td>0.867576</td>\n",
              "      <td>0.930687</td>\n",
              "      <td>0.321738</td>\n",
              "      <td>0.783863</td>\n",
              "      <td>0.907602</td>\n",
              "      <td>0.255400</td>\n",
              "      <td>0.882829</td>\n",
              "      <td>0.936241</td>\n",
              "      <td>0.936828</td>\n",
              "      <td>0.695708</td>\n",
              "      <td>0.541661</td>\n",
              "      <td>0.858705</td>\n",
              "      <td>0.555168</td>\n",
              "      <td>0.814599</td>\n",
              "      <td>0.545767</td>\n",
              "      <td>0.861118</td>\n",
              "      <td>0.802496</td>\n",
              "      <td>0.802496</td>\n",
              "      <td>0.974576</td>\n",
              "      <td>0.698732</td>\n",
              "      <td>0.634875</td>\n",
              "      <td>0.696746</td>\n",
              "      <td>0.761473</td>\n",
              "      <td>0.402017</td>\n",
              "      <td>0.984903</td>\n",
              "      <td>0.744246</td>\n",
              "      <td>0.988864</td>\n",
              "      <td>0.785916</td>\n",
              "      <td>0.858545</td>\n",
              "      <td>both</td>\n",
              "    </tr>\n",
              "  </tbody>\n",
              "</table>\n",
              "<p>469 rows × 38 columns</p>\n",
              "</div>"
            ],
            "text/plain": [
              "                                orgname        orgid  ...  csrstrategyscore  _merge\n",
              "0                           Walmart Inc      32947.0  ...          0.718545    both\n",
              "1                      Amazon.com, Inc.     114492.0  ...          0.608727    both\n",
              "2                             Apple Inc      19775.0  ...          0.790182    both\n",
              "3                       CVS Health Corp      27445.0  ...          0.922909    both\n",
              "4               Exxon Mobil Corporation      18215.0  ...          0.858545    both\n",
              "..                                  ...          ...  ...               ...     ...\n",
              "464     Crown Castle International Corp  114398634.0  ...          0.718545    both\n",
              "465            Simon Property Group Inc      63242.0  ...          0.858545    both\n",
              "466                  Cerner Corporation      21451.0  ...          0.385818    both\n",
              "467                   Post Holdings Inc  111181321.0  ...          0.533455    both\n",
              "468  Huntington Bancshares Incorporated      25518.0  ...          0.858545    both\n",
              "\n",
              "[469 rows x 38 columns]"
            ]
          },
          "metadata": {},
          "execution_count": 38
        }
      ]
    },
    {
      "cell_type": "markdown",
      "metadata": {
        "id": "ctlsTQEvL3Fs"
      },
      "source": [
        ""
      ]
    },
    {
      "cell_type": "code",
      "metadata": {
        "id": "Rn7KZD0ALd-2"
      },
      "source": [
        "names_in_wrds_df[names_in_wrds_df['orgname'].str.contains('Chevron')]"
      ],
      "execution_count": null,
      "outputs": []
    },
    {
      "cell_type": "markdown",
      "metadata": {
        "id": "8OlZZ7Hv2kpe"
      },
      "source": [
        "\n",
        "\n",
        "/\n",
        "\n",
        "\n",
        "\n",
        "\n",
        "\n",
        "\n",
        "\n",
        "\n",
        "\n",
        "\n",
        "\n",
        "\n",
        "\n",
        "\n",
        "\n",
        "\n",
        "\n",
        "\n",
        "\n",
        "\n",
        "\n",
        "\n",
        "\n",
        "/\n",
        "\n"
      ]
    },
    {
      "cell_type": "code",
      "metadata": {
        "id": "WH0OW44jq-QW"
      },
      "source": [
        "!pip3 install fuzzywuzzy"
      ],
      "execution_count": null,
      "outputs": []
    },
    {
      "cell_type": "code",
      "metadata": {
        "id": "6UUpfz9Xq3z6"
      },
      "source": [
        "import fuzzywuzzy.process as fwp\n",
        "\n",
        "choices = list(companies_all_df.name)\n",
        "\n",
        "def fmatch(row): \n",
        "    minscore=90 #or whatever score works for you\n",
        "    try:\n",
        "      choice,score = fwp.extractOne(row.orgname,choices)\n",
        "    except TypeError:\n",
        "      return \"\"\n",
        "    if (score > minscore):\n",
        "      print(row.orgname, choice)\n",
        "    return choice if score > minscore else None\n",
        "\n",
        "names_in_wrds_df['cmp_name'] = names_in_wrds_df.apply(fmatch,axis=1)\n",
        "\n",
        "# merged = pd.merge(df1, \n",
        "#                   df2,\n",
        "#                   left_on='df2_name',\n",
        "#                   right_on='name',\n",
        "#                   suffixes=['_df1','_df2'],\n",
        "#                   how = 'outer') # assuming you want to keep unmatched records"
      ],
      "execution_count": null,
      "outputs": []
    },
    {
      "cell_type": "code",
      "metadata": {
        "id": "sYZLG5LqJ_OA"
      },
      "source": [
        "names_in_wrds_df=names_in_wrds_df.dropna(subset=['orgname'])"
      ],
      "execution_count": null,
      "outputs": []
    },
    {
      "cell_type": "code",
      "metadata": {
        "id": "xJ_FRY7ZKa60"
      },
      "source": [
        "names_in_wrds_df"
      ],
      "execution_count": null,
      "outputs": []
    },
    {
      "cell_type": "code",
      "metadata": {
        "id": "F-1riImarea4"
      },
      "source": [
        ""
      ],
      "execution_count": null,
      "outputs": []
    },
    {
      "cell_type": "code",
      "metadata": {
        "id": "yIDevlvQevuo"
      },
      "source": [
        "companies_all_df[companies_all_df['ticker']=='GOOGL']"
      ],
      "execution_count": null,
      "outputs": []
    },
    {
      "cell_type": "code",
      "metadata": {
        "id": "EN41SPEhOg5p"
      },
      "source": [
        "lll = names_in_wrds_df.merge(companies_all_df, left_on='tick', right_on='ticker', how='right', indicator=True)"
      ],
      "execution_count": null,
      "outputs": []
    },
    {
      "cell_type": "code",
      "metadata": {
        "id": "2Vdcla-wf3vl"
      },
      "source": [
        "lll.to_csv('TOT.csv')"
      ],
      "execution_count": null,
      "outputs": []
    },
    {
      "cell_type": "code",
      "metadata": {
        "id": "Q0Pk_-tZdGjB"
      },
      "source": [
        "ll_df = db.raw_sql(\"SELECT * FROM tr_esg.wrds_company_info WHERE tick='GOOG'\")\n",
        "ll_df"
      ],
      "execution_count": null,
      "outputs": []
    },
    {
      "cell_type": "code",
      "metadata": {
        "id": "v4xzqIc0B7of"
      },
      "source": [
        "# Specify that all figures should be displayed with 2 decimal pla\n",
        "pd.options.display.float_format = '{:.2f}'.format"
      ],
      "execution_count": null,
      "outputs": []
    },
    {
      "cell_type": "code",
      "metadata": {
        "id": "-vW2TeTy8Bn4"
      },
      "source": [
        "# # Define a function that prints the percentage of missing observations in each column in descending order\n",
        "def get_missing_value_df_annual(df):\n",
        "  percent_missing_ideal = df.isna().sum() / (4147*11)\n",
        "  missing_value_df = pd.DataFrame({'column_name': df.columns,\n",
        "                                 'non_null_observations': df.count(),\n",
        "                                 'missing_observations': df.isna().sum(),\n",
        "                                 'percent_missing_ideal': percent_missing_ideal})\n",
        "  missing_value_df.sort_values('percent_missing_ideal', ascending=False, inplace=True)\n",
        "  return missing_value_df.reset_index(drop=True)\n",
        "\n",
        "# Define a function that prints the percentage of missing observations in each column in descending order\n",
        "def get_missing_value_df(df):\n",
        "  # Print the no. of ISINs for which there is\n",
        "  num_isins = len(df['isin'].unique())\n",
        "  isin_percent = (num_isins / 4147) * 100\n",
        "  print('Of all the 4147 ISINs, there is data present for ' + str(num_isins) + ' ISINs (' + str(round(isin_percent, 2)) + '%).') \n",
        "  \n",
        "  # Missingness by Year for Each Variable\n",
        "  print('\\n')\n",
        "  print('Missingness by Year for Each Variable')\n",
        "  missingness_by_year_df = df.drop(columns=['isin', 'orgid', 'orgname', 'fiscal_year']).isnull().groupby(df['fiscal_year'].astype(int)).sum() / 4147 * 100\n",
        "  display(missingness_by_year_df)\n",
        "\n",
        "  # Missingness in an \"ideal world\" (If there was data for all 4147 ISINs by quarter for all 10 years) \n",
        "  print('\\n')\n",
        "  print('Missingness in an \"ideal world\" (If there was data for all 4147 ISINs by quarter for all 10 years)')\n",
        "  percent_missing_ideal = df.isna().sum() * 100 / (4147*11)  \n",
        "  missing_value_df = pd.DataFrame({'non_null_observations': df.count(),\n",
        "                                 'missing_observations': df.isna().sum(),\n",
        "                                 'percent_missing_ideal': percent_missing_ideal})\n",
        "  missing_value_df.sort_values('percent_missing_ideal', ascending=False).reset_index(inplace=True)\n",
        "  display(missing_value_df)"
      ],
      "execution_count": null,
      "outputs": []
    },
    {
      "cell_type": "markdown",
      "metadata": {
        "id": "6QNNKIYLPgtV"
      },
      "source": [
        "## Refinitiv (Updated 7/10)"
      ]
    },
    {
      "cell_type": "markdown",
      "metadata": {
        "id": "-lo56MONRMmf"
      },
      "source": [
        "Refinitiv's ESG database doesn't use the ESG as the identifier for each security. Instead, they use a propretiary `orgid` (organization id) to identify each security. Thus, we need to first identify which ISINs are contained within Refinitiv's database, and identify what sort of mapping exists between ISINs and Refinitiv's `orgid` (whether the mapping is one-to-one or one-to-many). "
      ]
    },
    {
      "cell_type": "markdown",
      "metadata": {
        "id": "mYIbS6eIUB_2"
      },
      "source": [
        "### Identifying which ISINs are represented in Refinitiv's data libraries (Updated 7/10)\n",
        "\n",
        "\n",
        "\n"
      ]
    },
    {
      "cell_type": "markdown",
      "metadata": {
        "id": "M6qssA04XqEH"
      },
      "source": [
        "Let's first identity which ISINs are represented in Refinitiv's data library. "
      ]
    },
    {
      "cell_type": "code",
      "metadata": {
        "id": "ISmZZiH3OfCd"
      },
      "source": [
        "isin_list = pd.read_csv(\"/content/mnt/MyDrive/isin_list.txt\", header = None)\n",
        "\n",
        "start_date = datetime.date(2010, 1, 1)\n",
        "end_date = datetime.date(2020, 12, 31)\n",
        "\n",
        "vars = {'orgs': tuple(isin_list[0].unique()), 'start': start_date, 'end': end_date}"
      ],
      "execution_count": null,
      "outputs": []
    },
    {
      "cell_type": "code",
      "metadata": {
        "id": "1O4zXn5_NLTr"
      },
      "source": [
        "refinitiv_isins = db.raw_sql(\"SELECT * \"\n",
        "                             \"FROM tr_esg.wrds_company_info \"\n",
        "                             \"WHERE orgname LIKE '%Walmart%' \")"
      ],
      "execution_count": null,
      "outputs": []
    },
    {
      "cell_type": "code",
      "metadata": {
        "id": "03Wc9zMP_M7w"
      },
      "source": [
        "refinitiv_isins"
      ],
      "execution_count": null,
      "outputs": []
    },
    {
      "cell_type": "markdown",
      "metadata": {
        "id": "3fJUEDChShYY"
      },
      "source": [
        "Below, we see that some isins map to multiple organization IDs. Let's verify whether these multiple `orgid` attributes are duplicates or actually correspond to different securities. "
      ]
    },
    {
      "cell_type": "code",
      "metadata": {
        "id": "gSj9GPo2Rqxo"
      },
      "source": [
        "grouped_refinitiv_isins = refinitiv_isins.groupby(by='isin').agg('count')\n",
        "grouped_refinitiv_isins[grouped_refinitiv_isins['orgid'] != 1].sort_values(by='orgid', ascending=False).head()"
      ],
      "execution_count": null,
      "outputs": []
    },
    {
      "cell_type": "markdown",
      "metadata": {
        "id": "jaNMtRU9WQT5"
      },
      "source": [
        "We see below that some (`isin`, `orgid`) pairs are duplicated."
      ]
    },
    {
      "cell_type": "code",
      "metadata": {
        "id": "fGcFuVLhT4Nk"
      },
      "source": [
        "duplicated_isins = grouped_refinitiv_isins[grouped_refinitiv_isins['orgid'] != 1].reset_index()['isin']"
      ],
      "execution_count": null,
      "outputs": []
    },
    {
      "cell_type": "code",
      "metadata": {
        "id": "drWTkH8EUqzA"
      },
      "source": [
        "pd.merge(refinitiv_isins, duplicated_isins, on='isin', copy=False).sort_values(by='isin')"
      ],
      "execution_count": null,
      "outputs": []
    },
    {
      "cell_type": "markdown",
      "metadata": {
        "id": "PLAEn-kfWcI7"
      },
      "source": [
        "However, after removing duplicate (`isin`, `orgid`) pairs, we still see that the no. of ISINs and the no. of `orgid`s differs, indicating that there are some ISINs that map to multiple `orgid`s.  "
      ]
    },
    {
      "cell_type": "code",
      "metadata": {
        "id": "udi5hNnFTWXb"
      },
      "source": [
        "unique_duplicated_isins = pd.merge(refinitiv_isins, duplicated_isins, on='isin', copy=False).drop_duplicates(subset=['isin', 'orgid']).sort_values(by='isin')\n",
        "unique_duplicated_isins.head()"
      ],
      "execution_count": null,
      "outputs": []
    },
    {
      "cell_type": "code",
      "metadata": {
        "id": "JKOIZHDkVQ-B"
      },
      "source": [
        "unique_duplicated_isins['isin'].unique().shape"
      ],
      "execution_count": null,
      "outputs": []
    },
    {
      "cell_type": "code",
      "metadata": {
        "id": "-2nFuzP6VTdD"
      },
      "source": [
        "unique_duplicated_isins['orgid'].unique().shape"
      ],
      "execution_count": null,
      "outputs": []
    },
    {
      "cell_type": "markdown",
      "metadata": {
        "id": "gj9iYCBpWpv6"
      },
      "source": [
        "Indeed, we see below that there are actually 4 ISINs that each correspond to two different `orgid`s and two different financial entities. "
      ]
    },
    {
      "cell_type": "code",
      "metadata": {
        "id": "V3rjU_eZVYZK"
      },
      "source": [
        "unique_duplicated_isins.groupby('isin').agg('count').sort_values(by='orgid', ascending=False).head(n=4)"
      ],
      "execution_count": null,
      "outputs": []
    },
    {
      "cell_type": "code",
      "metadata": {
        "id": "fwlaikw_Vujx"
      },
      "source": [
        "unique_duplicated_isins[unique_duplicated_isins['isin'].isin(['JP3298000005',\n",
        "                                                              'IE00BY7QL619',\n",
        "                                                              'NL0010545661',\n",
        "                                                              'CA94106B1013'])]"
      ],
      "execution_count": null,
      "outputs": []
    },
    {
      "cell_type": "markdown",
      "metadata": {
        "id": "WNu_6me7bPRe"
      },
      "source": [
        "### Annual Employee-related data/Social Contributions (Updated 7/10)"
      ]
    },
    {
      "cell_type": "markdown",
      "metadata": {
        "id": "fRuZ-zTcXMn-"
      },
      "source": [
        "With the above in mind, let's collect employee-related data from Refinitiv and use the `orgid` as the identifier (keeping in mind that 8 `orgids` will correspond to a duplicated ISIN). "
      ]
    },
    {
      "cell_type": "code",
      "metadata": {
        "id": "1hi7ARsPOPvQ"
      },
      "source": [
        "refinitiv_vars = {'orgids': tuple(refinitiv_isins['orgid'].unique().tolist()), \n",
        "                  'start': start_date, \n",
        "                  'end': end_date}"
      ],
      "execution_count": null,
      "outputs": []
    },
    {
      "cell_type": "code",
      "metadata": {
        "id": "nNYLClNeB0ar"
      },
      "source": [
        "db"
      ],
      "execution_count": null,
      "outputs": []
    },
    {
      "cell_type": "code",
      "metadata": {
        "id": "UETYNYM0OE6V"
      },
      "source": [
        "refinitiv_emp_df = db.raw_sql(\"SELECT fisyear AS fiscal_year, orgid, \"\n",
        "          \"so_wo_eq_dp016 AS salaries_wages, \"\n",
        "          \"so_wo_td_dp021 AS training_costs, \"\n",
        "          \"so_wo_eq_dp001_1 AS employment_benefits, \"\n",
        "          \"so_wo_eq_dp034 AS employee_turnover, \"\n",
        "          \"so_so_co_dp060 AS tax_fraud_controversies, \"\n",
        "          \"so_so_co_dp074 AS corporate_responsibilities_awards, \"\n",
        "          \"so_wo_do_dp017 AS female_employees, \"\n",
        "          \"so_wo_do_dp019 AS female_managers, \"\n",
        "          \"so_wo_do_dp032 AS disabled_employees, \"\n",
        "          \"so_wo_do_dp023 AS hrc_corporate_equality_index, \"\n",
        "          \"so_wo_eq_dp037 AS strikes, \"\n",
        "          \"so_wo_do_dp027 AS day_care_services, \"\n",
        "          \"so_so_co_dp075 AS lobbying_contribution_amount, \"\n",
        "          \"so_so_co_dp035 AS political_contributions, \"\n",
        "          \"so_so_co_dp030 AS microfinance_impact_investments, \"\n",
        "          \"so_so_co_dp028 AS total_donations \"\n",
        "          \"FROM tr_esg.wrds_company_so \"\n",
        "          \"WHERE orgid = 32947.00 AND fisyear >= 2000\")"
      ],
      "execution_count": null,
      "outputs": []
    },
    {
      "cell_type": "code",
      "metadata": {
        "id": "a2_vInwUQVvV"
      },
      "source": [
        "refinitiv_emp_df.head(n=10)"
      ],
      "execution_count": null,
      "outputs": []
    },
    {
      "cell_type": "code",
      "metadata": {
        "id": "GqdR4TrUQ_Kt"
      },
      "source": [
        "refinitiv_emp_df.shape"
      ],
      "execution_count": null,
      "outputs": []
    },
    {
      "cell_type": "code",
      "metadata": {
        "id": "cuLfholdQmwY"
      },
      "source": [
        "# We have data for 3676 distinct financial entities, of which 3668 correspond to distinct ISINs. \n",
        "refinitiv_emp_df['orgid'].unique().shape"
      ],
      "execution_count": null,
      "outputs": []
    },
    {
      "cell_type": "code",
      "metadata": {
        "id": "5Q9_hlNVcuA1"
      },
      "source": [
        "# Merge with ISINs\n",
        "refinitiv_emp_merged_df = pd.merge(refinitiv_isins, refinitiv_emp_df, on='orgid')"
      ],
      "execution_count": null,
      "outputs": []
    },
    {
      "cell_type": "code",
      "metadata": {
        "id": "B9pghIQUdGFN"
      },
      "source": [
        "# Drop any rows that have the same (isin, orgid, fiscal_year) combination\n",
        "refinitiv_emp_merged_df.drop_duplicates(subset=['isin', 'orgid', 'fiscal_year'], inplace=True)"
      ],
      "execution_count": null,
      "outputs": []
    },
    {
      "cell_type": "markdown",
      "metadata": {
        "id": "All4ZRknkG8X"
      },
      "source": [
        "There are 4147 unique ISINs in our existing data."
      ]
    },
    {
      "cell_type": "code",
      "metadata": {
        "id": "T6MO8X0Dj17B"
      },
      "source": [
        "len(vars['orgs'])"
      ],
      "execution_count": null,
      "outputs": []
    },
    {
      "cell_type": "code",
      "metadata": {
        "id": "oOC3IjS8k-Y7"
      },
      "source": [
        "len(refinitiv_emp_df)"
      ],
      "execution_count": null,
      "outputs": []
    },
    {
      "cell_type": "code",
      "metadata": {
        "id": "Stma66iMlph3"
      },
      "source": [
        "len(refinitiv_emp_merged_df['isin'].unique())"
      ],
      "execution_count": null,
      "outputs": []
    },
    {
      "cell_type": "code",
      "metadata": {
        "id": "28V9EMY_o2lU"
      },
      "source": [
        "refinitiv_emp_merged_df['fiscal_year'].astype(int)"
      ],
      "execution_count": null,
      "outputs": []
    },
    {
      "cell_type": "code",
      "metadata": {
        "id": "tG96JhVDoKI4"
      },
      "source": [
        "refinitiv_emp_merged_df.drop(columns=['isin', 'orgid', 'orgname', 'fiscal_year']).isnull().groupby(refinitiv_emp_merged_df['fiscal_year'].astype(int)).sum() / 4147 * 100"
      ],
      "execution_count": null,
      "outputs": []
    },
    {
      "cell_type": "code",
      "metadata": {
        "id": "sUpsSmEvlLGO"
      },
      "source": [
        "# Define a function that prints the percentage of missing observations in each column in descending order\n",
        "def get_missing_value_df(df):\n",
        "  # Print the no. of ISINs for which there is\n",
        "  num_isins = len(df['isin'].unique())\n",
        "  isin_percent = (num_isins / 4147) * 100\n",
        "  print('Of all the 4147 ISINs, there is data present for ' + str(num_isins) + ' ISINs (' + str(round(isin_percent, 2)) + '%).') \n",
        "  \n",
        "  # Missingness by Year for Each Variable\n",
        "  print('\\n')\n",
        "  print('Missingness by Year for Each Variable')\n",
        "  missingness_by_year_df = df.drop(columns=['isin', 'orgid', 'orgname', 'fiscal_year']).isnull().groupby(df['fiscal_year'].astype(int)).sum() / 4147 * 100\n",
        "  display(missingness_by_year_df)\n",
        "\n",
        "  # Missingness in an \"ideal world\" (If there was data for all 4147 ISINs by quarter for all 10 years) \n",
        "  print('\\n')\n",
        "  print('Missingness in an \"ideal world\" (If there was data for all 4147 ISINs by quarter for all 10 years)')\n",
        "  percent_missing_ideal = df.isna().sum() * 100 / (4147*4*10)  \n",
        "  missing_value_df = pd.DataFrame({'non_null_observations': df.count(),\n",
        "                                 'missing_observations': df.isna().sum(),\n",
        "                                 'percent_missing_ideal': percent_missing_ideal})\n",
        "  missing_value_df.sort_values('percent_missing_ideal', ascending=False).reset_index(inplace=True)\n",
        "  display(missing_value_df)"
      ],
      "execution_count": null,
      "outputs": []
    },
    {
      "cell_type": "code",
      "metadata": {
        "id": "hUbhy8ILo2pa"
      },
      "source": [
        "get_missing_value_df(refinitiv_emp_merged_df)"
      ],
      "execution_count": null,
      "outputs": []
    },
    {
      "cell_type": "code",
      "metadata": {
        "id": "J_lrK5jlkKw1"
      },
      "source": [
        "refinitiv_emp_df.isna().sum() / (4147 * 4 * 10)"
      ],
      "execution_count": null,
      "outputs": []
    },
    {
      "cell_type": "code",
      "metadata": {
        "id": "xmaJyuOgjpTM"
      },
      "source": [
        "refinitiv_emp_merged_df.to_excel(\"/content/drive/MyDrive/Refinitiv_Employee_Data_0716.xlsx\")"
      ],
      "execution_count": null,
      "outputs": []
    },
    {
      "cell_type": "markdown",
      "metadata": {
        "id": "KsVdkuSElRPO"
      },
      "source": [
        "### Annual Environmental Data (Updated 7/10)"
      ]
    },
    {
      "cell_type": "markdown",
      "metadata": {
        "id": "iLScHh6IlUNl"
      },
      "source": [
        "The following variables were collected from the `wrds_company_en` table in Refinitiv's WRDS library.        \n",
        "https://wrds-www.wharton.upenn.edu/data-dictionary/tr_esg/wrds_company_en/                 \n",
        "\n",
        "\n",
        "\n",
        "| Variable in Refinitiv Database | Description |\n",
        "|:---:|:---:|\n",
        "| orgid | Organization ID |\n",
        "| fisyear | Fiscal Year |\n",
        "| en_en_er_dp023 | CO2 Equivalents Emission Total |\n",
        "| en_en_er_dp024 | CO2 Equivalents Emission Direct |\n",
        "| en_en_er_dp045 | Waste Total |\n",
        "| en_en_er_dp052 | Waste Recycled Total |\n",
        "| en_en_er_dp056 | Hazardous Waste |\n",
        "| en_en_er_dp062 | Waste Reduction Initiatives |\n",
        "| en_en_er_dp058 | Water Pollutant Emissions |\n",
        "| en_en_er_dp098 | Waste Recycling Ratio  |\n",
        "| en_en_pi_dp027 | Fleet Fuel Consumption |\n",
        "| en_en_pi_dp029 | Fleet CO2 Emissions |\n",
        "| en_en_er_dp034 | NOx Emissions |\n",
        "| en_en_er_dp035 | SOx Emissions |\n",
        "| en_en_er_dp040 | VOC Emissions |\n",
        "| en_en_er_dp032 | Ozone-Depleting Substances |\n",
        "| en_en_er_dp033 | NOx and SOx Emissions Reduction Initiatives |\n",
        "| en_en_er_dp036 | VOC Emissions Reduction Initiatives |\n",
        "| en_en_er_dp037 | Particulate Matter Reduction Initiatives |\n",
        "| en_en_rr_dp033 | Energy Use Total |\n",
        "| en_en_rr_dp056 | Water Recycled |\n",
        "| en_en_er_dp123 | Estimated CO2 Equivalents Emission Total |\n",
        "| en_en_rr_dp063 | Natural Gas Produced (raw material in million m3) |\n",
        "| en_en_rr_dp064 | Oil Produced (raw material in barrels) |\n",
        "| en_en_rr_dp062 | Coal Produced (raw material in tonnes) |\n",
        "| en_en_er_dp085 | Volume of Accidental Spills |\n",
        "| en_en_er_dp068 | Emissions Trading |\n",
        "| en_en_er_dp097 | Carbon Offsets/Credits |"
      ]
    },
    {
      "cell_type": "code",
      "metadata": {
        "id": "pWPRw0fGmhLW"
      },
      "source": [
        "refinitiv_env_df = db.raw_sql(\"SELECT orgid, fisyear, \"\n",
        "\"en_en_er_dp023, \"\n",
        "\"en_en_er_dp024, \"\n",
        "\"en_en_er_dp045, \"\n",
        "\"en_en_er_dp052, \"\n",
        "\"en_en_er_dp056, \"\n",
        "\"en_en_er_dp062, \"\n",
        "\"en_en_er_dp058, \"\n",
        "\"en_en_er_dp098, \"\n",
        "\"en_en_pi_dp027, \"\n",
        "\"en_en_pi_dp029, \"\n",
        "\"en_en_er_dp034, \"\n",
        "\"en_en_er_dp035, \"\n",
        "\"en_en_er_dp040, \"\n",
        "\"en_en_er_dp032, \"\n",
        "\"en_en_er_dp033, \"\n",
        "\"en_en_er_dp036, \"\n",
        "\"en_en_er_dp037, \"\n",
        "\"en_en_rr_dp033, \"\n",
        "\"en_en_rr_dp056, \"\n",
        "\"en_en_er_dp123, \"\n",
        "\"en_en_rr_dp063, \"\n",
        "\"en_en_rr_dp064, \"\n",
        "\"en_en_rr_dp062, \"\n",
        "\"en_en_er_dp085, \"\n",
        "\"en_en_er_dp068, \"\n",
        "\"en_en_er_dp097 \"\n",
        "\"FROM tr_esg.wrds_company_en \"\n",
        "\"WHERE orgid IN %(orgids)s AND fisyear >= 2010 AND fisyear <= 2020\",\n",
        "params=refinitiv_vars)"
      ],
      "execution_count": null,
      "outputs": []
    },
    {
      "cell_type": "code",
      "metadata": {
        "id": "NGz9HBJ-n_JJ"
      },
      "source": [
        "refinitiv_env_merged_df = pd.merge(refinitiv_isins, refinitiv_env_df, on='orgid')"
      ],
      "execution_count": null,
      "outputs": []
    },
    {
      "cell_type": "code",
      "metadata": {
        "id": "oQzrw52GoVAK"
      },
      "source": [
        "refinitiv_env_merged_df.drop_duplicates(subset=['isin', 'orgid', 'fisyear'], inplace=True)"
      ],
      "execution_count": null,
      "outputs": []
    },
    {
      "cell_type": "code",
      "metadata": {
        "id": "oYR3IO7cnnEx"
      },
      "source": [
        "refinitiv_env_merged_df.rename(columns={\n",
        "\"fisyear\": \"fiscal_year\",    \n",
        "\"en_en_er_dp023\": \"CO2 Equivalents Emission Total\",\n",
        "\"en_en_er_dp024\": \"CO2 Equivalents Emission Direct\",\n",
        "\"en_en_er_dp045\": \"Waste Total\",\n",
        "\"en_en_er_dp052\": \"Waste Recycled Total\",\n",
        "\"en_en_er_dp056\": \"Hazardous Waste\",\n",
        "\"en_en_er_dp062\": \"Waste Reduction Initiatives\",\n",
        "\"en_en_er_dp058\": \"Water Pollutant Emissions\",\n",
        "\"en_en_er_dp098\": \"Waste Recycling Ratio\",\n",
        "\"en_en_pi_dp027\": \"Fleet Fuel Consumption\",\n",
        "\"en_en_pi_dp029\": \"Fleet CO2 Emissions\",\n",
        "\"en_en_er_dp034\": \"NOx Emissions\",\n",
        "\"en_en_er_dp035\": \"SOx Emissions\",\n",
        "\"en_en_er_dp040\": \"VOC Emissions\",\n",
        "\"en_en_er_dp032\": \"Ozone-Depleting Substances\",\n",
        "\"en_en_er_dp033\": \"NOx and SOx Emissions Reduction Initiatives\",\n",
        "\"en_en_er_dp036\": \"VOC Emissions Reduction Initiatives\",\n",
        "\"en_en_er_dp037\": \"Particulate Matter Reduction Initiatives\",\n",
        "\"en_en_rr_dp033\": \"Energy Use Total\",\n",
        "\"en_en_rr_dp056\": \"Water Recycled\",\n",
        "\"en_en_er_dp123\": \"Estimated CO2 Equivalents Emission Total\",\n",
        "\"en_en_rr_dp063\": \"Natural Gas Produced (raw material in million m3)\",\n",
        "\"en_en_rr_dp064\": \"Oil Produced (raw material in barrels)\",\n",
        "\"en_en_rr_dp062\": \"Coal Produced (raw material in tonnes)\",\n",
        "\"en_en_er_dp085\": \"Volume of Accidental Spills\",\n",
        "\"en_en_er_dp068\": \"Emissions Trading\",\n",
        "\"en_en_er_dp097\": \"Carbon Offsets/Credits\"},\n",
        "inplace=True)"
      ],
      "execution_count": null,
      "outputs": []
    },
    {
      "cell_type": "code",
      "metadata": {
        "id": "IU70_IWlzjZO"
      },
      "source": [
        "refinitiv_env_merged_df['Energy Use Total'].value_counts()"
      ],
      "execution_count": null,
      "outputs": []
    },
    {
      "cell_type": "code",
      "metadata": {
        "id": "kFfakPYKowyk"
      },
      "source": [
        "get_missing_value_df(refinitiv_env_merged_df)"
      ],
      "execution_count": null,
      "outputs": []
    },
    {
      "cell_type": "code",
      "metadata": {
        "id": "pSai4hNimQFs"
      },
      "source": [
        "refinitiv_env_merged_df.to_excel(\"/content/drive/MyDrive/Refinitiv_Environmental_Data_0716.xlsx\")"
      ],
      "execution_count": null,
      "outputs": []
    },
    {
      "cell_type": "markdown",
      "metadata": {
        "id": "uRRS8pSsXfLO"
      },
      "source": [
        "### Legacy code for Refinitiv Employee Data (**Deprecated**)"
      ]
    },
    {
      "cell_type": "code",
      "metadata": {
        "id": "tsn82DuE4LY1"
      },
      "source": [
        "# Import Environmental Data that we downloaded from Refinitiv via the WRDS web UI\n",
        "refinitiv_env_df = pd.read_excel(\"/content/mnt/MyDrive/Refinitiv_environmental_data.xlsx\")"
      ],
      "execution_count": null,
      "outputs": []
    },
    {
      "cell_type": "code",
      "metadata": {
        "id": "FgmD_cI2iOXZ"
      },
      "source": [
        "refinitiv_env_df.columns"
      ],
      "execution_count": null,
      "outputs": []
    },
    {
      "cell_type": "code",
      "metadata": {
        "id": "T7cRgxrI3REJ"
      },
      "source": [
        "# List of Refinitiv Organization IDs corresponding to the desired ISINs\n",
        "orgids = tuple(refinitiv_env_df['Organization ID'].unique().tolist())"
      ],
      "execution_count": null,
      "outputs": []
    },
    {
      "cell_type": "code",
      "metadata": {
        "id": "QJvUu-zd1oqs"
      },
      "source": [
        "# Company specific data from Refinitiv\n",
        "parm = {'orgs': orgids}\n",
        "\n",
        "# Refinitiv Employee Metric Dataframe\n",
        "refinitiv_emp_df = db.raw_sql(\"SELECT fisyear, orgid, \"\n",
        "          \"so_wo_eq_dp016 AS salaries_wages, \"\n",
        "          \"so_wo_td_dp021 AS training_costs, \"\n",
        "          \"so_wo_eq_dp001_1 AS employment_benefits, \"\n",
        "          \"so_so_co_dp035 AS employee_turnover, \"\n",
        "          \"so_so_co_dp035 AS political_contributions, \"\n",
        "          \"so_so_co_dp060 AS tax_fraud_controversies \"\n",
        "          \"FROM tr_esg.wrds_company_so \"\n",
        "          \"WHERE orgid IN %(orgs)s AND fisyear >= 2010\",\n",
        "           params=parm)\n",
        "refinitiv_emp_df.head(n=10)"
      ],
      "execution_count": null,
      "outputs": []
    },
    {
      "cell_type": "code",
      "metadata": {
        "id": "ewynXIec8s9Z"
      },
      "source": [
        "refinitiv_emp_df.iloc[:,2:].describe()"
      ],
      "execution_count": null,
      "outputs": []
    },
    {
      "cell_type": "code",
      "metadata": {
        "id": "ovelTeC58Vh-"
      },
      "source": [
        "refinitiv_emp_missing_df = get_missing_value_df(refinitiv_emp_df)\n",
        "refinitiv_emp_missing_df"
      ],
      "execution_count": null,
      "outputs": []
    },
    {
      "cell_type": "markdown",
      "metadata": {
        "id": "U83tRkBl9Tl2"
      },
      "source": [
        "### Refinitiv Environmental Data (**Deprecated**)\n"
      ]
    },
    {
      "cell_type": "code",
      "metadata": {
        "id": "k_f_sgTe9XJB"
      },
      "source": [
        "refinitiv_env_df.iloc[:, 2:].describe()"
      ],
      "execution_count": null,
      "outputs": []
    },
    {
      "cell_type": "code",
      "metadata": {
        "id": "DIgekrBu9cKq"
      },
      "source": [
        "refinitiv_env_missing_df = get_missing_value_df(refinitiv_env_df)\n",
        "refinitiv_env_missing_df"
      ],
      "execution_count": null,
      "outputs": []
    },
    {
      "cell_type": "markdown",
      "metadata": {
        "id": "qhPo0kSuL3k0"
      },
      "source": [
        "## Worldscope (Updated 8/11)\n"
      ]
    },
    {
      "cell_type": "code",
      "metadata": {
        "id": "pW2gU6t0N3id"
      },
      "source": [
        "isin_list = pd.read_csv(\"/content/mnt/MyDrive/isin_list.txt\", header = None)\n",
        "\n",
        "start_date = datetime.date(2010, 1, 1)\n",
        "end_date = datetime.date(2020, 12, 31)\n",
        "\n",
        "vars = {'orgs': tuple(isin_list[0].unique()), 'start': start_date, 'end': end_date}"
      ],
      "execution_count": null,
      "outputs": []
    },
    {
      "cell_type": "markdown",
      "metadata": {
        "id": "fc02c_NMQb-f"
      },
      "source": [
        "We first examine how many ISINs are represented in the Worldscope data. We see below that Worldscope has data for 4032 ISINs (approx. 97% of all 4147 of our desired ISINs). Like Refinitiv, Worldscope uses its propreitary ID to identify each security within its ESG-related datasets, so we need to obtain a mapping from ISINs to Worldscope's propreitary ID. "
      ]
    },
    {
      "cell_type": "code",
      "metadata": {
        "id": "wWfofWbGNlK5"
      },
      "source": [
        "# Querying Worldscope's entity ID table\n",
        "# https://wrds-www.wharton.upenn.edu/data-dictionary/tr_worldscope/wrds_ws_ids/\n",
        "\n",
        "ws_isins_df = db.raw_sql(\"SELECT code, item6008 AS isin, item6035 AS ws_id, item6105 AS ws_perm_id \"\n",
        "\"FROM wrds_ws_ids \"\n",
        "\"WHERE item6008 IN %(orgs)s\", \n",
        "params=vars)\n",
        "\n",
        "# Checked separately that there are no duplicate ISINs in the Worldscope data\n",
        "len(ws_isins_df['isin'].unique())"
      ],
      "execution_count": null,
      "outputs": []
    },
    {
      "cell_type": "markdown",
      "metadata": {
        "id": "3GACjXt_VghJ"
      },
      "source": [
        "### Quarterly Financial Data (Taxes, Payables, EPS, CAPEX) (Updated 7/11)"
      ]
    },
    {
      "cell_type": "markdown",
      "metadata": {
        "id": "rO_vQrjAVp-E"
      },
      "source": [
        "The following variables were collected from Worldscope's Quarterly Fundamentals dataset.             \n",
        "https://wrds-www.wharton.upenn.edu/data-dictionary/tr_worldscope/wrds_ws_fundq/                   \n",
        "\n",
        "| Variable in Worldscope database | Description |\n",
        "|:---:|:---:|\n",
        "| item6008 | ISIN |\n",
        "| item5601 | Ticker |\n",
        "| date_ | Date (Quarter) |\n",
        "| item1451 | Income Taxes |\n",
        "| item3063 | Income Taxes Payable |\n",
        "| item3263 | Deferred Taxes |\n",
        "| item3040 | Accounts Payable |\n",
        "| item3255 | Total Debt |\n",
        "| item8231 | Total Debt % Common Equity |\n",
        "| item8236 | Total Debt % Total Assets |\n",
        "| item3251 | Long Term Debt |\n",
        "| item8226 | Long Term Debt % Common Equity |\n",
        "| item4701 | Reduction in Long Term Debt |\n",
        "| item4401 | Long Term Borrowings |\n",
        "| item8106 | Current Ratio |\n",
        "| item4601 | Capital Expenditures (additions to fixed assets) |\n",
        "| item8416 | Capital Expenditures % Total Assets |\n",
        "| item8421 | Capital Expenditures % Total Sales |\n",
        "| item18173 | Unconsolidated/Parent Company Earnings Per Share |\n",
        "| item8601 | Earnings Per Share - 1 Yr Annual Growth |\n",
        "| item8699 | Earnings Per Share - Quarter |"
      ]
    },
    {
      "cell_type": "code",
      "metadata": {
        "id": "koDRc2cOXEU_"
      },
      "source": [
        "ws_financial_df = db.raw_sql(\"SELECT item6008, \"\n",
        "\"item5601, \"\n",
        "\"date_, \"\n",
        "\"year_, \"\n",
        "\"item6099, \"\n",
        "\"item1451, \"\n",
        "\"item3063, \"\n",
        "\"item3263, \"\n",
        "\"item3040, \"\n",
        "\"item3255, \"\n",
        "\"item8231, \"\n",
        "\"item8236, \"\n",
        "\"item3251, \"\n",
        "\"item8226, \"\n",
        "\"item4701, \"\n",
        "\"item4401, \"\n",
        "\"item8106, \"\n",
        "\"item4601, \"\n",
        "\"item8416, \"\n",
        "\"item8421, \"\n",
        "\"item18173, \"\n",
        "\"item8601, \"\n",
        "\"item8699, \"\n",
        "\"item11556, \"\n",
        "\"item11557, \"\n",
        "\"item11558, \"\n",
        "\"item11559 \"\n",
        "\"FROM wrds_ws_funda \"\n",
        "\"WHERE item6008 IN %(orgs)s AND date_ >= %(start)s AND date_ <= %(end)s\",\n",
        "params=vars)"
      ],
      "execution_count": null,
      "outputs": []
    },
    {
      "cell_type": "code",
      "metadata": {
        "id": "2SpqvKsnWJ9E"
      },
      "source": [
        "ws_financial_df.rename(columns={\n",
        "    \"item6008\": \"ISIN\",\n",
        "    \"item5601\": \"Ticker\", \n",
        "    \"date_\": \"Date (Quarter)\", \n",
        "    \"year_\": \"Year\",\n",
        "    \"item6099\": \"Currency\", \n",
        "    \"item1451\": \"Income Taxes\",\n",
        "    \"item3063\": \"Income Taxes Payable\", \n",
        "    \"item3263\": \"Deferred Taxes\",\n",
        "    \"item3040\": \"Accounts Payable\", \n",
        "    \"item3255\": \"Total Debt\", \n",
        "    \"item8231\": \"Total Debt % Common Equity\", \n",
        "    \"item8236\": \"Total Debt % Total Assets\", \n",
        "    \"item3251\": \"Long Term Debt\", \n",
        "    \"item8226\": \"Long Term Debt % Common Equity\", \n",
        "    \"item4701\": \"Reduction in Long Term Debt\", \n",
        "    \"item4401\": \"Long Term Borrowings\", \n",
        "    \"item8106\": \"Current Ratio\",\n",
        "    \"item4601\": \"Capital Expenditures (additions to fixed assets)\", \n",
        "    \"item8416\": \"Capital Expenditures % Total Assets\", \n",
        "    \"item8421\": \"Capital Expenditures % Total Sales\", \n",
        "    \"item18173\": \"Unconsolidated/Parent Company Earnings Per Share\", \n",
        "    \"item8601\": \"Earnings Per Share - 1 Yr Annual Growth\", \n",
        "    \"item8699\": \"Earnings Per Share - Quarter\",\n",
        "    \"item11556\": \"Restated Data Exists\",\n",
        "    \"item11557\": \"Restatement Type Indicator\",\n",
        "    \"item11558\": \"Early Release Indicator\",\n",
        "    \"item11559\": \"Restatement Reason Code\"\n",
        "    },\n",
        "    inplace=True)"
      ],
      "execution_count": null,
      "outputs": []
    },
    {
      "cell_type": "code",
      "metadata": {
        "id": "uajryav0ZR52"
      },
      "source": [
        "ws_financial_df = ws_financial_df.astype({\"Year\": \"int\"})"
      ],
      "execution_count": null,
      "outputs": []
    },
    {
      "cell_type": "code",
      "metadata": {
        "id": "g--DCu2WeTvP"
      },
      "source": [
        "ws_financial_df.drop_duplicates(inplace=True)"
      ],
      "execution_count": null,
      "outputs": []
    },
    {
      "cell_type": "code",
      "metadata": {
        "id": "6A0nvBoCfjgE"
      },
      "source": [
        "ws_financial_df['Calendar Year'] = pd.DatetimeIndex(ws_financial_df['Date (Quarter)']).year"
      ],
      "execution_count": null,
      "outputs": []
    },
    {
      "cell_type": "code",
      "metadata": {
        "id": "Xx8hPwkQgJL2"
      },
      "source": [
        "ws_financial_df.rename(columns={\"Year\": \"Fiscal Year\"}, inplace=True)"
      ],
      "execution_count": null,
      "outputs": []
    },
    {
      "cell_type": "code",
      "metadata": {
        "id": "KDXD1pTeC-Kl"
      },
      "source": [
        "ws_financial_df.head(n=20)"
      ],
      "execution_count": null,
      "outputs": []
    },
    {
      "cell_type": "code",
      "metadata": {
        "id": "hXs7PBgUfHr4"
      },
      "source": [
        "ws_financial_annual_availability_df = ws_financial_df[['ISIN', 'Calendar Year', 'Date (Quarter)']].groupby(by='ISIN').nunique()"
      ],
      "execution_count": null,
      "outputs": []
    },
    {
      "cell_type": "markdown",
      "metadata": {
        "id": "6oEJ6kTKjnyY"
      },
      "source": [
        "We see that the majority of the ISINs (around 76%) had financial data for all 10 years. Around 67% of the ISINs had data for all 44 quarters during 2010-2020."
      ]
    },
    {
      "cell_type": "code",
      "metadata": {
        "id": "sDt3WCrbgxL7"
      },
      "source": [
        "ws_financial_annual_availability_df.hist(column='Calendar Year', density=True)\n",
        "plt.title('Distribution of the No. of Years per ISIN \\n(WorldScope Financial Data)')\n",
        "plt.xlabel('No. of Years')\n",
        "plt.ylabel('Percentage of ISINs in WorldScope')\n",
        "plt.xticks(np.arange(start=0, stop=12, step=1))\n",
        "plt.show()"
      ],
      "execution_count": null,
      "outputs": []
    },
    {
      "cell_type": "code",
      "metadata": {
        "id": "4N3u6WSkjztO"
      },
      "source": [
        "ws_financial_annual_availability_df.hist(column='Date (Quarter)', density=True, bins = 45)\n",
        "plt.title('Distribution of the No. of Quarters per ISIN \\n(WorldScope Financial Data)')\n",
        "plt.xlabel('No. of Quarters')\n",
        "plt.ylabel('Percentage of ISINs in WorldScope')\n",
        "plt.xticks(np.arange(start=0, stop=47, step=5))\n",
        "plt.show()"
      ],
      "execution_count": null,
      "outputs": []
    },
    {
      "cell_type": "code",
      "metadata": {
        "id": "0zWMT6vpct5f"
      },
      "source": [
        "# Summary statistics for the no. of years/quarters during which data was available for each ISIN in the WorldScope dataset\n",
        "ws_financial_annual_availability_df.describe()"
      ],
      "execution_count": null,
      "outputs": []
    },
    {
      "cell_type": "code",
      "metadata": {
        "id": "F3oOfXZ4Yk-f"
      },
      "source": [
        "ws_financial_df.groupby(by=[\"ISIN\", \"Year\"]).agg(\"count\").head(n=10)"
      ],
      "execution_count": null,
      "outputs": []
    },
    {
      "cell_type": "code",
      "metadata": {
        "id": "sN42ct9GYYBT"
      },
      "source": [
        "# Define a function that prints the percentage of missing observations in each column in descending order\n",
        "def ws_get_missing_value_df(df):\n",
        "  # Print the no. of ISINs for which there is data\n",
        "  num_isins = len(df['ISIN'].unique())\n",
        "  isin_percent = (num_isins / 4147) * 100\n",
        "  print('Of all the 4147 ISINs, there is data present for ' + str(num_isins) + ' ISINs (' + str(round(isin_percent, 2)) + '%).') \n",
        "  \n",
        "  # Missingness by Year for Each Variable\n",
        "  print('\\n')\n",
        "  print('Missingness by Year for Each Variable')\n",
        "  missingness_by_year_df = (df.drop(columns=['ISIN', 'Calendar Year', 'Date (Quarter)', 'Fiscal Year', 'Ticker']).isnull().groupby(df['Calendar Year'].astype(int)).sum() / (4147*4))*100\n",
        "  display(missingness_by_year_df)\n",
        "\n",
        "  # Missingness in an \"ideal world\" (If there was data for all 4147 ISINs by quarter for all 11 years) \n",
        "  print('\\n')\n",
        "  print('Missingness in an \"ideal world\" (If there was data for all 4147 ISINs by quarter for all 11 years)')\n",
        "  percent_missing_ideal = (df.drop(columns=['ISIN', 'Calendar Year', 'Date (Quarter)', 'Fiscal Year', 'Ticker']).isna().sum() / (4147*4*11))*100\n",
        "  missing_value_df = pd.DataFrame({'percent_missing_ideal': percent_missing_ideal})\n",
        "  missing_value_df.rename(columns={'percent_missing_ideal': '% Missing Data (Out of All ISINs for All Years)'}, inplace=True)\n",
        "  missing_value_df.sort_values(by='% Missing Data (Out of All ISINs for All Years)', inplace=True)\n",
        "  display(missing_value_df)\n",
        "\n",
        "ws_get_missing_value_df(ws_financial_df)"
      ],
      "execution_count": null,
      "outputs": []
    },
    {
      "cell_type": "code",
      "metadata": {
        "id": "j3Gn6BUs6eLJ"
      },
      "source": [
        "ws_financial_df.to_excel(\"/content/drive/MyDrive/WorldScope_FinanciL_Data_with_Currency_0716.xlsx\")"
      ],
      "execution_count": null,
      "outputs": []
    },
    {
      "cell_type": "markdown",
      "metadata": {
        "id": "NIw4QO88dSRk"
      },
      "source": [
        "### Annual Financial Data (Updated 8/11)"
      ]
    },
    {
      "cell_type": "markdown",
      "metadata": {
        "id": "hhi67H-ldfK6"
      },
      "source": [
        "Following our meeting with FCLT on 8/9, we will now be collecting annual versions of the Worldscope financial variables listed above. The variables are collected from the `wrds_ws_funda` WRDS table:      \n",
        "https://wrds-www.wharton.upenn.edu/data-dictionary/tr_worldscope/wrds_ws_funda/ "
      ]
    },
    {
      "cell_type": "markdown",
      "metadata": {
        "id": "4CZIoekbdfG-"
      },
      "source": [
        "All the variables in this table are identical to the `wrds_ws_fundq` where we previously obtained quarterly variables (with the exception of Quarter-specific variables such as quarterly earnings per share). "
      ]
    },
    {
      "cell_type": "code",
      "metadata": {
        "id": "cDlZ2L_hdYug"
      },
      "source": [
        "# item5350 is fiscal period end date\n",
        "ws_financial_df = db.raw_sql(\"SELECT item6008, \"\n",
        "\"item5601, \"\n",
        "\"item5350, \"\n",
        "\"year_, \"\n",
        "\"item11556, \"\n",
        "\"item11557, \"\n",
        "\"item11558, \"\n",
        "\"item11559, \"\n",
        "\"item7536, \"\n",
        "\"item6099, \"\n",
        "\"item1451, \"\n",
        "\"item3063, \"\n",
        "\"item3263, \"\n",
        "\"item3040, \"\n",
        "\"item3255, \"\n",
        "\"item8231, \"\n",
        "\"item8236, \"\n",
        "\"item3251, \"\n",
        "\"item8226, \"\n",
        "\"item4701, \"\n",
        "\"item4401, \"\n",
        "\"item8106, \"\n",
        "\"item4601, \"\n",
        "\"item8416, \"\n",
        "\"item8421, \"\n",
        "\"item18173, \"\n",
        "\"item8601 \"\n",
        "\"FROM wrds_ws_funda \"\n",
        "\"WHERE item6008 IN %(orgs)s AND item5350 >= %(start)s AND item5350 <= %(end)s\",\n",
        "params=vars)"
      ],
      "execution_count": null,
      "outputs": []
    },
    {
      "cell_type": "code",
      "metadata": {
        "id": "C-vTMMdad0t3"
      },
      "source": [
        "# Rename columns\n",
        "ws_financial_df.rename(columns={\n",
        "    \"item6008\": \"ISIN\",\n",
        "    \"item5601\": \"Ticker\", \n",
        "    \"item5350\": \"Fiscal Period End Date\", \n",
        "    \"year_\": \"Year\",\n",
        "    \"item6099\": \"Currency\", \n",
        "    \"item1451\": \"Income Taxes\",\n",
        "    \"item3063\": \"Income Taxes Payable\", \n",
        "    \"item3263\": \"Deferred Taxes\",\n",
        "    \"item3040\": \"Accounts Payable\", \n",
        "    \"item3255\": \"Total Debt\", \n",
        "    \"item8231\": \"Total Debt % Common Equity\", \n",
        "    \"item8236\": \"Total Debt % Total Assets\", \n",
        "    \"item3251\": \"Long Term Debt\", \n",
        "    \"item8226\": \"Long Term Debt % Common Equity\", \n",
        "    \"item4701\": \"Reduction in Long Term Debt\", \n",
        "    \"item4401\": \"Long Term Borrowings\", \n",
        "    \"item8106\": \"Current Ratio\",\n",
        "    \"item4601\": \"Capital Expenditures (additions to fixed assets)\", \n",
        "    \"item8416\": \"Capital Expenditures % Total Assets\", \n",
        "    \"item8421\": \"Capital Expenditures % Total Sales\", \n",
        "    \"item18173\": \"Unconsolidated/Parent Company Earnings Per Share\", \n",
        "    \"item8601\": \"Earnings Per Share - 1 Yr Annual Growth\",\n",
        "    \"item11556\": \"restated_data_exists\",\n",
        "    \"item11557\": \"restatement_type_indicator\",\n",
        "    \"item11558\": \"early_release_indicator\",\n",
        "    \"item11559\": \"restatement_reason_code\",\n",
        "    \"item7536\": \"accounting_standards_followed\"\n",
        "    },\n",
        "    inplace=True)"
      ],
      "execution_count": null,
      "outputs": []
    },
    {
      "cell_type": "code",
      "metadata": {
        "id": "3y509njbjY3A"
      },
      "source": [
        "ws_financial_df.drop_duplicates(inplace=True)"
      ],
      "execution_count": null,
      "outputs": []
    },
    {
      "cell_type": "code",
      "metadata": {
        "id": "ze-u2UvrDx5k"
      },
      "source": [
        "ws_financial_df.head()"
      ],
      "execution_count": null,
      "outputs": []
    },
    {
      "cell_type": "code",
      "metadata": {
        "id": "18O_5tGCGqvb"
      },
      "source": [
        "# TODO: filter all rows where \"Restatement Type Indicator\" == 1 (indicating a restatement and not a revision)\n",
        "!pip3 install pandasql"
      ],
      "execution_count": null,
      "outputs": []
    },
    {
      "cell_type": "code",
      "metadata": {
        "id": "HJkcnOXOMomm"
      },
      "source": [
        "from pandasql import sqldf"
      ],
      "execution_count": null,
      "outputs": []
    },
    {
      "cell_type": "code",
      "metadata": {
        "id": "F7NLmNo1OoGi"
      },
      "source": [
        "ws_financial_df['restatement_reason_code'].value_counts()"
      ],
      "execution_count": null,
      "outputs": []
    },
    {
      "cell_type": "code",
      "metadata": {
        "id": "CSzhYn1b4KBE"
      },
      "source": [
        "ws_financial_df.astype({'Year': 'int'}, copy=False)"
      ],
      "execution_count": null,
      "outputs": []
    },
    {
      "cell_type": "code",
      "metadata": {
        "id": "BaDp0hcvBVIo"
      },
      "source": [
        ""
      ],
      "execution_count": null,
      "outputs": []
    },
    {
      "cell_type": "code",
      "metadata": {
        "id": "-6_RftSECHC8"
      },
      "source": [
        "ws_financial_df['keep_column'] = [True] * len(ws_financial_df)"
      ],
      "execution_count": null,
      "outputs": []
    },
    {
      "cell_type": "code",
      "metadata": {
        "id": "b0C-eG_ZB0Ql"
      },
      "source": [
        "ws_financial_df[ws_financial_df['ISIN'] == 'GB00B0SWJX34'].index[0]"
      ],
      "execution_count": null,
      "outputs": []
    },
    {
      "cell_type": "code",
      "metadata": {
        "id": "VEiE6A33Msas"
      },
      "source": [
        "list(ws_financial_df_copy.index)[-1]"
      ],
      "execution_count": null,
      "outputs": []
    },
    {
      "cell_type": "code",
      "metadata": {
        "id": "noTSl6b67emz"
      },
      "source": [
        "ws_financial_df_copy = ws_financial_df.copy(deep=True)\n",
        "ws_financial_df_copy.reset_index(inplace=True)\n",
        "worldscope_isins = ws_financial_df_copy['ISIN'].unique()\n",
        "ncols = len(ws_financial_df_copy.columns)\n",
        "for isin in worldscope_isins:\n",
        "  isin_df = ws_financial_df_copy[ws_financial_df_copy['ISIN'] == isin]\n",
        "  years = isin_df['Year'].unique()\n",
        "  for year in years:\n",
        "    year_df = isin_df[isin_df['Year'] == year]\n",
        "    for row in year_df.itertuples():\n",
        "      # print(row.restated_data_exists)\n",
        "      # if row.restated_data_exists == 1:\n",
        "        if row.restatement_reason_code == None or row.early_release_indicator == 2:\n",
        "          # row = ws_financial_df_copy.loc[(ws_financial_df_copy['ISIN'] == isin) & (ws_financial_df_copy['year'] == year) & (ws_financial_df_copy['restated_data_exists'] == 1)].index[0]\n",
        "          # print('isin ' + str(isin))\n",
        "          # print('year ' + str(year))\n",
        "          # print(row.Index)\n",
        "          ws_financial_df_copy.iat[row.Index, ncols - 1] = False\n",
        "        \n",
        "\n",
        "\n",
        "# def handle_restatement(grouped_df):\n",
        "#   print(grouped_df)\n",
        "\n",
        "\n",
        "# ws_financial_df.groupby(by=['ISIN', 'Year']).apply(handle_restatement)\n",
        "\n",
        "\n",
        "# for isin in worldscope_isins:\n",
        "#   isin_df = ws_financial_df[ws_financial_df['ISIN'] == isin]\n",
        "#   isin_df.group"
      ],
      "execution_count": null,
      "outputs": []
    },
    {
      "cell_type": "code",
      "metadata": {
        "id": "KIDv0TS6NW4j"
      },
      "source": [
        "ws_financial_df_copy['keep_column'].value_counts()"
      ],
      "execution_count": null,
      "outputs": []
    },
    {
      "cell_type": "code",
      "metadata": {
        "id": "lTa1f3cPSgbm"
      },
      "source": [
        "ws_financial_df_copy[ws_financial_df_copy['keep_column'] == True].groupby(by=['ISIN']).agg('count').sort_values(by='Year', ascending=False)"
      ],
      "execution_count": null,
      "outputs": []
    },
    {
      "cell_type": "code",
      "metadata": {
        "id": "_VolJPcUS8QM"
      },
      "source": [
        "ws_financial_output_df = ws_financial_df_copy[ws_financial_df_copy['keep_column'] == True].drop(columns=['index', 'restated_data_exists', 'keep_column'])\n",
        "ws_financial_output_df"
      ],
      "execution_count": null,
      "outputs": []
    },
    {
      "cell_type": "code",
      "metadata": {
        "id": "BHAiJQvkMXdO"
      },
      "source": [
        "ws_financial_df_copy[ws_financial_df_copy['ISIN'] == 'CNE000000CG9'].sort_values(by='Year', ascending=False)"
      ],
      "execution_count": null,
      "outputs": []
    },
    {
      "cell_type": "code",
      "metadata": {
        "id": "BMdRXNj3LdYR"
      },
      "source": [
        "ws_financial_df_copy.shape"
      ],
      "execution_count": null,
      "outputs": []
    },
    {
      "cell_type": "code",
      "metadata": {
        "id": "o79F81vAM4Wy"
      },
      "source": [
        "query = '''\n",
        "SELECT *\n",
        "FROM ws_financial_df\n",
        "WHERE (restated_data_exists = 1 OR restatement_type_indicator = 1)\n",
        "ORDER BY Year\n",
        "'''\n",
        "sqldf(query)\n",
        "\n",
        "# Restatament logic\n",
        "if restatement_type_indicator == 1:\n",
        "  if restatement_reason_code == None or early_release_indicator == None:\n",
        "    keep original row, delete the restatement row \n",
        "  else if restatement_reason_code != None or early_release_indicator == 2\n",
        "    delete original row, keep restatement row\n",
        "\n",
        "\n",
        "\n",
        "# TODO: delete the restated_data_exists column after everything ends???\n",
        "\n",
        "# (can ignore rows where restated_data_exists == 2)"
      ],
      "execution_count": null,
      "outputs": []
    },
    {
      "cell_type": "code",
      "metadata": {
        "id": "dY4UsfT2-mND"
      },
      "source": [
        "ws_financial_df.sort_values(by=['ISIN', 'Year']).head(n=10)"
      ],
      "execution_count": null,
      "outputs": []
    },
    {
      "cell_type": "code",
      "metadata": {
        "id": "OQ1hYozLj3xX"
      },
      "source": [
        "# Define a function that prints the percentage of missing observations in each column in descending order\n",
        "def ws_get_missing_value_df(df):\n",
        "  # Print the no. of ISINs for which there is data\n",
        "  num_isins = len(df['ISIN'].unique())\n",
        "  isin_percent = (num_isins / 4147) * 100\n",
        "  print('Of all the 4147 ISINs, there is data present for ' + str(num_isins) + ' ISINs (' + str(round(isin_percent, 2)) + '%).') \n",
        "  \n",
        "  # Missingness by Year for Each Variable\n",
        "  print('\\n')\n",
        "  print('Missingness by Year for Each Variable')\n",
        "  missingness_by_year_df = (df.drop(columns=['ISIN', 'Year', 'Fiscal Period End Date', 'Ticker']).isnull().groupby(df['Year'].astype(int)).sum() / (4147*11))*100\n",
        "  display(missingness_by_year_df)\n",
        "\n",
        "  # Missingness in an \"ideal world\" (If there was data for all 4147 ISINs by quarter for all 11 years) \n",
        "  print('\\n')\n",
        "  print('Missingness in an \"ideal world\" (If there was data for all 4147 ISINs for all 11 years)')\n",
        "  percent_missing_ideal = (df.drop(columns=['ISIN', 'Year', 'Fiscal Period End Date', 'Ticker']).isna().sum() / (4147*11))*100\n",
        "  missing_value_df = pd.DataFrame({'percent_missing_ideal': percent_missing_ideal})\n",
        "  missing_value_df.rename(columns={'percent_missing_ideal': '% Missing Data (Out of All ISINs for All Years)'}, inplace=True)\n",
        "  missing_value_df.sort_values(by='% Missing Data (Out of All ISINs for All Years)', inplace=True)\n",
        "  display(missing_value_df)\n",
        "\n",
        "ws_get_missing_value_df(ws_financial_df)"
      ],
      "execution_count": null,
      "outputs": []
    },
    {
      "cell_type": "markdown",
      "metadata": {
        "id": "zmwiV0e69vnd"
      },
      "source": [
        "### Annual Financial Data with Restatements (Updated 8/19)"
      ]
    },
    {
      "cell_type": "markdown",
      "metadata": {
        "id": "VphMX0PC92XM"
      },
      "source": [
        "\n",
        "\n",
        "**11559 - Restatement Reason Code**\n",
        "\n",
        "Provides standardized coding for identifying the general reason restated accounts have been provided. Only one code is provided. If a company adopted a Change in GAAP followed and also discontinued operations, a code would be given for Change in GAAP followed together with other events.      \n",
        "1   Where the accounts are restated due to Discontinued Operations, Spin-offs or de-mergers.               \n",
        "2   Where the accounts are restated due to the adoption of a new accounting policy or policies related to specific item or items               \n",
        "3   Where the accounts are restated due to Acquisition/Mergers               \n",
        "4   Where the accounts are restated due to a change in accounting GAAP followed by the company               \n",
        "5   Where the accounts are restated due to change in accounting GAAP              followed together with other events\n",
        "6   Where the accounts are restated due to multiple events             \n",
        "7   Where the accounts are restated due to reasons other than those noted above             \n",
        "8   Where the accounts are reclassified.             \n",
        "Existing field 07536 (accounting standards followed) can be used to identify the GAAP standard followed. Code 23 identifies if a company has adopted IFRS.\n",
        "Example: If 11559 =4 and 07536 = 23, the Restatement is for a company which has adopted IFRS.\n",
        "Reason code 8 was introduced to identify restated comparative accounts due to a reclassification, i.e. where the presentation of an item is changed or accounting concepts are being classified differently. Data for this field is generally available from 2009-2010 onwards.\n",
        "A company can also issue restated data to correct for accounting irregularities. This is when a company has made a material error in the application of existing accounting standards or even has committed fraud. The Worldscope treatment of accounting irregularities remains the same: the figures will be amended within the original time series."
      ]
    },
    {
      "cell_type": "markdown",
      "metadata": {
        "id": "0JH9o7d2ohkg"
      },
      "source": [
        "### Annnual Pensions Data (Updated 7/11)"
      ]
    },
    {
      "cell_type": "markdown",
      "metadata": {
        "id": "7J3ft2jx4VTm"
      },
      "source": [
        "The following pensions-related data (available annually) were collected from the table `wrds_ws_pension`.        \n",
        "https://wrds-www.wharton.upenn.edu/data-dictionary/tr_worldscope/wrds_ws_pension/           \n",
        "\n",
        "| Variable in Worldscope database | Description |\n",
        "|:---:|:---:|\n",
        "| item6008 | ISIN |\n",
        "| item5601 | Ticker |\n",
        "| year_ | Fiscal Year |\n",
        "| item18806 | Pension Discount Rate |\n",
        "| item18811 | Pension Service Costs |\n",
        "| item18813 | Pension Interest Costs |\n",
        "| item18822 | Pension Net Interest Costs |\n",
        "| item18821 | Net Pension Liability |\n",
        "| item18810 | Net Periodic Pension Expenses |\n",
        "| item18831 | Expected Long-Term Return Rate on Pension Assets |\n",
        "| item18808 | Accumulated Benefit Obligation |\n",
        "| item18809 | Projected Benefit Obligation |"
      ]
    },
    {
      "cell_type": "code",
      "metadata": {
        "id": "ORMAdX2F44I7"
      },
      "source": [
        "ws_pensions_df = db.raw_sql(\"SELECT item6008, \"\n",
        "\"item5601, \"\n",
        "\"year_, \"\n",
        "\"item18806, \"\n",
        "\"item18811, \"\n",
        "\"item18813, \"\n",
        "\"item18822, \"\n",
        "\"item18821, \"\n",
        "\"item18810, \"\n",
        "\"item18831, \"\n",
        "\"item18808, \"\n",
        "\"item18809 \"\n",
        "\"FROM wrds_ws_pension \"\n",
        "\"WHERE item6008 IN %(orgs)s AND year_ >= 2010 AND year_ <= 2020\",\n",
        "params=vars)"
      ],
      "execution_count": null,
      "outputs": []
    },
    {
      "cell_type": "code",
      "metadata": {
        "id": "RtKA04Vi1j5e"
      },
      "source": [
        "ws_pensions_df.rename(columns={\"item6008\": \"ISIN\", \n",
        "\"item5601\": \"Ticker\", \n",
        "\"year_\": \"Year\", \n",
        "\"item18806\": \"Pension Discount Rate\", \n",
        "\"item18811\": \"Pension Service Costs\", \n",
        "\"item18813\": \"Pension Interest Costs\", \n",
        "\"item18822\": \"Pension Net Interest Costs\", \n",
        "\"item18821\": \"Net Pension Liability\", \n",
        "\"item18810\": \"Net Periodic Pension Expenses\", \n",
        "\"item18831\": \"Expected Long-Term Return Rate on Pension Assets\", \n",
        "\"item18808\": \"Accumulated Benefit Obligation\", \n",
        "\"item18809\": \"Projected Benefit Obligation\"},\n",
        "inplace=True)"
      ],
      "execution_count": null,
      "outputs": []
    },
    {
      "cell_type": "code",
      "metadata": {
        "id": "pFArHmut887s"
      },
      "source": [
        "ws_pensions_df.drop_duplicates(inplace=True)"
      ],
      "execution_count": null,
      "outputs": []
    },
    {
      "cell_type": "code",
      "metadata": {
        "id": "BsuUdFjivnZP"
      },
      "source": [
        "ws_pensions_df['Accumulated Benefit Obligation'].value_counts()"
      ],
      "execution_count": null,
      "outputs": []
    },
    {
      "cell_type": "code",
      "metadata": {
        "id": "TF8biyK-5sgo"
      },
      "source": [
        "ws_pensions_annual_availability_df = ws_pensions_df[['ISIN', 'Year']].groupby(by='ISIN').nunique()\n",
        "ws_pensions_annual_availability_df.hist(column='Year', density=True)\n",
        "plt.title('Distribution of the No. of Years per ISIN \\n(WorldScope Pensions Data)')\n",
        "plt.xlabel('No. of Years')\n",
        "plt.ylabel('Percentage of ISINs in WorldScope')\n",
        "plt.xticks(np.arange(start=0, stop=12, step=1))\n",
        "plt.show()"
      ],
      "execution_count": null,
      "outputs": []
    },
    {
      "cell_type": "code",
      "metadata": {
        "id": "wPhD3y9T6HnP"
      },
      "source": [
        "def ws_pensions_get_missing_value_df(df):\n",
        "  # Print the no. of ISINs for which there is data\n",
        "  num_isins = len(df['ISIN'].unique())\n",
        "  isin_percent = (num_isins / 4147) * 100\n",
        "  print('Of all the 4147 ISINs, there is data present for ' + str(num_isins) + ' ISINs (' + str(round(isin_percent, 2)) + '%).') \n",
        "\n",
        "  # Missingness by Year for Each Variable\n",
        "  print('\\n')\n",
        "  print('Missingness by Year for Each Variable')\n",
        "  missingness_by_year_df = (df.drop(columns=['ISIN', 'Year', 'Ticker']).isnull().groupby(df['Year'].astype(int)).sum() / (4147*4))*100\n",
        "  display(missingness_by_year_df)\n",
        "\n",
        "  # Missingness in an \"ideal world\" (If there was data for all 4147 ISINs by quarter for all 11 years) \n",
        "  print('\\n')\n",
        "  print('Missingness in an \"ideal world\" (If there was data for all 4147 ISINs by quarter for all 11 years)')\n",
        "  percent_missing_ideal = (df.drop(columns=['ISIN', 'Year', 'Ticker']).isna().sum() / (4147*4*11))*100\n",
        "  missing_value_df = pd.DataFrame({'percent_missing_ideal': percent_missing_ideal})\n",
        "  missing_value_df.rename(columns={'percent_missing_ideal': '% Missing Data (Out of All ISINs for All Years)'}, inplace=True)\n",
        "  missing_value_df.sort_values(by='% Missing Data (Out of All ISINs for All Years)', inplace=True)\n",
        "  display(missing_value_df)\n",
        "\n",
        "ws_pensions_get_missing_value_df(ws_pensions_df)"
      ],
      "execution_count": null,
      "outputs": []
    },
    {
      "cell_type": "markdown",
      "metadata": {
        "id": "vPnkRBT89yRv"
      },
      "source": [
        "### Exporting Worldscope Data (Updated 7/11)"
      ]
    },
    {
      "cell_type": "code",
      "metadata": {
        "id": "yIdNWYB5YZ6p"
      },
      "source": [
        "# Export the Worldscope Finance & Pensions dataframes as an Excel file\n",
        "\n",
        "with pd.ExcelWriter(\"/content/mnt/MyDrive/FCLT_Worldscope_Financial_Data_With_Restatements_0821.xlsx\") as writer:\n",
        "  ws_financial_output_df.to_excel(writer, \"Financial Data with Restatements\", index=False)"
      ],
      "execution_count": null,
      "outputs": []
    },
    {
      "cell_type": "code",
      "metadata": {
        "id": "qwLAiEmg91r4"
      },
      "source": [
        "# Export the Worldscope Finance & Pensions dataframes as an Excel file\n",
        "\n",
        "with pd.ExcelWriter(\"/content/drive/MyDrive/FCLT_Worldscope_Data_0711.xlsx\") as writer:\n",
        "  ws_financial_df.to_excel(writer, \"Quarterly Financial Data (Taxes, Payables, EPS, CAPEX) (Worldscope)\")\n",
        "  ws_pensions_df.to_excel(writer, \"Annual Pensions Data (Worldscope)\")"
      ],
      "execution_count": null,
      "outputs": []
    },
    {
      "cell_type": "markdown",
      "metadata": {
        "id": "w0aRO6oDMxwe"
      },
      "source": [
        "## Factset (Updated 7/11)"
      ]
    },
    {
      "cell_type": "markdown",
      "metadata": {
        "id": "k-3XNcY71q6X"
      },
      "source": [
        "### Importing ISIN & other date variables"
      ]
    },
    {
      "cell_type": "markdown",
      "metadata": {
        "id": "WfrMsxnaO6PG"
      },
      "source": [
        "***ff_advanced_der_af_am***:\n",
        "(**derived** items from balance sheet etc.)\n",
        "\n",
        "ff_inc_tax_curr\t(double) Income Tax - Current - Total          \n",
        "ff_inc_tax_dfd\t(double) Deferred Income Taxes          \n",
        "ff_tax_rate\t(double) Tax Rate          "
      ]
    },
    {
      "cell_type": "markdown",
      "metadata": {
        "id": "VXGalHZneoRl"
      },
      "source": [
        "***wrds_ffheader_usc_v3*** (Factset Fundamentals V3 - Header Identifiers)      \n",
        "\n",
        "Mapping from a company's ISIN to Factset's propreitary `fsym_id` (identifier for companies)"
      ]
    },
    {
      "cell_type": "code",
      "metadata": {
        "id": "Bs1Uz4BQm_z5"
      },
      "source": [
        "isin_df = pd.read_csv('/content/drive/MyDrive/isin_list.txt', header = None)"
      ],
      "execution_count": null,
      "outputs": []
    },
    {
      "cell_type": "code",
      "metadata": {
        "id": "qQaeVxHOnfS1"
      },
      "source": [
        "start_date = datetime.date(2010, 1, 1)\n",
        "end_date = datetime.date(2020, 12, 31)\n",
        "\n",
        "vars = {'isins': tuple(isin_df[0].unique()), 'start': start_date, 'end': end_date}"
      ],
      "execution_count": null,
      "outputs": []
    },
    {
      "cell_type": "code",
      "metadata": {
        "id": "genUwOtWmQwn"
      },
      "source": [
        "factset_isins = db.raw_sql(\"SELECT DISTINCT isin, fsym_id FROM wrds_ffheader_usc_v3 \"\n",
        "          \"WHERE isin in %(isins)s\", params=vars)"
      ],
      "execution_count": null,
      "outputs": []
    },
    {
      "cell_type": "markdown",
      "metadata": {
        "id": "qqylQE-XeMos"
      },
      "source": [
        "***wrds_fund_af_usc*** (Factset fundamental - Annual Fiscal US and CAN)             \n",
        "`isin`              \n",
        "`date`             \n",
        "`entity_name`             \n",
        "\n",
        "ff_pay_acct\t(double) ACCOUNTS PAYABLE           \n",
        "ff_pay_acct_cf\t(double) INCREASE / DECREASE IN ACCOUNTS PAYABLE           \n",
        "ff_pay_acct_sales\t(double) ACCOUNTS PAYABLE/SALES           \n",
        "ff_pay_div\t(double) DIVIDENDS PAYABLE           \n",
        "ff_pay_out_ratio\t(double) DIVIDEND PAYOUT (percent EARNINGS) - TOTAL DOLLAR           \n",
        "ff_pay_tax\t(double) INCOME TAXES PAYABLE           \n",
        "ff_pay_tax_cf\t(double) INCREASE / DECREASE IN INCOME TAX PAYABLE           \n",
        "ff_pay_tax_dfd_tax\t(double) INCOME TAX PAYABLE PLUS SHORT TERM DEFERRED TAX           \n",
        "ff_pay_turn_days\t(double) Days of Payables Outstanding           \n",
        "\n",
        "ff_int_pay\t(double) INTEREST PAYABLE\n",
        "\n",
        "ff_debt_st_notes_pay\t(double) Notes Payable\n"
      ]
    },
    {
      "cell_type": "markdown",
      "metadata": {
        "id": "pMo04nAU10x6"
      },
      "source": [
        "### Quarterly Accounts Payable and other Financial Data (Updated 7/11)"
      ]
    },
    {
      "cell_type": "markdown",
      "metadata": {
        "id": "ZeFpfj-Cf3EO"
      },
      "source": [
        "#### Quarterly Data"
      ]
    },
    {
      "cell_type": "code",
      "metadata": {
        "id": "Z5BKrX8EQ-Dv"
      },
      "source": [
        "# North American (US & CAN) data\n",
        "\n",
        "factset_payable_usc_v3_df = db.raw_sql(\"SELECT isin, date, proper_name, currency, \"\n",
        "\"ff_pay_acct AS accounts_payable, \"\n",
        "\"ff_pay_acct_sales AS accounts_payable_sales_ratio, \"\n",
        "\"ff_dps AS payables_per_share, \"\n",
        "\"ff_cash_div_covg_ratio AS cash_dividend_payout_ratio, \"\n",
        "\"ff_pay_tax AS income_taxes_payable, \"\n",
        "\"ff_tax_non_inc AS non_income_taxes, \"\n",
        "\"ff_dfd_tax AS deferred_taxes \"\n",
        "\"FROM wrds_fund_qf_usc_v3 \"\n",
        "\"WHERE isin in %(isins)s AND date >= %(start)s AND date <= %(end)s\",\n",
        "params=vars)"
      ],
      "execution_count": null,
      "outputs": []
    },
    {
      "cell_type": "code",
      "metadata": {
        "id": "XG5OmfmlSa9Q"
      },
      "source": [
        "# International (non-North American) data\n",
        "factset_payable_int_v3_df = db.raw_sql(\"SELECT isin, date, proper_name, currency, \"\n",
        "\"ff_pay_acct AS accounts_payable, \"\n",
        "\"ff_pay_acct_sales AS accounts_payable_sales_ratio, \"\n",
        "\"ff_dps AS payables_per_share, \"\n",
        "\"ff_cash_div_covg_ratio AS cash_dividend_payout_ratio, \"\n",
        "\"ff_pay_tax AS income_taxes_payable, \"\n",
        "\"ff_tax_non_inc AS non_income_taxes, \"\n",
        "\"ff_dfd_tax AS deferred_taxes \"\n",
        "\"FROM wrds_fund_qf_int_v3 \"\n",
        "\"WHERE isin in %(isins)s AND date >= %(start)s AND date <= %(end)s\",\n",
        "params=vars)"
      ],
      "execution_count": null,
      "outputs": []
    },
    {
      "cell_type": "code",
      "metadata": {
        "id": "6NwxhN0OShu5"
      },
      "source": [
        "factset_payable_df = pd.concat([factset_payable_usc_v3_df, factset_payable_int_v3_df])"
      ],
      "execution_count": null,
      "outputs": []
    },
    {
      "cell_type": "code",
      "metadata": {
        "id": "lzI2zQDmSvwI"
      },
      "source": [
        "factset_payable_df.drop_duplicates(inplace=True)"
      ],
      "execution_count": null,
      "outputs": []
    },
    {
      "cell_type": "code",
      "metadata": {
        "id": "dIINiZJ6TG-J"
      },
      "source": [
        "factset_payable_df['year'] = pd.DatetimeIndex(factset_payable_df['date']).year"
      ],
      "execution_count": null,
      "outputs": []
    },
    {
      "cell_type": "code",
      "metadata": {
        "id": "taDmkhVHSu4P"
      },
      "source": [
        "factset_payable_annual_availability_df = factset_payable_df[['isin', 'year', 'date']].groupby(by='isin').nunique()\n",
        "factset_payable_annual_availability_df.hist(column='year', density=True)\n",
        "plt.title('Distribution of the No. of Years per ISIN \\n(Factset Financial Data)')\n",
        "plt.xlabel('No. of Years')\n",
        "plt.ylabel('Proportion of ISINs in Factset')\n",
        "plt.xticks(np.arange(start=0, stop=12, step=1))\n",
        "plt.show()"
      ],
      "execution_count": null,
      "outputs": []
    },
    {
      "cell_type": "code",
      "metadata": {
        "id": "m7wLwSrNTduj"
      },
      "source": [
        "factset_payable_annual_availability_df.hist(column='date', density=True, bins = 45)\n",
        "plt.title('Distribution of the No. of Quarters per ISIN \\n(Factset Financial Data)')\n",
        "plt.xlabel('No. of Quarters')\n",
        "plt.ylabel('Proportion of ISINs in Factset')\n",
        "plt.xticks(np.arange(start=0, stop=47, step=5))\n",
        "plt.show()"
      ],
      "execution_count": null,
      "outputs": []
    },
    {
      "cell_type": "code",
      "metadata": {
        "id": "Lfbipu82UHvE"
      },
      "source": [
        "def factset_get_missing_value_df(df):\n",
        "  # Print the no. of ISINs for which there is data\n",
        "  num_isins = len(df['isin'].unique())\n",
        "  isin_percent = (num_isins / 4147) * 100\n",
        "  print('Of all the 4147 ISINs, there is data present for ' + str(num_isins) + ' ISINs (' + str(round(isin_percent, 2)) + '%).') \n",
        "\n",
        "  # Missingness by Year for Each Variable\n",
        "  print('\\n')\n",
        "  print('Missingness by Year for Each Variable')\n",
        "  missingness_by_year_df = (df.drop(columns=['isin', 'date', 'year', 'proper_name']).isnull().groupby(df['year'].astype(int)).sum() / (4147))*100\n",
        "  display(missingness_by_year_df)\n",
        "\n",
        "  # Missingness in an \"ideal world\" (If there was data for all 4147 ISINs by quarter for all 11 years) \n",
        "  print('\\n')\n",
        "  print('Missingness in an \"ideal world\" (If there was data for all 4147 ISINs by quarter for all 11 years)')\n",
        "  percent_missing_ideal = (df.drop(columns=['isin', 'date', 'year', 'proper_name']).isna().sum() / (4147*11))*100\n",
        "  missing_value_df = pd.DataFrame({'percent_missing_ideal': percent_missing_ideal})\n",
        "  missing_value_df.rename(columns={'percent_missing_ideal': '% Missing Data (Out of All ISINs for All Years)'}, inplace=True)\n",
        "  missing_value_df.sort_values(by='% Missing Data (Out of All ISINs for All Years)', inplace=True)\n",
        "  display(missing_value_df)\n",
        "\n",
        "# factset_get_missing_value_df(factset_payable_df)"
      ],
      "execution_count": null,
      "outputs": []
    },
    {
      "cell_type": "code",
      "metadata": {
        "id": "3ll1jqIkB1ik"
      },
      "source": [
        "factset_payable_df.to_excel(\"/content/drive/MyDrive/Factset_Payable_Data_with_Currency_0716.xlsx\")"
      ],
      "execution_count": null,
      "outputs": []
    },
    {
      "cell_type": "markdown",
      "metadata": {
        "id": "xe8RbtvrQ3ve"
      },
      "source": [
        "#### Annual Data (Updated 8/11)"
      ]
    },
    {
      "cell_type": "markdown",
      "metadata": {
        "id": "vA5vGobVljmk"
      },
      "source": [
        "| Variable in FactSet Database          | Description                  |\n",
        "|---------------------|-----------------------------------------------|\n",
        "| ff_pay_acct | accounts_payable |\n",
        "| ff_pay_acct_sales | accounts_payable_sales_ratio |\n",
        "| ff_pay_div | dividends_payable |\n",
        "| ff_pay_out_ratio | dividend_payout_ratio |\n",
        "| ff_pay_tax | income_taxes_payable |\n",
        "| ff_int_pay | interest_payable |"
      ]
    },
    {
      "cell_type": "code",
      "metadata": {
        "id": "GyLXBRimgL4W"
      },
      "source": [
        "factset_payable_usc_df = db.raw_sql(\"SELECT isin, date, entity_name,  \"\n",
        "\"ff_pay_acct AS accounts_payable, \"\n",
        "\"ff_pay_acct_sales AS accounts_payable_sales_ratio, \"\n",
        "\"ff_pay_div AS dividends_payable, \"\n",
        "\"ff_pay_out_ratio AS dividend_payout_ratio, \"\n",
        "\"ff_pay_tax AS income_taxes_payable, \"\n",
        "\"ff_int_pay AS interest_payable \"\n",
        "\"FROM wrds_fund_af_usc \"\n",
        "\"WHERE isin in %(isins)s\",\n",
        "params=vars)"
      ],
      "execution_count": null,
      "outputs": []
    },
    {
      "cell_type": "code",
      "metadata": {
        "id": "phxHIzRIpJEg"
      },
      "source": [
        "factset_payable_usc_v3_df = db.raw_sql(\"SELECT isin, date, proper_name,  \"\n",
        "\"ff_pay_acct AS accounts_payable, \"\n",
        "\"ff_pay_acct_sales AS accounts_payable_sales_ratio, \"\n",
        "\"ff_pay_div AS dividends_payable, \"\n",
        "\"ff_pay_out_ratio AS dividend_payout_ratio, \"\n",
        "\"ff_pay_tax AS income_taxes_payable, \"\n",
        "\"ff_int_pay AS interest_payable \"\n",
        "\"FROM wrds_fund_af_usc_v3 \"\n",
        "\"WHERE isin in %(isins)s AND date >= %(start)s AND date <= %(end)s\",\n",
        "params=vars)"
      ],
      "execution_count": null,
      "outputs": []
    },
    {
      "cell_type": "code",
      "metadata": {
        "id": "PIuEuk_MpPv6"
      },
      "source": [
        "factset_payable_usc_v3_df['isin'].unique().shape"
      ],
      "execution_count": null,
      "outputs": []
    },
    {
      "cell_type": "code",
      "metadata": {
        "id": "Gpe52GoNqTsg"
      },
      "source": [
        "factset_payable_usc_v3_df.describe()"
      ],
      "execution_count": null,
      "outputs": []
    },
    {
      "cell_type": "markdown",
      "metadata": {
        "id": "48Qs7OHRinaa"
      },
      "source": [
        "International (non-US & CAN) data from FactSet"
      ]
    },
    {
      "cell_type": "code",
      "metadata": {
        "id": "myCelLtkiva6"
      },
      "source": [
        "factset_payable_int_df = db.raw_sql(\"SELECT isin, date, entity_name, currency, \"\n",
        "\"ff_pay_acct AS accounts_payable, \"\n",
        "\"ff_pay_acct_sales AS accounts_payable_sales_ratio, \"\n",
        "\"ff_pay_div AS dividends_payable, \"\n",
        "\"ff_pay_out_ratio AS dividend_payout_ratio, \"\n",
        "\"ff_pay_tax AS income_taxes_payable, \"\n",
        "\"ff_int_pay AS interest_payable \"\n",
        "\"FROM wrds_fund_af_int \"\n",
        "\"WHERE isin in %(isins)s\",\n",
        "params=vars)"
      ],
      "execution_count": null,
      "outputs": []
    },
    {
      "cell_type": "code",
      "metadata": {
        "id": "avwB0C6Govmf"
      },
      "source": [
        "factset_payable_int_v3_df = db.raw_sql(\"SELECT isin, date, proper_name,  \"\n",
        "\"ff_pay_acct AS accounts_payable, \"\n",
        "\"ff_pay_acct_sales AS accounts_payable_sales_ratio, \"\n",
        "\"ff_pay_div AS dividends_payable, \"\n",
        "\"ff_pay_out_ratio AS dividend_payout_ratio, \"\n",
        "\"ff_pay_tax AS income_taxes_payable, \"\n",
        "\"ff_int_pay AS interest_payable \"\n",
        "\"FROM wrds_fund_af_int_v3 \"\n",
        "\"WHERE isin in %(isins)s AND date >= %(start)s AND date <= %(end)s\",\n",
        "params=vars)"
      ],
      "execution_count": null,
      "outputs": []
    },
    {
      "cell_type": "code",
      "metadata": {
        "id": "-RPvk4LHo175"
      },
      "source": [
        "get_missing_value_df(factset_payable_int_v3_df)"
      ],
      "execution_count": null,
      "outputs": []
    },
    {
      "cell_type": "code",
      "metadata": {
        "id": "VO_f3dHPi4yx"
      },
      "source": [
        "len(factset_payable_usc_v3_df['isin'].unique().tolist()) + len(factset_payable_int_v3_df['isin'].unique().tolist())"
      ],
      "execution_count": null,
      "outputs": []
    },
    {
      "cell_type": "code",
      "metadata": {
        "id": "cgftOSXFL7uy"
      },
      "source": [
        "factset_payable_df = pd.concat([factset_payable_usc_v3_df, factset_payable_int_v3_df])"
      ],
      "execution_count": null,
      "outputs": []
    },
    {
      "cell_type": "markdown",
      "metadata": {
        "id": "m1-rs-Tn38Tn"
      },
      "source": [
        "1441 unique ISINs are covered through FactSet (i.e. 35% of all the ISINs). "
      ]
    },
    {
      "cell_type": "markdown",
      "metadata": {
        "id": "m9zlVkJfI3ce"
      },
      "source": [
        "### *Annual* Capital Expenditure-related variables (Updated 8/11)"
      ]
    },
    {
      "cell_type": "markdown",
      "metadata": {
        "id": "7wLBl3FRNVR4"
      },
      "source": [
        "The following quarterly Capital Expenditure-related variables were collected from FactSet:     "
      ]
    },
    {
      "cell_type": "markdown",
      "metadata": {
        "id": "e0kco-KFJgYd"
      },
      "source": [
        "| Variable in FactSet Database          | Description                  |\n",
        "|---------------------|-----------------------------------------------|\n",
        "| ff_capex            | Capital Expenditures (Total)                  |\n",
        "| ff_capex_5ygr       | Capital Spending - 5Yr Growth Rate            |\n",
        "| ff_capex_assets     | Capital Expenditure percent Total Assets      |\n",
        "| ff_capex_fix        | Capital Expenditures (Fixed Assets)           |\n",
        "| ff_capex_fix_assets | Capital Expediture percent Gross Fixed Assets |\n",
        "| ff_capex_oth        | Capital Expenditures (Other Assets)           |\n",
        "| ff_capex_ps_cf      | Capital Expenditures Per Share                |\n",
        "| ff_capex_sales      | Capital Expenditure percent Total Sales       |"
      ]
    },
    {
      "cell_type": "code",
      "metadata": {
        "id": "miCiskgwVrY_"
      },
      "source": [
        "factset_capex_int_v3_df = db.raw_sql(\"SELECT isin, date, proper_name, currency, ff_capex, ff_capex_5ygr, ff_capex_assets, \"\n",
        "\"ff_capex_fix, ff_capex_oth, ff_capex_ps_cf, ff_capex_sales \"\n",
        "\"FROM wrds_fund_af_int_v3 \"\n",
        "\"WHERE isin in %(isins)s AND date >= %(start)s AND date <= %(end)s\",\n",
        "params=vars)"
      ],
      "execution_count": null,
      "outputs": []
    },
    {
      "cell_type": "code",
      "metadata": {
        "id": "GS5MGUmwMuSM"
      },
      "source": [
        "factset_capex_usc_v3_df = db.raw_sql(\"SELECT isin, date, proper_name, currency, ff_capex, ff_capex_5ygr, ff_capex_assets, \"\n",
        "\"ff_capex_fix, ff_capex_oth, ff_capex_ps_cf, ff_capex_sales \"\n",
        "\"FROM wrds_fund_af_usc_v3 \"\n",
        "\"WHERE isin in %(isins)s AND date >= %(start)s AND date <= %(end)s\",\n",
        "params=vars)"
      ],
      "execution_count": null,
      "outputs": []
    },
    {
      "cell_type": "code",
      "metadata": {
        "id": "Dk30_q57KyVU"
      },
      "source": [
        "factset_capex_df = pd.concat([factset_capex_int_v3_df, factset_capex_usc_v3_df])"
      ],
      "execution_count": null,
      "outputs": []
    },
    {
      "cell_type": "code",
      "metadata": {
        "id": "YFoJBdZLIcFX"
      },
      "source": [
        "factset_capex_df.rename(columns={'ff_capex':            'Capital Expenditures (Total)',                  \n",
        "'ff_capex_5ygr': 'Capital Spending - 5Yr Growth Rate',\n",
        "'ff_capex_assets': 'Capital Expenditure percent Total Assets',\n",
        "'ff_capex_fix': 'Capital Expenditures (Fixed Assets)',\n",
        "'ff_capex_fix_assets': 'Capital Expediture percent Gross Fixed Assets',\n",
        "'ff_capex_oth': 'Capital Expenditures (Other Assets)',\n",
        "'ff_capex_ps_cf':      'Capital Expenditures Per Share',\n",
        "'ff_capex_sales': 'Capital Expenditure percent Total Sales'       },\n",
        "inplace=True)"
      ],
      "execution_count": null,
      "outputs": []
    },
    {
      "cell_type": "code",
      "metadata": {
        "id": "kulcXE0nV8pT"
      },
      "source": [
        "factset_capex_df.drop_duplicates(inplace=True)"
      ],
      "execution_count": null,
      "outputs": []
    },
    {
      "cell_type": "code",
      "metadata": {
        "id": "kGcO-cKAWHso"
      },
      "source": [
        "factset_capex_df['year'] = pd.DatetimeIndex(factset_capex_df['date']).year"
      ],
      "execution_count": null,
      "outputs": []
    },
    {
      "cell_type": "code",
      "metadata": {
        "id": "uyGRZo87WWod"
      },
      "source": [
        "factset_capex_annual_availability_df = factset_capex_df[['isin', 'year', 'date']].groupby(by='isin').nunique()\n",
        "factset_capex_annual_availability_df.hist(column='year', density=True)\n",
        "plt.title('Distribution of the No. of Years per ISIN \\n(Factset CAPEX Data)')\n",
        "plt.xlabel('No. of Years')\n",
        "plt.ylabel('Proportion of ISINs in Factset')\n",
        "plt.xticks(np.arange(start=0, stop=12, step=1))\n",
        "plt.show()"
      ],
      "execution_count": null,
      "outputs": []
    },
    {
      "cell_type": "code",
      "metadata": {
        "id": "zwdvbQMMWdnS"
      },
      "source": [
        "factset_capex_annual_availability_df.hist(column='date', density=True, bins = 45)\n",
        "plt.title('Distribution of the No. of Quarters per ISIN \\n(Factset CAPEX Data)')\n",
        "plt.xlabel('No. of Quarters')\n",
        "plt.ylabel('Proportion of ISINs in Factset')\n",
        "plt.xticks(np.arange(start=0, stop=47, step=5))\n",
        "plt.show()"
      ],
      "execution_count": null,
      "outputs": []
    },
    {
      "cell_type": "code",
      "metadata": {
        "id": "3RPQ3eF0Wmkh"
      },
      "source": [
        "factset_get_missing_value_df(factset_capex_df)"
      ],
      "execution_count": null,
      "outputs": []
    },
    {
      "cell_type": "code",
      "metadata": {
        "id": "H490fYLRCblT"
      },
      "source": [
        "factset_capex_df.to_excel(\"/content/drive/MyDrive/Factset_capex_data_with_currency_0716.xlsx\")"
      ],
      "execution_count": null,
      "outputs": []
    },
    {
      "cell_type": "markdown",
      "metadata": {
        "id": "JuXT5z82N3g1"
      },
      "source": [
        "### *Annual* EPS-related variables (Updated 8/11)"
      ]
    },
    {
      "cell_type": "markdown",
      "metadata": {
        "id": "MtmjYDPBOkTh"
      },
      "source": [
        "| Variable in FactSet Database          | Description                  |\n",
        "|---------------------|-----------------------------------------------|\n",
        "| ff_eps             | Earnings Per Share - Fiscal Period                     |\n",
        "| ff_eps_dil_aft_xord    | Earnings Per Share (Diluted) After Extraordinary Items           |\n",
        "| ff_eps_basic       | EPS - Basic - Before Extraordinaries                   |\n",
        "| ff_eps_basic_gr    | EPS - Basic - Before Extras - percent Change           |\n",
        "| ff_eps_contin_oper | Earnings Per Share from Continuing Operations - Fiscal |"
      ]
    },
    {
      "cell_type": "code",
      "metadata": {
        "id": "QI-MrTU8TBhq"
      },
      "source": [
        "factset_eps_int_v3_df = db.raw_sql(\"SELECT isin, date, proper_name, currency, ff_eps, \"\n",
        "\"ff_eps_dil_aft_xord, ff_eps_basic, ff_eps_basic_gr, ff_eps_contin_oper \"\n",
        "\"FROM wrds_fund_af_int_v3 \"\n",
        "\"WHERE isin in %(isins)s AND date >= %(start)s AND date <= %(end)s\",\n",
        "params=vars)"
      ],
      "execution_count": null,
      "outputs": []
    },
    {
      "cell_type": "code",
      "metadata": {
        "id": "hnrCXfmjTKK2"
      },
      "source": [
        "factset_eps_usc_v3_df = db.raw_sql(\"SELECT isin, date, proper_name, currency, ff_eps, \"\n",
        "\"ff_eps_dil_aft_xord, ff_eps_basic, ff_eps_basic_gr, ff_eps_contin_oper \"\n",
        "\"FROM wrds_fund_af_usc_v3 \"\n",
        "\"WHERE isin in %(isins)s AND date >= %(start)s AND date <= %(end)s\",\n",
        "params=vars)"
      ],
      "execution_count": null,
      "outputs": []
    },
    {
      "cell_type": "code",
      "metadata": {
        "id": "bYUAJnS-TOL7"
      },
      "source": [
        "factset_eps_df = pd.concat([factset_eps_int_v3_df, factset_eps_usc_v3_df])"
      ],
      "execution_count": null,
      "outputs": []
    },
    {
      "cell_type": "code",
      "metadata": {
        "id": "8ni0tyv7XUuj"
      },
      "source": [
        "factset_eps_df.drop_duplicates(inplace=True)"
      ],
      "execution_count": null,
      "outputs": []
    },
    {
      "cell_type": "code",
      "metadata": {
        "id": "s-r43aBEJH-l"
      },
      "source": [
        "factset_eps_df.rename(columns={'ff_eps':'Earnings Per Share - Fiscal Period',\n",
        "'ff_eps_dil_aft_xord': 'Earnings Per Share (Diluted) After Extraordinary Items',           \n",
        "'ff_eps_basic':        'EPS - Basic - Before Extraordinaries',                   \n",
        "'ff_eps_basic_gr':     'EPS - Basic - Before Extras - percent Change',           \n",
        "'ff_eps_contin_oper':  'Earnings Per Share from Continuing Operations - Fiscal'},\n",
        "inplace=True)"
      ],
      "execution_count": null,
      "outputs": []
    },
    {
      "cell_type": "code",
      "metadata": {
        "id": "QhKUhUWYXgXC"
      },
      "source": [
        "factset_eps_df['year'] = pd.DatetimeIndex(factset_eps_df['date']).year"
      ],
      "execution_count": null,
      "outputs": []
    },
    {
      "cell_type": "code",
      "metadata": {
        "id": "kD5VD3nRXdqD"
      },
      "source": [
        "factset_get_missing_value_df(factset_eps_df)"
      ],
      "execution_count": null,
      "outputs": []
    },
    {
      "cell_type": "code",
      "metadata": {
        "id": "5-Sze-aDCyIr"
      },
      "source": [
        "factset_eps_df.to_excel(\"/content/drive/MyDrive/factset_eps_data_with_currency_0716.xlsx\")"
      ],
      "execution_count": null,
      "outputs": []
    },
    {
      "cell_type": "markdown",
      "metadata": {
        "id": "l7E1XCikUSJY"
      },
      "source": [
        "## Annual Long Term Incentive Plan (ESOP) & Pensions-related variables"
      ]
    },
    {
      "cell_type": "markdown",
      "metadata": {
        "id": "r7vduuIsaqwT"
      },
      "source": [
        "| Variable in FactSet Database |                   Description                   |\n",
        "|:----------------------------:|:-----------------------------------------------:|\n",
        "| ff_pfd_stk_esop              | Preferred Stock Issues for ESOP           |\n",
        "| ff_pfd_stk_esop_gtd          | ESOP Guarantees - Preferred Stock               |\n",
        "| ff_com_stk_esop              | ESOP Debt Guarantee                             |\n",
        "| ff_pens_liabs_net            | Pension - Net Liability/(Asset)                 |\n",
        "| ff_pens_bnfit_oblig_proj     | Pension - Projected Benefit Obligation          |\n",
        "| ff_pens_bnfit_retir_post     | Pension/Post Retirement Benefits                |\n",
        "| ff_pens_assets_oth           | Pension Plan - Asset Allocation - percent Other |\n",
        "| ff_pens_assets_lt            | Pension - Long Term Assets                      |            |\n",
        "| ff_pens_assets_emplr_contr   | Assets Employer Contributions                   |\n",
        "| ff_pens_abo                  | Pension -Accumulated Benefit Obligation         |"
      ]
    },
    {
      "cell_type": "code",
      "metadata": {
        "id": "bfY7iV1JbGd1"
      },
      "source": [
        "factset_ltip_int_v3_df = db.raw_sql(\"SELECT isin, date, proper_name, currency, ff_pfd_stk_esop, \"\n",
        "\"ff_pfd_stk_esop_gtd, ff_com_stk_esop, ff_pens_liabs_net, ff_pens_bnfit_oblig_proj, ff_pens_bnfit_retir_post, \"\n",
        "\"ff_pens_assets_oth, ff_pens_assets_lt, ff_pens_assets_emplr_contr, ff_pens_abo \"\n",
        "\"FROM wrds_fund_af_int_v3 \"\n",
        "\"WHERE isin in %(isins)s AND date >= %(start)s AND date <= %(end)s\",\n",
        "params=vars)"
      ],
      "execution_count": null,
      "outputs": []
    },
    {
      "cell_type": "code",
      "metadata": {
        "id": "hB4pjH7bcIXv"
      },
      "source": [
        "factset_ltip_usc_v3_df = db.raw_sql(\"SELECT isin, date, proper_name, currency, ff_pfd_stk_esop, \"\n",
        "\"ff_pfd_stk_esop_gtd, ff_com_stk_esop, ff_pens_liabs_net, ff_pens_bnfit_oblig_proj, ff_pens_bnfit_retir_post, \"\n",
        "\"ff_pens_assets_oth, ff_pens_assets_lt, ff_pens_assets_emplr_contr, ff_pens_abo \"\n",
        "\"FROM wrds_fund_af_usc_v3 \"\n",
        "\"WHERE isin in %(isins)s AND date >= %(start)s AND date <= %(end)s\",\n",
        "params=vars)"
      ],
      "execution_count": null,
      "outputs": []
    },
    {
      "cell_type": "code",
      "metadata": {
        "id": "FzCrmT2ncW8i"
      },
      "source": [
        "factset_ltip_df = pd.concat([factset_ltip_int_v3_df, factset_ltip_usc_v3_df])"
      ],
      "execution_count": null,
      "outputs": []
    },
    {
      "cell_type": "code",
      "metadata": {
        "id": "bR3oCtdWJlyr"
      },
      "source": [
        "factset_ltip_df.rename(columns={'ff_pfd_stk_esop': 'Preferred Stock Issues for ESOP',                 \n",
        "'ff_pfd_stk_esop_gtd':         'ESOP Guarantees - Preferred Stock',               \n",
        "'ff_com_stk_esop':             'ESOP Debt Guarantee',                             \n",
        "'ff_pens_liabs_net':           'Pension - Net Liability/(Asset)',                 \n",
        "'ff_pens_bnfit_oblig_proj':    'Pension - Projected Benefit Obligation',          \n",
        "'ff_pens_bnfit_retir_post':    'Pension/Post Retirement Benefits',                \n",
        "'ff_pens_assets_oth':          'Pension Plan - Asset Allocation - percent Other', \n",
        "'ff_pens_assets_lt':           'Pension - Long Term Assets',                                  \n",
        "'ff_pens_assets_emplr_contr':  'Assets Employer Contributions',                   \n",
        "'ff_pens_abo':                 'Pension -Accumulated Benefit Obligation'         },\n",
        "inplace=True)"
      ],
      "execution_count": null,
      "outputs": []
    },
    {
      "cell_type": "code",
      "metadata": {
        "id": "-zatCj_DchEg"
      },
      "source": [
        "get_missing_value_df(factset_ltip_df)"
      ],
      "execution_count": null,
      "outputs": []
    },
    {
      "cell_type": "code",
      "metadata": {
        "id": "lgklVgkHDsFy"
      },
      "source": [
        "factset_ltip_df.to_excel(\"/content/drive/MyDrive/factset_ltip_data_with_currency_0716.xlsx\")"
      ],
      "execution_count": null,
      "outputs": []
    },
    {
      "cell_type": "markdown",
      "metadata": {
        "id": "I4bxhTO8XHsK"
      },
      "source": [
        "### *Annual* Short Term & Long Term Variables/Roadmaps (Updated 8/11)"
      ]
    },
    {
      "cell_type": "markdown",
      "metadata": {
        "id": "6CJnZjkeXhpG"
      },
      "source": [
        "**Short-Term**: \n",
        "\n",
        "   \n",
        "| Variable in FactSet Database |                   Description                   |\n",
        "|:----------------------------:|:-----------------------------------------------:|\n",
        "| ff_invest_st_tot | Total Short-Term Investments |        \n",
        "| ff_cash_st | Cash & Short Term Investments |          \n",
        "| ff_debt_serv | Debt Service Ratio - Incl St Debt | - Pretax             \n",
        "| ff_debt_st | Short-Term Debt (incl. Current Portion | of LTD)       \n",
        "| ff_liabs_curr | Total Current Liabilities |            \n",
        "| ff_std_debt | Short Term Debt percent Total Debt |                  \n",
        "\n"
      ]
    },
    {
      "cell_type": "code",
      "metadata": {
        "id": "mbQ4wKIzefDN"
      },
      "source": [
        "factset_st_int_v3_df = db.raw_sql(\"SELECT isin, date, proper_name, currency, \"\n",
        "\"ff_invest_st_tot, ff_cash_st, ff_debt_serv, ff_debt_st, ff_std_debt, ff_liabs_curr \"\n",
        "\"FROM wrds_fund_af_int_v3 \"\n",
        "\"WHERE isin IN %(isins)s AND date >= %(start)s AND date <= %(end)s\",\n",
        "params=vars)"
      ],
      "execution_count": null,
      "outputs": []
    },
    {
      "cell_type": "code",
      "metadata": {
        "id": "_sWbTMCwfqfC"
      },
      "source": [
        "factset_st_usc_v3_df = db.raw_sql(\"SELECT isin, date, proper_name, currency, \"\n",
        "\"ff_invest_st_tot, ff_cash_st, ff_debt_serv, ff_debt_st, ff_std_debt, ff_liabs_curr \"\n",
        "\"FROM wrds_fund_af_usc_v3 \"\n",
        "\"WHERE isin IN %(isins)s AND date >= %(start)s AND date <= %(end)s\",\n",
        "params=vars)"
      ],
      "execution_count": null,
      "outputs": []
    },
    {
      "cell_type": "code",
      "metadata": {
        "id": "q0LEnPSaft67"
      },
      "source": [
        "factset_st_df = pd.concat([factset_st_int_v3_df, factset_st_usc_v3_df])"
      ],
      "execution_count": null,
      "outputs": []
    },
    {
      "cell_type": "code",
      "metadata": {
        "id": "vP7PEb8TJ_tI"
      },
      "source": [
        "factset_st_df.rename(columns={'ff_invest_st_tot': \"Total Short-Term Investments\",\n",
        "                              'ff_cash_st': 'Cash & Short Term Investments',\n",
        "                              'ff_debt_serv': 'Debt Service Ratio - Incl Short Term Debt - Pretax',\n",
        "                              'ff_debt_st': 'Short-Term Debt (incl. Current Portion of LTD)',\n",
        "                              'ff_liabs_curr': 'Total Current Liabilities',\n",
        "                              'ff_std_debt': 'Short Term Debt (% Total Debt)'}, inplace=True)"
      ],
      "execution_count": null,
      "outputs": []
    },
    {
      "cell_type": "code",
      "metadata": {
        "id": "BxvCQt4gYmzw"
      },
      "source": [
        "factset_st_df.drop_duplicates(inplace=True)\n",
        "factset_st_df['year'] = pd.DatetimeIndex(factset_st_df['date']).year"
      ],
      "execution_count": null,
      "outputs": []
    },
    {
      "cell_type": "code",
      "metadata": {
        "id": "WRLR-5pKEP3_"
      },
      "source": [
        "factset_st_df.to_excel(\"/content/drive/MyDrive/factset_st_data_with_currency_0716.xlsx\")"
      ],
      "execution_count": null,
      "outputs": []
    },
    {
      "cell_type": "code",
      "metadata": {
        "id": "kjSCqX2mYzNv"
      },
      "source": [
        "factset_get_missing_value_df(factset_st_df)"
      ],
      "execution_count": null,
      "outputs": []
    },
    {
      "cell_type": "markdown",
      "metadata": {
        "id": "7Lem2LnVgklJ"
      },
      "source": [
        "**Long-Term**:                   \n",
        "`ff_invest_lt`  Long term Investments                    \n",
        "`ff_debt_lt` Long Term Debt         \n",
        "`ff_debt_lt_iss_cf`\tIssuance of LT Debt     \n",
        "- Represents the amount received by the company from the issuance of long-term\n",
        "debt (convertible and nonconvertible), increase in capitalized lease obligations, and\n",
        "debt acquired from acquisitions.                   \n",
        "\n",
        "`ff_debt_lt_reduct_cf` Reduction of Long Term Debt               \n",
        "`ff_ins_lt_rsrv` Long Term Insurance Reserves    \n",
        "`ff_liabs`\tLong Term Liabilities           \n",
        "`ff_liabs_ps`\tLong Term Liabilities Per Share   (**Deprecated: Only annual data available**)                                  \n",
        "`ff_ltd_tcap`\tLong Term Debt percent Total Capital                                                    "
      ]
    },
    {
      "cell_type": "code",
      "metadata": {
        "id": "dHPVYHNEf4R0"
      },
      "source": [
        "factset_lt_int_v3_df = db.raw_sql(\"SELECT isin, date, proper_name, currency, \"\n",
        "\"ff_invest_lt, ff_debt_lt, ff_debt_lt_iss_cf, ff_debt_lt_reduct_cf, ff_ins_lt_rsrv, ff_liabs, ff_ltd_tcap \"\n",
        "\"FROM wrds_fund_af_int_v3 \"\n",
        "\"WHERE isin IN %(isins)s AND date >= %(start)s AND date <= %(end)s\",\n",
        "params=vars)"
      ],
      "execution_count": null,
      "outputs": []
    },
    {
      "cell_type": "code",
      "metadata": {
        "id": "c-IS8hvLf1RV"
      },
      "source": [
        "factset_lt_usc_v3_df = db.raw_sql(\"SELECT isin, date, proper_name, currency, \"\n",
        "\"ff_invest_lt, ff_debt_lt, ff_debt_lt_iss_cf, ff_debt_lt_reduct_cf, ff_ins_lt_rsrv, ff_liabs, ff_ltd_tcap \"\n",
        "\"FROM wrds_fund_af_usc_v3 \"\n",
        "\"WHERE isin IN %(isins)s AND date >= %(start)s AND date <= %(end)s\",\n",
        "params=vars)"
      ],
      "execution_count": null,
      "outputs": []
    },
    {
      "cell_type": "code",
      "metadata": {
        "id": "MCDcFfJBfzOd"
      },
      "source": [
        "factset_lt_df = pd.concat([factset_lt_int_v3_df, factset_lt_usc_v3_df])"
      ],
      "execution_count": null,
      "outputs": []
    },
    {
      "cell_type": "code",
      "metadata": {
        "id": "sISaW6fm7rKD"
      },
      "source": [
        "factset_lt_df.rename(columns={'ff_invest_lt': 'Long term Investments',\n",
        "                              'ff_debt_lt_tot': 'Total Long Term Debt',\n",
        "                              'ff_debt_lt_iss_cf': 'Issuance of LT Debt',\n",
        "                              'ff_debt_lt_reduct_cf': 'Reduction of Long Term Debt',\n",
        "                              'ff_ins_lt_rsrv': 'Long Term Insurance Reserves',\n",
        "                              'ff_liabs_ps': 'Long Term Liabilities Per Share',\n",
        "                              'ff_ltd_tcap': 'Long Term Debt percent Total Capital'},\n",
        "                     inplace=True)"
      ],
      "execution_count": null,
      "outputs": []
    },
    {
      "cell_type": "code",
      "metadata": {
        "id": "hiSJAJA4ZrzF"
      },
      "source": [
        "factset_lt_df.drop_duplicates(inplace=True)\n",
        "factset_lt_df['year'] = pd.DatetimeIndex(factset_lt_df['date']).year"
      ],
      "execution_count": null,
      "outputs": []
    },
    {
      "cell_type": "code",
      "metadata": {
        "id": "60ZQR0nBEj8f"
      },
      "source": [
        "factset_lt_df.to_excel(\"/content/drive/MyDrive/factset_lt_data_with_currency_0716.xlsx\")"
      ],
      "execution_count": null,
      "outputs": []
    },
    {
      "cell_type": "code",
      "metadata": {
        "id": "3l5IUYRyZ4SG"
      },
      "source": [
        "factset_get_missing_value_df(factset_lt_df)"
      ],
      "execution_count": null,
      "outputs": []
    },
    {
      "cell_type": "markdown",
      "metadata": {
        "id": "sWx58f3d4u_4"
      },
      "source": [
        "### Annual Healthcare-related Variables"
      ]
    },
    {
      "cell_type": "markdown",
      "metadata": {
        "id": "2v13OJG15js0"
      },
      "source": [
        "| Variable in FactSet Database |                   Description                   |\n",
        "|:----------------------------:|:-----------------------------------------------:|\n",
        "| ff_hlth_abo |\tHealthcare - Accumulated Benefit Obligation |                           \n",
        "| ff_hlth_emplr_contr |\tAPBO- Health Employer Contributions |           \n",
        "| ff_hlth_npp_exp |\tHealth Care Expense |                     \n",
        "| ff_hlth_pbo |\tHealthcare - Projected Benefit Obligation |                             \n",
        "| ff_hlth_serv_cost |\tHealthcare - Service Costs |"
      ]
    },
    {
      "cell_type": "code",
      "metadata": {
        "id": "pir4ft6S6AGV"
      },
      "source": [
        "factset_healthcare_int_v3_df = db.raw_sql(\"SELECT isin, date, proper_name, currency, \"\n",
        "\"ff_hlth_abo, ff_hlth_emplr_contr, ff_hlth_npp_exp, ff_hlth_pbo, ff_hlth_serv_cost \"\n",
        "\"FROM wrds_fund_af_int_v3 \"\n",
        "\"WHERE isin IN %(isins)s AND date >= %(start)s AND date <= %(end)s\",\n",
        "params=vars)"
      ],
      "execution_count": null,
      "outputs": []
    },
    {
      "cell_type": "code",
      "metadata": {
        "id": "TLUhOtVO6s3W"
      },
      "source": [
        "factset_healthcare_usc_v3_df = db.raw_sql(\"SELECT isin, date, proper_name, currency, \"\n",
        "\"ff_hlth_abo, ff_hlth_emplr_contr, ff_hlth_npp_exp, ff_hlth_pbo, ff_hlth_serv_cost \"\n",
        "\"FROM wrds_fund_af_usc_v3 \"\n",
        "\"WHERE isin IN %(isins)s AND date >= %(start)s AND date <= %(end)s\",\n",
        "params=vars)"
      ],
      "execution_count": null,
      "outputs": []
    },
    {
      "cell_type": "code",
      "metadata": {
        "id": "fsz55cZP6zaF"
      },
      "source": [
        "factset_healthcare_df = pd.concat([factset_healthcare_int_v3_df, factset_healthcare_usc_v3_df])"
      ],
      "execution_count": null,
      "outputs": []
    },
    {
      "cell_type": "code",
      "metadata": {
        "id": "6N9BnH9s7QbB"
      },
      "source": [
        "factset_healthcare_df.rename(columns={'ff_hlth_abo': 'Healthcare - Accumulated Benefit Obligation',\n",
        "                                      'ff_hlth_emplr_contr': 'APBO - Health Employer Contributions',\n",
        "                                       'ff_hlth_npp_exp': 'Health Care Expense',\n",
        "                                       'ff_hlth_pbo': 'Healthcare - Projected Benefit Obligation',\n",
        "                                       'ff_hlth_serv_cost': 'Healthcare - Service Costs'},\n",
        "                             inplace=True)"
      ],
      "execution_count": null,
      "outputs": []
    },
    {
      "cell_type": "code",
      "metadata": {
        "id": "ZCgbig5nZw9S"
      },
      "source": [
        "factset_healthcare_df['year'] = pd.DatetimeIndex(factset_healthcare_df['date']).year"
      ],
      "execution_count": null,
      "outputs": []
    },
    {
      "cell_type": "code",
      "metadata": {
        "id": "mVccOxVD65Ls"
      },
      "source": [
        "def factset_get_missing_value_df(df):\n",
        "  # Print the no. of ISINs for which there is data\n",
        "  num_isins = len(df['isin'].unique())\n",
        "  isin_percent = (num_isins / 4147) * 100\n",
        "  print('Of all the 4147 ISINs, there is data present for ' + str(num_isins) + ' ISINs (' + str(round(isin_percent, 2)) + '%).') \n",
        "\n",
        "  # Missingness by Year for Each Variable\n",
        "  print('\\n')\n",
        "  print('Missingness by Year for Each Variable')\n",
        "  missingness_by_year_df = (df.drop(columns=['isin', 'date', 'year', 'proper_name']).isnull().groupby(df['year'].astype(int)).sum() / (4147*4))*100\n",
        "  display(missingness_by_year_df)\n",
        "\n",
        "  # Missingness in an \"ideal world\" (If there was data for all 4147 ISINs by quarter for all 11 years) \n",
        "  print('\\n')\n",
        "  print('Missingness in an \"ideal world\" (If there was data for all 4147 ISINs by quarter for all 11 years)')\n",
        "  percent_missing_ideal = (df.drop(columns=['isin', 'date', 'year', 'proper_name']).isna().sum() / (4147*4*11))*100\n",
        "  missing_value_df = pd.DataFrame({'percent_missing_ideal': percent_missing_ideal})\n",
        "  missing_value_df.rename(columns={'percent_missing_ideal': '% Missing Data (Out of All ISINs for All Years)'}, inplace=True)\n",
        "  missing_value_df.sort_values(by='% Missing Data (Out of All ISINs for All Years)', inplace=True)\n",
        "  display(missing_value_df)\n",
        "\n",
        "factset_get_missing_value_df(factset_healthcare_df)"
      ],
      "execution_count": null,
      "outputs": []
    },
    {
      "cell_type": "code",
      "metadata": {
        "id": "nZ_E6yaKFv3b"
      },
      "source": [
        "factset_healthcare_df.to_excel(\"/content/drive/MyDrive/factset_healthcare_data_with_currency_0716.xlsx\")"
      ],
      "execution_count": null,
      "outputs": []
    },
    {
      "cell_type": "markdown",
      "metadata": {
        "id": "t31PUS8w3Xf0"
      },
      "source": [
        "## BoardEx Data (Annual)\n",
        "\n"
      ]
    },
    {
      "cell_type": "markdown",
      "metadata": {
        "id": "TxyWWEOgudu7"
      },
      "source": [
        "### BoardEx North America"
      ]
    },
    {
      "cell_type": "markdown",
      "metadata": {
        "id": "6dyRBM0G4qVD"
      },
      "source": [
        "***na_wrds_org_summary***    \n",
        "\n",
        "This table contains a row for each director of an organization (identified by its ISIN).     \n",
        "\n",
        "\n",
        "`genderratio` (Proportion of male directors)           \n",
        "`nationalitymix` (Proportion of Directors from different countries)              \n",
        "`noquals` (Avg number of qualifications at undergraduate level & above for directors)        \n",
        "`network size` (Network size of selected indivdual on the board of directors: no. of overlaps through employment, other activities, & education)                     \n",
        "`successsion` (Succession Factor: Number of Directors that have left a role as a proportion of average number of Directors for the preceding reporting period at the Annual Report Date selected\n",
        "Succession Factor)              \n",
        "`attrition` (Attrition Rate: Number of Directors that have left a role as a proportion of average number of Directors for the preceding reporting period at the Annual Report Date)  \n",
        "`timeretirement` (Time to Retirement of the selected individual, assuming a retirement age of 70)           \n",
        "`timeinco` (Time in Company)  \n",
        "`stdevage` (Standard Deviation of Age)           \n",
        "`stdevtimebrd` (Standard Deviation of Time on Board)                         \n",
        "`stdevtimeinco` (Standard Deviation of Time in Company)               \n"
      ]
    },
    {
      "cell_type": "code",
      "metadata": {
        "id": "xc-iVmc4T0-S"
      },
      "source": [
        "isin_list = pd.read_csv(\"/content/drive/MyDrive/isin_list.txt\", header = None)"
      ],
      "execution_count": null,
      "outputs": []
    },
    {
      "cell_type": "code",
      "metadata": {
        "id": "gq5Dbwp4bSpg"
      },
      "source": [
        "import datetime\n",
        "start_date = datetime.date(2010, 1, 1)\n",
        "end_date = datetime.date(2020, 12, 31)"
      ],
      "execution_count": null,
      "outputs": []
    },
    {
      "cell_type": "code",
      "metadata": {
        "id": "TzoPo7MeY95m"
      },
      "source": [
        "vars = {'orgs': tuple(isin_list[0].unique()), 'start': start_date, 'end': end_date}"
      ],
      "execution_count": null,
      "outputs": []
    },
    {
      "cell_type": "code",
      "metadata": {
        "id": "A6gc8ri_6tjP"
      },
      "source": [
        "# Getting board data for North America ISINs \n",
        "\n",
        "boardex_na_df = db.raw_sql(\"SELECT annualreportdate AS date, isin, boardname, hocountryname, currency, genderratio, nationalitymix, noquals, succession, attrition, \"\n",
        "           \"networksize, numberdirectors, timeinco, timeretirement, stdevage, stdevtimebrd, stdevtimeinco \"\n",
        "           \"FROM na_wrds_org_summary \"\n",
        "           \"WHERE isin IN %(orgs)s AND annualreportdate >= %(start)s AND annualreportdate <= %(end)s \",\n",
        "           params = vars)"
      ],
      "execution_count": null,
      "outputs": []
    },
    {
      "cell_type": "code",
      "metadata": {
        "id": "2ZgE5zgCi6y1"
      },
      "source": [
        "boardex_na_df.head(n=10)"
      ],
      "execution_count": null,
      "outputs": []
    },
    {
      "cell_type": "code",
      "metadata": {
        "id": "vFpj4gCOfAWF"
      },
      "source": [
        "boardex_na_df['date'].sort_values()"
      ],
      "execution_count": null,
      "outputs": []
    },
    {
      "cell_type": "code",
      "metadata": {
        "id": "pUsV5P4Ud2TV"
      },
      "source": [
        "# Note that different companies published their annual reports at different dates (some in Dec, some in Nov)\n",
        "\n",
        "boardex_na_df['date'].value_counts(dropna=False)"
      ],
      "execution_count": null,
      "outputs": []
    },
    {
      "cell_type": "code",
      "metadata": {
        "id": "AwIanI54a361"
      },
      "source": [
        "boardex_na_df.describe()"
      ],
      "execution_count": null,
      "outputs": []
    },
    {
      "cell_type": "code",
      "metadata": {
        "id": "x36YENSTcqt6"
      },
      "source": [
        "boardex_na_missing_df = get_missing_value_df(boardex_na_df)\n",
        "boardex_na_missing_df"
      ],
      "execution_count": null,
      "outputs": []
    },
    {
      "cell_type": "markdown",
      "metadata": {
        "id": "GS_HfA6orIes"
      },
      "source": [
        "### BoardEx Europe"
      ]
    },
    {
      "cell_type": "code",
      "metadata": {
        "id": "EfTzdQa_rQ-h"
      },
      "source": [
        "boardex_eur_df = db.raw_sql(\"SELECT annualreportdate AS date, isin, boardname, hocountryname, currency, genderratio, nationalitymix, noquals, succession, attrition, \"\n",
        "           \"networksize, numberdirectors, timeinco, timeretirement, stdevage, stdevtimebrd, stdevtimeinco \"\n",
        "           \"FROM eur_wrds_org_summary \"\n",
        "           \"WHERE isin IN %(orgs)s AND annualreportdate >= %(start)s AND annualreportdate <= %(end)s \",\n",
        "           params = vars)"
      ],
      "execution_count": null,
      "outputs": []
    },
    {
      "cell_type": "code",
      "metadata": {
        "id": "1_LrFDQIt7JO"
      },
      "source": [
        "boardex_eur_df.head()"
      ],
      "execution_count": null,
      "outputs": []
    },
    {
      "cell_type": "code",
      "metadata": {
        "id": "SGA2_3H4t_cr"
      },
      "source": [
        "boardex_eur_missing_df = get_missing_value_df(boardex_eur_df)\n",
        "boardex_eur_missing_df"
      ],
      "execution_count": null,
      "outputs": []
    },
    {
      "cell_type": "code",
      "metadata": {
        "id": "rcn8_ONauGWj"
      },
      "source": [
        "boardex_eur_df.describe()"
      ],
      "execution_count": null,
      "outputs": []
    },
    {
      "cell_type": "markdown",
      "metadata": {
        "id": "SLYmS04fuXvr"
      },
      "source": [
        "### BoardEx UK"
      ]
    },
    {
      "cell_type": "code",
      "metadata": {
        "id": "_cmSzjOiulfP"
      },
      "source": [
        "boardex_uk_df = db.raw_sql(\"SELECT annualreportdate AS date, isin, boardname, hocountryname, currency, genderratio, nationalitymix, noquals, succession, attrition, \"\n",
        "           \"networksize, numberdirectors, timeinco, timeretirement, stdevage, stdevtimebrd, stdevtimeinco \"\n",
        "           \"FROM uk_wrds_org_summary \"\n",
        "           \"WHERE isin IN %(orgs)s AND annualreportdate >= %(start)s AND annualreportdate <= %(end)s \",\n",
        "           params = vars)"
      ],
      "execution_count": null,
      "outputs": []
    },
    {
      "cell_type": "code",
      "metadata": {
        "id": "8z0mMfLIvoQ5"
      },
      "source": [
        "boardex_uk_df.describe()"
      ],
      "execution_count": null,
      "outputs": []
    },
    {
      "cell_type": "code",
      "metadata": {
        "id": "bpvTVQ-Svvtq"
      },
      "source": [
        "boardex_uk_missing_df = get_missing_value_df(boardex_uk_df)\n",
        "boardex_uk_missing_df"
      ],
      "execution_count": null,
      "outputs": []
    },
    {
      "cell_type": "code",
      "metadata": {
        "id": "kXiOlk1Fv4xN"
      },
      "source": [
        "boardex_uk_df['date'].value_counts()"
      ],
      "execution_count": null,
      "outputs": []
    },
    {
      "cell_type": "markdown",
      "metadata": {
        "id": "jbAzjVoWugxw"
      },
      "source": [
        "### BoardEx Rest of World"
      ]
    },
    {
      "cell_type": "code",
      "metadata": {
        "id": "oM0ScbZycy9y"
      },
      "source": [
        "boardex_row_df = db.raw_sql(\"SELECT annualreportdate AS date, isin, boardname, hocountryname, currency, genderratio, nationalitymix, noquals, succession, attrition, \"\n",
        "           \"networksize, numberdirectors, timeinco, timeretirement, stdevage, stdevtimebrd, stdevtimeinco \"\n",
        "           \"FROM row_wrds_org_summary \"\n",
        "           \"WHERE isin IN %(orgs)s AND annualreportdate >= %(start)s AND annualreportdate <= %(end)s \",\n",
        "           params = vars)"
      ],
      "execution_count": null,
      "outputs": []
    },
    {
      "cell_type": "code",
      "metadata": {
        "id": "267Dvmyax_7j"
      },
      "source": [
        "# Examining the Geographical Distributions of the \"Rest of World\" ISINs\n",
        "boardex_row_df['hocountryname'].value_counts()"
      ],
      "execution_count": null,
      "outputs": []
    },
    {
      "cell_type": "code",
      "metadata": {
        "id": "NZBdPBWSwy32"
      },
      "source": [
        "boardex_row_df.describe()"
      ],
      "execution_count": null,
      "outputs": []
    },
    {
      "cell_type": "code",
      "metadata": {
        "id": "8VEWaFaNw1Jw"
      },
      "source": [
        "boardex_row_missing_df = get_missing_value_df(boardex_row_df)\n",
        "boardex_row_missing_df"
      ],
      "execution_count": null,
      "outputs": []
    },
    {
      "cell_type": "markdown",
      "metadata": {
        "id": "tLN-mS7yujMV"
      },
      "source": [
        "### Remarks about BoardEx"
      ]
    },
    {
      "cell_type": "markdown",
      "metadata": {
        "id": "4OS90Li9fufb"
      },
      "source": [
        "Remarks about BoardEx:      \n",
        "- Since different organisations in different regions defined the start/end dates of their financial year differently, for simplicity, we extract the year from the date during which the annual report was published.\n",
        "\n",
        "- There are 4147 unique ISINs in the FCLT dataset provided. \n",
        "\n",
        "BoardEx North America has data for 1034 of those ISINs (around 25% of our targeted ISINs).            \n",
        "BoardEx Europe has data for 592 ISINs (around 14%).           \n",
        "BoardEX UK has data for 141 ISINs (3.4%).      \n",
        "BoardEx Rest Of World has data for 1699 ISINs (around 41%).          \n",
        "The total no. of ISINs represented across the different regions is 3467, but 47 ISINs appeared in more than one region, so altogether, BoardEx has data for 3420 *distinct* ISINs (82.5% of the ISINs we are interested in). \n",
        "\n",
        "- Across all the regions, attrition rate is the variable with the most missing data.\n"
      ]
    },
    {
      "cell_type": "code",
      "metadata": {
        "id": "xmzn2KEUySEz"
      },
      "source": [
        "# Concatenating the four dataframes across the different regions \n",
        "\n",
        "boardex_df = pd.concat([boardex_na_df, boardex_eur_df, boardex_uk_df, boardex_row_df])"
      ],
      "execution_count": null,
      "outputs": []
    },
    {
      "cell_type": "code",
      "metadata": {
        "id": "jwhlcCkazdCT"
      },
      "source": [
        "# Find common ISINs across the different regions\n",
        "\n",
        "from functools import reduce\n",
        "import numpy as np\n",
        "\n",
        "na_isins = boardex_na_df['isin'].unique()\n",
        "eur_isins = boardex_eur_df['isin'].unique()\n",
        "uk_isins = boardex_uk_df['isin'].unique()\n",
        "row_isins = boardex_row_df['isin'].unique()\n",
        "\n",
        "reduce(np.intersect1d, (na_isins, eur_isins, uk_isins, row_isins))"
      ],
      "execution_count": null,
      "outputs": []
    },
    {
      "cell_type": "code",
      "metadata": {
        "id": "LfzbRUcu0dsM"
      },
      "source": [
        "# Find all the ISINs that appear in two regions\n",
        "# https://stackoverflow.com/questions/52408910/python-pairwise-intersection-of-multiple-lists-then-sum-up-all-duplicates\n",
        "\n",
        "from itertools import combinations_with_replacement\n",
        "\n",
        "# Dictionary indexed by region where the values are the ISIN lists\n",
        "boardex_isins = {'North America': na_isins, 'Europe': eur_isins, 'UK': uk_isins, 'Rest of World': row_isins}"
      ],
      "execution_count": null,
      "outputs": []
    },
    {
      "cell_type": "code",
      "metadata": {
        "id": "WRJGhHoW2ClR"
      },
      "source": [
        "# Use combinations_with_replacement to compute all pairwise intersections of the ISINs lists,\n",
        "# and put the results into a dictionary indexed by a frozenset of the region combinations,\n",
        "# where the values are the cardinality of the intersection between the two lists\n",
        "\n",
        "isin_set = { frozenset([a[0], b[0]]) : len(a[1] & b[1]) for a, b in combinations_with_replacement([(k, set(v)) for k, v in boardex_isins.items()], 2) if a != b }"
      ],
      "execution_count": null,
      "outputs": []
    },
    {
      "cell_type": "code",
      "metadata": {
        "id": "4oRaTXoD5OG6"
      },
      "source": [
        "# Print the ISINs that appeared in a pairwise intersection of regions\n",
        "\n",
        "region_pairs = list(isin_set.keys())\n",
        "for i in np.arange(len(region_pairs)):\n",
        "  print(\"ISINs appearing in both \", end=\"\")\n",
        "  print(tuple(dict.fromkeys(region_pairs[i])), end = ': ') \n",
        "  print(list(isin_set.values())[i])"
      ],
      "execution_count": null,
      "outputs": []
    },
    {
      "cell_type": "code",
      "metadata": {
        "id": "l4_ijIEn3u6Y"
      },
      "source": [
        "# There are 47 ISINs that appeared in exactly two regions. \n",
        "sum(isin_set.values())"
      ],
      "execution_count": null,
      "outputs": []
    },
    {
      "cell_type": "code",
      "metadata": {
        "id": "uD264FYa8nxu"
      },
      "source": [
        "# However, there are only 46 ISINs that we overcounted -- this means that one ISIN appeared in three or more regions!\n",
        "sum([len(na_isins), len(eur_isins), len(uk_isins), len(row_isins)]) - len(boardex_df['isin'].unique())"
      ],
      "execution_count": null,
      "outputs": []
    },
    {
      "cell_type": "code",
      "metadata": {
        "id": "BgMgKvGw_3kX"
      },
      "source": [
        "boardex_df.to_excel(\"/content/drive/MyDrive/Boardex_diversity_data_with_currency_0716.xlsx\")"
      ],
      "execution_count": null,
      "outputs": []
    },
    {
      "cell_type": "markdown",
      "metadata": {
        "id": "tiXBZD3FyQKw"
      },
      "source": [
        "### LTIP data from BoardEx"
      ]
    },
    {
      "cell_type": "markdown",
      "metadata": {
        "id": "4WjnxJoXbrwr"
      },
      "source": [
        "Organization Summary:      \n",
        "**`valLTIPHeld`: Value of Long Term Incentive Plans Held (in 000s)**         \n",
        "Value of LTIPs held at the end of the report for the individual based on the closing stock price of the Annual Report Date selected\n",
        "\n",
        "**`LTIPValue`: Value of LTIP Awarded in last year (in 000s)**        \n",
        "Value of LTIPs awarded during the period based on the closing stock price of the Annual Report Date selected   \n",
        "\n",
        "\n",
        "**`PenEmpCon`: Employers Defined Contribution (in 000s)** \n",
        "Employers Defined Retirement/Pension Contribution for each Director in a report period\n",
        "\n",
        "\n",
        "**`TotRemPeriod`: Total Awards for the Remuneration Period (in 000s)**\n",
        "Total awards for the period\n",
        "\n",
        "**`PerfTotal`: LTIP Value / Total Awards for the Period**                   \n",
        "(Performance to total - Ratio of Value of LTIPs Held to Total Compensation for the period)  \n",
        "\n",
        "**`TotalDirectComp`: Total Direct Compensation (000s) (Salary+Bonus+Other+PenEmpCont)**       \n",
        "(Total Direct Compensation equals Salary plus Bonus plus Other Compensation plus Employers Devined Retirement/Pension Contribution for the period)\n"
      ]
    },
    {
      "cell_type": "code",
      "metadata": {
        "id": "YFMgymBRtqAy"
      },
      "source": [
        "boardex_ltip_na_df = db.raw_sql(\"SELECT annualreportdate AS date, isin, boardname, hocountryname, currency, \"\n",
        "          \"valLTIPHeld, LTIPValue, PenEmpCon, TotRemPeriod, PerfTotal, TotalDirectComp \"\n",
        "          \"FROM na_wrds_org_summary \"\n",
        "          \"WHERE isin IN %(orgs)s AND annualreportdate >= %(start)s AND annualreportdate <= %(end)s\", \n",
        "           params=vars)"
      ],
      "execution_count": null,
      "outputs": []
    },
    {
      "cell_type": "code",
      "metadata": {
        "id": "G6JO1ltRfPtM"
      },
      "source": [
        "boardex_ltip_eur_df = db.raw_sql(\"SELECT annualreportdate AS date, isin, boardname, hocountryname, currency, \"\n",
        "          \"valLTIPHeld, LTIPValue, PenEmpCon, TotRemPeriod, PerfTotal, TotalDirectComp \"\n",
        "          \"FROM eur_wrds_org_summary \"\n",
        "          \"WHERE isin IN %(orgs)s AND annualreportdate >= %(start)s AND annualreportdate <= %(end)s\", \n",
        "           params=vars)"
      ],
      "execution_count": null,
      "outputs": []
    },
    {
      "cell_type": "code",
      "metadata": {
        "id": "lCIW70_RfUMK"
      },
      "source": [
        "boardex_ltip_uk_df = db.raw_sql(\"SELECT annualreportdate AS date, isin, boardname, hocountryname, currency, \"\n",
        "          \"valLTIPHeld, LTIPValue, PenEmpCon, TotRemPeriod, PerfTotal, TotalDirectComp \"\n",
        "          \"FROM uk_wrds_org_summary \"\n",
        "          \"WHERE isin IN %(orgs)s AND annualreportdate >= %(start)s AND annualreportdate <= %(end)s\", \n",
        "           params=vars)"
      ],
      "execution_count": null,
      "outputs": []
    },
    {
      "cell_type": "code",
      "metadata": {
        "id": "HDWvYAs8fXlq"
      },
      "source": [
        "boardex_ltip_row_df = db.raw_sql(\"SELECT annualreportdate AS date, isin, boardname, hocountryname, currency, \"\n",
        "          \"valLTIPHeld, LTIPValue, PenEmpCon, TotRemPeriod, PerfTotal, TotalDirectComp \"\n",
        "          \"FROM row_wrds_org_summary \"\n",
        "          \"WHERE isin IN %(orgs)s AND annualreportdate >= %(start)s AND annualreportdate <= %(end)s\", \n",
        "           params=vars)"
      ],
      "execution_count": null,
      "outputs": []
    },
    {
      "cell_type": "code",
      "metadata": {
        "id": "8nuJcnpZfaej"
      },
      "source": [
        "boardex_ltip_df = pd.concat([boardex_ltip_na_df, boardex_ltip_eur_df, boardex_ltip_uk_df, boardex_ltip_row_df])"
      ],
      "execution_count": null,
      "outputs": []
    },
    {
      "cell_type": "code",
      "metadata": {
        "id": "AIQGJDk2f39v"
      },
      "source": [
        "boardex_ltip_df.rename(columns={'valltipheld': \"Value of LTIPs Held (in 000s)\",\n",
        "                                'ltipvalue': 'Value of LTIP Awarded in Last Year (in 000s)',\n",
        "                                'penempcon': 'Employers Defined Contribution (in 000s)',\n",
        "                                'totremperiod': 'Total Awards for the Remuneration Period (in 000s)',\n",
        "                                'perftotal': 'LTIP Value / Total Awards for the Period',\n",
        "                                'totaldirectcomp': 'Total Direct Compensation (in 000s)'},\n",
        "                       inplace=True)"
      ],
      "execution_count": null,
      "outputs": []
    },
    {
      "cell_type": "code",
      "metadata": {
        "id": "E1IwxiDbA5Pq"
      },
      "source": [
        "boardex_ltip_df.to_excel(\"/content/drive/MyDrive/Boardex_ltip_data_with_currency_0716.xlsx\")"
      ],
      "execution_count": null,
      "outputs": []
    },
    {
      "cell_type": "code",
      "metadata": {
        "id": "5ADUBwiifjgJ"
      },
      "source": [
        "boardex_ltip_df.describe()"
      ],
      "execution_count": null,
      "outputs": []
    },
    {
      "cell_type": "code",
      "metadata": {
        "id": "ddZP1zDpfpcx"
      },
      "source": [
        "boardex_ltip_missing_df = get_missing_value_df(boardex_ltip_df)\n",
        "boardex_ltip_missing_df"
      ],
      "execution_count": null,
      "outputs": []
    },
    {
      "cell_type": "markdown",
      "metadata": {
        "id": "wr75EdAXhBuy"
      },
      "source": [
        "## ISS RiskMetrics Data (Annual)"
      ]
    },
    {
      "cell_type": "markdown",
      "metadata": {
        "id": "FGaLMu2EoguQ"
      },
      "source": [
        "ISS uses the CUSIP (and not the ISIN) to identify securities, so we need to first convert our list of ISINs to CUSIPs."
      ]
    },
    {
      "cell_type": "code",
      "metadata": {
        "id": "ZG1WxUEwhG5P"
      },
      "source": [
        "cusip_candidates = tuple(isin[2:11] for isin in isin_list[0].unique())"
      ],
      "execution_count": null,
      "outputs": []
    },
    {
      "cell_type": "code",
      "metadata": {
        "id": "L5cKfKEGrosr"
      },
      "source": [
        "start_date = datetime.date(2010, 1, 1)\n",
        "end_date = datetime.date(2020, 12, 31)\n",
        "\n",
        "iss_vars = {'cusips': cusip_candidates, 'start': start_date, 'end': end_date}"
      ],
      "execution_count": null,
      "outputs": []
    },
    {
      "cell_type": "markdown",
      "metadata": {
        "id": "zL-cvXP_FqoA"
      },
      "source": [
        "**`iss_va_shareholder`** (Voting results for shareholder proposals)         \n",
        "https://wrds-www.wharton.upenn.edu/data-dictionary/iss_va_shareholder/\n"
      ]
    },
    {
      "cell_type": "code",
      "metadata": {
        "id": "O0PPGOkJsua-"
      },
      "source": [
        "iss_shareholder_proposals_df = db.raw_sql(\"SELECT meeting_date, data_year, cusip, resolution, sponsor_type, requirement, passed, levelofsupport, \"\n",
        "            \"support_for_against, support_for_against_abstain \"\n",
        "            \"FROM va_proposals WHERE cusip IN %(cusips)s AND data_year >= 2010 AND data_year <= 2020\", \n",
        "           params=iss_vars)"
      ],
      "execution_count": null,
      "outputs": []
    },
    {
      "cell_type": "code",
      "metadata": {
        "id": "P3BJXqzMGv2x"
      },
      "source": [
        "iss_shareholder_proposals_df.groupby(by=['cusip', 'data_year']).agg('count')"
      ],
      "execution_count": null,
      "outputs": []
    },
    {
      "cell_type": "code",
      "metadata": {
        "id": "kFrYdTjDFCU_"
      },
      "source": [
        "iss_shareholder_proposals_df['cusip'].unique().shape"
      ],
      "execution_count": null,
      "outputs": []
    },
    {
      "cell_type": "code",
      "metadata": {
        "id": "AirpOyndARhV"
      },
      "source": [
        "get_missing_value_df_annual(iss_shareholder_proposals_df)"
      ],
      "execution_count": null,
      "outputs": []
    },
    {
      "cell_type": "markdown",
      "metadata": {
        "id": "5DllE3FbG93a"
      },
      "source": [
        "**`vavoteresults`** (North America Voting Results)               \n",
        "https://wrds-www.wharton.upenn.edu/data-dictionary/iss_va_vote_us/vavoteresults/\n",
        "\n",
        "**`globalvoteresults`** (Global Voting Results)        \n",
        "https://wrds-www.wharton.upenn.edu/pages/get-data/institutional-shareholder-services-iss/voting-analytics/company-vote-results-global/\n"
      ]
    },
    {
      "cell_type": "code",
      "metadata": {
        "id": "FLxf0RAtHU46"
      },
      "source": [
        "iss_vote_na_df = db.raw_sql(\"SELECT meetingdate, cusip, name, countryofinc, itemdesc, mgmtrec, sponsor, outstandingshare, \"\n",
        "                            \"votedabstain, votedagainst, votedfor, votedwithheld, voterequirement, voteresult \"\n",
        "                            \"FROM vavoteresults \"\n",
        "                            \"WHERE cusip IN %(cusips)s AND meetingdate >= %(start)s AND meetingdate <= %(end)s\",\n",
        "                            params=iss_vars)"
      ],
      "execution_count": null,
      "outputs": []
    },
    {
      "cell_type": "code",
      "metadata": {
        "id": "FuB99-d4HzH8"
      },
      "source": [
        "iss_vote_na_df['cusip'].unique().shape"
      ],
      "execution_count": null,
      "outputs": []
    },
    {
      "cell_type": "code",
      "metadata": {
        "id": "OZh3M8zZH_nC"
      },
      "source": [
        "iss_vote_global_df = db.raw_sql(\"SELECT meetingdate, cusip, name, countryofinc, itemdesc, mgmtrec, sponsor, outstandingshare, \"\n",
        "                            \"votedabstain, votedagainst, votedfor, votedwithheld, voterequirement, voteresult \"\n",
        "                            \"FROM globalvoteresults \"\n",
        "                            \"WHERE cusip IN %(cusips)s AND meetingdate >= %(start)s AND meetingdate <= %(end)s\",\n",
        "                            params=iss_vars)"
      ],
      "execution_count": null,
      "outputs": []
    },
    {
      "cell_type": "code",
      "metadata": {
        "id": "NjM3_OGNIJWp"
      },
      "source": [
        "iss_vote_global_df['cusip'].unique().shape"
      ],
      "execution_count": null,
      "outputs": []
    },
    {
      "cell_type": "code",
      "metadata": {
        "id": "6VT4z41DIbL0"
      },
      "source": [
        "iss_vote_global_df.describe()"
      ],
      "execution_count": null,
      "outputs": []
    },
    {
      "cell_type": "code",
      "metadata": {
        "id": "qtSQccpFINyk"
      },
      "source": [
        "import numpy as np\n",
        "\n",
        "np.intersect1d(iss_vote_na_df['cusip'].unique(), iss_vote_global_df['cusip'].unique()).shape"
      ],
      "execution_count": null,
      "outputs": []
    },
    {
      "cell_type": "code",
      "metadata": {
        "id": "w5yKXOI8I0vm"
      },
      "source": [
        "# Concatenate NA and Global Vote Results dataframes\n",
        "\n",
        "iss_vote_df = pd.concat([iss_vote_na_df, iss_vote_global_df])"
      ],
      "execution_count": null,
      "outputs": []
    },
    {
      "cell_type": "code",
      "metadata": {
        "id": "05yKJHbhKQD3"
      },
      "source": [
        "iss_vote_df.head()"
      ],
      "execution_count": null,
      "outputs": []
    },
    {
      "cell_type": "code",
      "metadata": {
        "id": "qWpZXs_7JAba"
      },
      "source": [
        "iss_vote_df.shape"
      ],
      "execution_count": null,
      "outputs": []
    },
    {
      "cell_type": "code",
      "metadata": {
        "id": "vW6rIL0sJmoc"
      },
      "source": [
        "iss_vote_df['cusip'].unique().shape"
      ],
      "execution_count": null,
      "outputs": []
    },
    {
      "cell_type": "code",
      "metadata": {
        "id": "P-cqsJSYHWeq"
      },
      "source": [
        "get_missing_value_df_annual(iss_vote_df)"
      ],
      "execution_count": null,
      "outputs": []
    },
    {
      "cell_type": "markdown",
      "metadata": {
        "id": "ekUhUHZmEcZ6"
      },
      "source": [
        "**`rmgovernance`** Table (Governance data on Takeover Defenses):\n",
        "https://wrds-www.wharton.upenn.edu/data-dictionary/risk_governance/rmgovernance/\n",
        "\n",
        "\n",
        "**`year`** Year         \n",
        "**`coname`** \tCompany Name         \n",
        "**`cusip`** CUSIP          \n",
        "**`maj_vote_required`** Majority Vote Required             \n",
        "**`maj_vote_requirement`** Majority Vote Requirement             \n",
        "\n",
        "**`charter_amend_votepcnt`** Vote % Required to Amend Charter             \n",
        "**`confvote`** Presence of Confidential Voting              \n",
        "**`cumvote`** Cumulative Voting allowed               \n",
        "**`labylw`** Whether Shareholders have the Ability to Amend ByLaws (boolean)         \n",
        "**`lachtr`** Whether Shareholders have the Ability to Amend Charter (boolean)             \n",
        "**`law_amend_votepcnt`** Vote % Required to Amend ByLaws              \n",
        "**`ppill`** Whether Company has a Poison Pill Provision              \n",
        "**`lspmt`** Whether Shareholders have the Ability to Call Special Meeting (boolean)               \n",
        "**`lwcnst`** Whether Shareholders have the Ability to Act by Written Consent            \n",
        "**`spl_meet_votepcnt`** Vote % Required to Call Special Meeting                    \n",
        "**`written_consent_votepcnt`** Vote % Required for Written Consent            \n",
        "**`supermajor_pcnt`** Vote Required to Approve Merger (%)             \n",
        "**`uneqvote`** Presence of Unequal Voting Rights (boolean)              \n",
        "**`resign_require`** Resignation Requirement                \n",
        "**`oo_stakeholder`** Opt out of Stakeholder Law                "
      ]
    },
    {
      "cell_type": "code",
      "metadata": {
        "id": "Iv122VX0CWZc"
      },
      "source": [
        "iss_governance_df = db.raw_sql(\"SELECT year, coname, cusip, maj_vote_required, maj_vote_requirement, charter_amend_votepcnt, confvote, cumvote, labylw, lachtr, law_amend_votepcnt, \"\n",
        "                              \"lspmt, lwcnst, ppill, spl_meet_votepcnt, written_consent_votepcnt, supermajor_pcnt, uneqvote, resign_require, oo_stakeholder \"\n",
        "                              \"FROM rmgovernance \"\n",
        "                              \"WHERE cusip IN %(cusips)s AND year >= 2010 AND year <= 2020\",\n",
        "                              params=iss_vars)"
      ],
      "execution_count": null,
      "outputs": []
    },
    {
      "cell_type": "code",
      "metadata": {
        "id": "n8apggMaE-aU"
      },
      "source": [
        "iss_governance_df['cusip'].unique().shape"
      ],
      "execution_count": null,
      "outputs": []
    },
    {
      "cell_type": "code",
      "metadata": {
        "id": "7TMm8c9ED2z2"
      },
      "source": [
        "iss_governance_df.head()"
      ],
      "execution_count": null,
      "outputs": []
    },
    {
      "cell_type": "code",
      "metadata": {
        "id": "TIIHcPEaDcxL"
      },
      "source": [
        "get_missing_value_df_annual(iss_governance_df)"
      ],
      "execution_count": null,
      "outputs": []
    },
    {
      "cell_type": "code",
      "metadata": {
        "id": "D_iFmV1Ylgh0"
      },
      "source": [
        "iss_governance_df['cusip'].unique().shape"
      ],
      "execution_count": null,
      "outputs": []
    },
    {
      "cell_type": "markdown",
      "metadata": {
        "id": "tVbJDyokLdaI"
      },
      "source": [
        "# Exporting Raw Dataframes"
      ]
    },
    {
      "cell_type": "code",
      "metadata": {
        "id": "Bi653mPiLg07"
      },
      "source": [
        "with pd.ExcelWriter(\"/content/mnt/MyDrive/FCLT_Annual_ESG_Variables_0811.xlsx\") as writer:\n",
        "  ws_financial_df.to_excel(writer, \"Financial Data (WorldScope)\")\n",
        "  factset_payable_df.to_excel(writer, \"Financial Data (FactSet)\")\n",
        "  factset_capex_df.to_excel(writer, \"CAPEX Data (FactSet)\")\n",
        "  factset_eps_df.to_excel(writer, \"EPS Data (FactSet)\")\n",
        "  factset_st_df.to_excel(writer, \"Short-Term Metrics (FactSet)\")\n",
        "  factset_lt_df.to_excel(writer, \"Long-Term Variables (FactSet)\")\n",
        "  \n",
        "\n",
        "\n",
        "# with pd.ExcelWriter(\"/content/mnt/MyDrive/FCLT_ESG_Variables_0706.xlsx\") as writer:\n",
        "#   refinitiv_env_df.to_excel(writer, \"Environmental Data (Refinitiv)\")\n",
        "#   refinitiv_emp_df.to_excel(writer, \"Employee Metrics (Refinitiv)\")\n",
        "#   factset_payable_df.to_excel(writer, \"Financial Data (FactSet)\")\n",
        "#   factset_capex_df.to_excel(writer, \"CAPEX Data (FactSet)\")\n",
        "#   factset_eps_df.to_excel(writer, \"EPS Data (FactSet)\")\n",
        "#   factset_ltip_df.to_excel(writer, \"LTIP & Pensions Data (FactSet)\")\n",
        "#   factset_st_df.to_excel(writer, \"Short-Term Metrics (FactSet)\")\n",
        "#   factset_lt_df.to_excel(writer, \"Long-Term Variables (FactSet)\")\n",
        "#   factset_healthcare_df.to_excel(writer, \"Healthcare Data (FactSet)\")\n",
        "#   boardex_df.to_excel(writer, \"Board Diversity Data (BoardEx)\")\n",
        "#   boardex_ltip_df.to_excel(writer, \"LTIP Data (BoardEx)\")\n",
        "#   iss_shareholder_proposals_df.to_excel(writer, \"Shareholder Proposals (ISS)\")\n",
        "#   iss_vote_df.to_excel(writer, \"Voting Data (ISS)\")\n",
        "#   iss_governance_df.to_excel(writer, \"Corporate Governance Data (ISS)\")"
      ],
      "execution_count": null,
      "outputs": []
    },
    {
      "cell_type": "markdown",
      "metadata": {
        "id": "7trDVzjKb4z2"
      },
      "source": [
        "# Interpolation of Annual Data into Quarterly Data (To be completed)"
      ]
    },
    {
      "cell_type": "code",
      "metadata": {
        "id": "WQx80fNf561n"
      },
      "source": [
        "filepath = \"/content/drive/MyDrive/FCLT_ESG_Variables_0706.xlsx\""
      ],
      "execution_count": null,
      "outputs": []
    },
    {
      "cell_type": "code",
      "metadata": {
        "id": "-aTPSYfbblNl"
      },
      "source": [
        "# Rapidly find the sheet names of the Excel file containing the annual data we collected earlier\n",
        "# Code adapted from https://stackoverflow.com/questions/17977540/pandas-looking-up-the-list-of-sheets-in-an-excel-file\n",
        "\n",
        "from zipfile import ZipFile\n",
        "from bs4 import BeautifulSoup  # you also need to install \"lxml\" for the XML parser\n",
        "\n",
        "with ZipFile(filepath) as zipped_file:\n",
        "    summary = zipped_file.open(r'xl/workbook.xml').read()\n",
        "soup = BeautifulSoup(summary, \"xml\")\n",
        "sheets = [sheet.get(\"name\") for sheet in soup.find_all(\"sheet\")]"
      ],
      "execution_count": null,
      "outputs": []
    },
    {
      "cell_type": "code",
      "metadata": {
        "id": "D8wQIdpTdAMh"
      },
      "source": [
        "sheets"
      ],
      "execution_count": null,
      "outputs": []
    },
    {
      "cell_type": "code",
      "metadata": {
        "id": "5iKEmdlJdE0Z"
      },
      "source": [
        "factset_ltip_index = sheets.index('LTIP & Pensions Data (FactSet)')"
      ],
      "execution_count": null,
      "outputs": []
    },
    {
      "cell_type": "code",
      "metadata": {
        "id": "DtyaTBLsdhrn"
      },
      "source": [
        "# Interpolate Factset Annual LTIP Data so that we have quarterly observations\n",
        "factset_ltip_annual_df = pd.read_excel(filepath, sheet_name = 5)"
      ],
      "execution_count": null,
      "outputs": []
    },
    {
      "cell_type": "code",
      "metadata": {
        "id": "7p5r2FB3kXsH"
      },
      "source": [
        "pd.date_range(start='1/1/2010', end='12/31/2020', freq='Q')"
      ],
      "execution_count": null,
      "outputs": []
    },
    {
      "cell_type": "code",
      "metadata": {
        "id": "6UTmEqSIgx5P"
      },
      "source": [
        "factset_ltip_annual_df.dtypes"
      ],
      "execution_count": null,
      "outputs": []
    },
    {
      "cell_type": "code",
      "metadata": {
        "id": "jaBwSOhAige7"
      },
      "source": [
        "factset_ltip_annual_df.drop(columns='Unnamed: 0', inplace=True)\n",
        "factset_ltip_annual_df.drop_duplicates(inplace=True)"
      ],
      "execution_count": null,
      "outputs": []
    },
    {
      "cell_type": "code",
      "metadata": {
        "id": "mEnD6d1li9_j"
      },
      "source": [
        "factset_ltip_annual_df.dropna().head(n=5)"
      ],
      "execution_count": null,
      "outputs": []
    },
    {
      "cell_type": "code",
      "metadata": {
        "id": "OK1XkzFIlWog"
      },
      "source": [
        "quarters = pd.date_range(start='1/1/2010', end='12/31/2020', freq='Q')\n",
        "quarters"
      ],
      "execution_count": null,
      "outputs": []
    },
    {
      "cell_type": "code",
      "metadata": {
        "id": "ZipZXK-joZth"
      },
      "source": [
        "factset_ltip_annual_df.set_index('date').index"
      ],
      "execution_count": null,
      "outputs": []
    },
    {
      "cell_type": "code",
      "metadata": {
        "id": "8rp--2NLmSDA"
      },
      "source": [
        "test_df = factset_ltip_annual_df.reindex(factset_ltip_annual_df.set_index('date').index.union(quarters)).groupby('isin', group_keys=False) \\\n",
        "  .apply(lambda df: df.resample('Q').interpolate()).reset_index()"
      ],
      "execution_count": null,
      "outputs": []
    },
    {
      "cell_type": "code",
      "metadata": {
        "id": "7JYBCvSJol25"
      },
      "source": [
        "# Date_df contains all quarters from factset_ltip_annual_df (including missing ones)\n",
        "date_df = factset_ltip_annual_df.reindex(factset_ltip_annual_df.set_index('date').index.union(quarters)).reset_index().drop(columns=['date']).rename(columns={'index': 'date'})\n",
        "\n",
        "# TODO: figure out how to merge date-df with  factset_ltip_quarterly_df while interpolating missing data"
      ],
      "execution_count": null,
      "outputs": []
    },
    {
      "cell_type": "code",
      "metadata": {
        "id": "Z3bZJYQzgL1D"
      },
      "source": [
        "# OLD CODE BELOW\n",
        "\n",
        "# TODO: figure out how to upsample from yearly data to quarterly data \n",
        "\n",
        "# factset_ltip_annual_df['date'] = pd.to_datetime(factset_ltip_annual_df['date'])\n",
        "\n",
        "\n",
        "# Adapted code from https://stackoverflow.com/questions/38641596/extend-data-frame-with-missing-dates-by-group-and-interpolate\n",
        "\n",
        "factset_ltip_quarterly_df = factset_ltip_annual_df.set_index('date').groupby('isin', group_keys=False) \\\n",
        "  .apply(lambda df: df.resample('Q').interpolate()).reset_index()"
      ],
      "execution_count": null,
      "outputs": []
    },
    {
      "cell_type": "code",
      "metadata": {
        "id": "t8NciuQkGyc3"
      },
      "source": [
        "factset_ltip_quarterly_df.head(n=50)"
      ],
      "execution_count": null,
      "outputs": []
    },
    {
      "cell_type": "code",
      "metadata": {
        "id": "TabqreB3HB1w"
      },
      "source": [
        "factset_ltip_quarterly_df[['isin', 'proper_name']] = factset_ltip_quarterly_df[['isin', 'proper_name']].fillna(method=\"ffill\")"
      ],
      "execution_count": null,
      "outputs": []
    },
    {
      "cell_type": "code",
      "metadata": {
        "id": "JHIZgCCMJ6hC"
      },
      "source": [
        "factset_ltip_earliest_df = factset_ltip_quarterly_df.groupby('isin').agg('min').sort_values(by='date').reset_index()"
      ],
      "execution_count": null,
      "outputs": []
    },
    {
      "cell_type": "code",
      "metadata": {
        "id": "Eb2jVMoVKvtp"
      },
      "source": [
        "factset_ltip_earliest_df[factset_ltip_earliest_df['date'] != datetime.datetime(2010, 3, 31)]"
      ],
      "execution_count": null,
      "outputs": []
    },
    {
      "cell_type": "code",
      "metadata": {
        "id": "LC8Kq4EoK7Gc"
      },
      "source": [
        "datetime.datetime(2010, 3, 31)"
      ],
      "execution_count": null,
      "outputs": []
    },
    {
      "cell_type": "code",
      "metadata": {
        "id": "1wUZmUDxIDt1"
      },
      "source": [
        "factset_ltip_quarterly_df.shape"
      ],
      "execution_count": null,
      "outputs": []
    },
    {
      "cell_type": "code",
      "metadata": {
        "id": "du8FfLwtIwFm"
      },
      "source": [
        "factset_ltip_quarterly_df['isin'].unique().shape"
      ],
      "execution_count": null,
      "outputs": []
    },
    {
      "cell_type": "code",
      "metadata": {
        "id": "-YkM3JAKIyHz"
      },
      "source": [
        "factset_ltip_quarterly_df['date'].value_counts()"
      ],
      "execution_count": null,
      "outputs": []
    },
    {
      "cell_type": "code",
      "metadata": {
        "id": "Gn0fXUgrIp_s"
      },
      "source": [
        ""
      ],
      "execution_count": null,
      "outputs": []
    },
    {
      "cell_type": "markdown",
      "metadata": {
        "id": "lnLfKCcMkgr-"
      },
      "source": [
        "Useful links:             \n",
        "Reading xlsx files quicker (converting xlsx to csv in parallel):      \n",
        "https://stackoverflow.com/questions/9884353/xls-to-csv-converter       \n",
        "https://towardsdatascience.com/read-excel-files-with-python-1000x-faster-407d07ad0ed8              \n",
        "\n",
        "\n",
        "Upsampling data using Pandas:      \n",
        "https://stackoverflow.com/questions/45306105/pandas-convert-yearly-to-monthly       \n",
        "\n",
        "https://stackoverflow.com/questions/57703538/typeerror-only-valid-with-datetimeindex-timedeltaindex-or-periodindex-but-got                   \n",
        "(latter link is for resolving type errors while upsampling)                 "
      ]
    }
  ]
}