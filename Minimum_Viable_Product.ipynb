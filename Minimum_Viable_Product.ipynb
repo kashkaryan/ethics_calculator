{
  "nbformat": 4,
  "nbformat_minor": 0,
  "metadata": {
    "colab": {
      "name": "Minimum_Viable_Product.ipynb",
      "provenance": [],
      "collapsed_sections": []
    },
    "kernelspec": {
      "name": "python3",
      "display_name": "Python 3"
    },
    "language_info": {
      "name": "python"
    }
  },
  "cells": [
    {
      "cell_type": "markdown",
      "metadata": {
        "id": "AGD5hO7cdMAz"
      },
      "source": [
        "#NEED TO UPDATE RUSSEL 1000 DATA FRAME SO THAT THE TICKER IS CORRECT, THEN UPDATE ALL FORMULA'S, ADD PEER STOCKS, CHECK NEWS API, FINISH REGRESSION"
      ]
    },
    {
      "cell_type": "code",
      "metadata": {
        "id": "VnDlIivTNfyM",
        "colab": {
          "base_uri": "https://localhost:8080/",
          "height": 235
        },
        "outputId": "b8f3f9f2-7d24-4d8a-fa5a-d97e5e9c0a97"
      },
      "source": [
        "# Mount to Google Drive\n",
        "\n",
        "import os, sys\n",
        "from google.colab import drive\n",
        "drive.mount('/content/mnt', force_remount=True)\n",
        "nb_path = '/content/notebooks'\n",
        "os.symlink('/content/mnt/My Drive/Colab Notebooks', nb_path)\n",
        "sys.path.insert(0, nb_path)  # or append(nb_path)"
      ],
      "execution_count": 542,
      "outputs": [
        {
          "output_type": "stream",
          "name": "stdout",
          "text": [
            "Mounted at /content/mnt\n"
          ]
        },
        {
          "output_type": "error",
          "ename": "FileExistsError",
          "evalue": "ignored",
          "traceback": [
            "\u001b[0;31m---------------------------------------------------------------------------\u001b[0m",
            "\u001b[0;31mFileExistsError\u001b[0m                           Traceback (most recent call last)",
            "\u001b[0;32m<ipython-input-542-2564c943f151>\u001b[0m in \u001b[0;36m<module>\u001b[0;34m()\u001b[0m\n\u001b[1;32m      5\u001b[0m \u001b[0mdrive\u001b[0m\u001b[0;34m.\u001b[0m\u001b[0mmount\u001b[0m\u001b[0;34m(\u001b[0m\u001b[0;34m'/content/mnt'\u001b[0m\u001b[0;34m,\u001b[0m \u001b[0mforce_remount\u001b[0m\u001b[0;34m=\u001b[0m\u001b[0;32mTrue\u001b[0m\u001b[0;34m)\u001b[0m\u001b[0;34m\u001b[0m\u001b[0;34m\u001b[0m\u001b[0m\n\u001b[1;32m      6\u001b[0m \u001b[0mnb_path\u001b[0m \u001b[0;34m=\u001b[0m \u001b[0;34m'/content/notebooks'\u001b[0m\u001b[0;34m\u001b[0m\u001b[0;34m\u001b[0m\u001b[0m\n\u001b[0;32m----> 7\u001b[0;31m \u001b[0mos\u001b[0m\u001b[0;34m.\u001b[0m\u001b[0msymlink\u001b[0m\u001b[0;34m(\u001b[0m\u001b[0;34m'/content/mnt/My Drive/Colab Notebooks'\u001b[0m\u001b[0;34m,\u001b[0m \u001b[0mnb_path\u001b[0m\u001b[0;34m)\u001b[0m\u001b[0;34m\u001b[0m\u001b[0;34m\u001b[0m\u001b[0m\n\u001b[0m\u001b[1;32m      8\u001b[0m \u001b[0msys\u001b[0m\u001b[0;34m.\u001b[0m\u001b[0mpath\u001b[0m\u001b[0;34m.\u001b[0m\u001b[0minsert\u001b[0m\u001b[0;34m(\u001b[0m\u001b[0;36m0\u001b[0m\u001b[0;34m,\u001b[0m \u001b[0mnb_path\u001b[0m\u001b[0;34m)\u001b[0m  \u001b[0;31m# or append(nb_path)\u001b[0m\u001b[0;34m\u001b[0m\u001b[0;34m\u001b[0m\u001b[0m\n",
            "\u001b[0;31mFileExistsError\u001b[0m: [Errno 17] File exists: '/content/mnt/My Drive/Colab Notebooks' -> '/content/notebooks'"
          ]
        }
      ]
    },
    {
      "cell_type": "code",
      "metadata": {
        "id": "3RIFrlYHPRy5"
      },
      "source": [
        "import numpy as np\n",
        "import pandas as pd\n",
        "import matplotlib.pyplot as plt\n",
        "import wrds\n",
        "import datetime\n",
        "import json"
      ],
      "execution_count": 2,
      "outputs": []
    },
    {
      "cell_type": "markdown",
      "metadata": {
        "id": "ATI8A2Z4muKe"
      },
      "source": [
        "Make function that adds an account with name and preferences, make another function that updates account id with robinhood portolio, make another that adds adds ticker to portfolio, and also one that removes it, then a function that returns the grades for the portfolio as well as a total grade"
      ]
    },
    {
      "cell_type": "markdown",
      "metadata": {
        "id": "e-_PizyTJ9zf"
      },
      "source": [
        "# First Deliverable\n",
        "\n",
        "Input robinhood, add a couple extra stocks not in my robinhood portfolio, and 18 weights for each category, to get ESG scores for each of my company using my formulation.\n",
        "\n",
        "# Second Deliverable\n",
        "\n",
        "Using my weights, recommend 5 stocks through regression, collecting financial information from the companies"
      ]
    },
    {
      "cell_type": "markdown",
      "metadata": {
        "id": "wFh8zx2UKk6G"
      },
      "source": [
        "*\\\n",
        "|\\\n",
        "|\\\n",
        "*\\\n",
        "Using Credentials, get robinhood portfolio\\\n",
        "*\\\n",
        "|\\\n",
        "|\\\n",
        "*"
      ]
    },
    {
      "cell_type": "code",
      "metadata": {
        "colab": {
          "base_uri": "https://localhost:8080/"
        },
        "id": "tXAA-mu9TNC2",
        "outputId": "97b52f1a-b08d-4763-88a5-07dd1984fc1c"
      },
      "source": [
        "!pip3 install robin_stocks\n",
        "!git clone https://github.com/jmfernandes/robin_stocks.git\n",
        "!cd robin_stocks\n",
        "!pip install ."
      ],
      "execution_count": 3,
      "outputs": [
        {
          "output_type": "stream",
          "name": "stdout",
          "text": [
            "Collecting robin_stocks\n",
            "  Downloading robin_stocks-2.1.0-py3-none-any.whl (131 kB)\n",
            "\u001b[?25l\r\u001b[K     |██▌                             | 10 kB 25.1 MB/s eta 0:00:01\r\u001b[K     |█████                           | 20 kB 23.4 MB/s eta 0:00:01\r\u001b[K     |███████▌                        | 30 kB 26.5 MB/s eta 0:00:01\r\u001b[K     |██████████                      | 40 kB 30.0 MB/s eta 0:00:01\r\u001b[K     |████████████▍                   | 51 kB 30.8 MB/s eta 0:00:01\r\u001b[K     |███████████████                 | 61 kB 32.9 MB/s eta 0:00:01\r\u001b[K     |█████████████████▍              | 71 kB 33.0 MB/s eta 0:00:01\r\u001b[K     |███████████████████▉            | 81 kB 34.7 MB/s eta 0:00:01\r\u001b[K     |██████████████████████▍         | 92 kB 35.7 MB/s eta 0:00:01\r\u001b[K     |████████████████████████▉       | 102 kB 36.3 MB/s eta 0:00:01\r\u001b[K     |███████████████████████████▎    | 112 kB 36.3 MB/s eta 0:00:01\r\u001b[K     |█████████████████████████████▉  | 122 kB 36.3 MB/s eta 0:00:01\r\u001b[K     |████████████████████████████████| 131 kB 36.3 MB/s \n",
            "\u001b[?25hCollecting pyotp\n",
            "  Downloading pyotp-2.6.0-py2.py3-none-any.whl (11 kB)\n",
            "Requirement already satisfied: requests in /usr/local/lib/python3.7/dist-packages (from robin_stocks) (2.23.0)\n",
            "Collecting python-dotenv\n",
            "  Downloading python_dotenv-0.19.2-py2.py3-none-any.whl (17 kB)\n",
            "Collecting cryptography\n",
            "  Downloading cryptography-35.0.0-cp36-abi3-manylinux_2_24_x86_64.whl (3.5 MB)\n",
            "\u001b[K     |████████████████████████████████| 3.5 MB 37.9 MB/s \n",
            "\u001b[?25hRequirement already satisfied: cffi>=1.12 in /usr/local/lib/python3.7/dist-packages (from cryptography->robin_stocks) (1.15.0)\n",
            "Requirement already satisfied: pycparser in /usr/local/lib/python3.7/dist-packages (from cffi>=1.12->cryptography->robin_stocks) (2.21)\n",
            "Requirement already satisfied: urllib3!=1.25.0,!=1.25.1,<1.26,>=1.21.1 in /usr/local/lib/python3.7/dist-packages (from requests->robin_stocks) (1.24.3)\n",
            "Requirement already satisfied: chardet<4,>=3.0.2 in /usr/local/lib/python3.7/dist-packages (from requests->robin_stocks) (3.0.4)\n",
            "Requirement already satisfied: idna<3,>=2.5 in /usr/local/lib/python3.7/dist-packages (from requests->robin_stocks) (2.10)\n",
            "Requirement already satisfied: certifi>=2017.4.17 in /usr/local/lib/python3.7/dist-packages (from requests->robin_stocks) (2021.10.8)\n",
            "Installing collected packages: python-dotenv, pyotp, cryptography, robin-stocks\n",
            "Successfully installed cryptography-35.0.0 pyotp-2.6.0 python-dotenv-0.19.2 robin-stocks-2.1.0\n",
            "Cloning into 'robin_stocks'...\n",
            "remote: Enumerating objects: 2512, done.\u001b[K\n",
            "remote: Counting objects: 100% (28/28), done.\u001b[K\n",
            "remote: Compressing objects: 100% (25/25), done.\u001b[K\n",
            "remote: Total 2512 (delta 15), reused 8 (delta 3), pack-reused 2484\u001b[K\n",
            "Receiving objects: 100% (2512/2512), 8.19 MiB | 36.17 MiB/s, done.\n",
            "Resolving deltas: 100% (1648/1648), done.\n",
            "\u001b[31mERROR: Directory '.' is not installable. Neither 'setup.py' nor 'pyproject.toml' found.\u001b[0m\n"
          ]
        }
      ]
    },
    {
      "cell_type": "code",
      "metadata": {
        "id": "lZ53tYfISY8a"
      },
      "source": [
        "from datetime import datetime\n",
        "from decimal import Decimal\n",
        "import logging\n",
        "from logging.handlers import TimedRotatingFileHandler\n",
        "import pandas as pd\n",
        "import plotly.express as px \n",
        "from plotly.subplots import make_subplots\n",
        "import plotly.graph_objects as go\n",
        "\n",
        "import pandas as pd\n",
        "import datetime as dt\n",
        "import pandas_datareader.data as web\n",
        "import plotly.express as px\n",
        "import plotly.graph_objects as go\n",
        "import robin_stocks as rh\n",
        "import json\n",
        "import datetime"
      ],
      "execution_count": 534,
      "outputs": []
    },
    {
      "cell_type": "markdown",
      "metadata": {
        "id": "lSbXNApfpCPx"
      },
      "source": [
        "Import Data Frames to Use\n",
        "* account_df (initialize)\n",
        "* company_df\n",
        "* scores_df\n"
      ]
    },
    {
      "cell_type": "code",
      "metadata": {
        "id": "omvVKOxSMNY1"
      },
      "source": [
        "account_df = pd.DataFrame()"
      ],
      "execution_count": 226,
      "outputs": []
    },
    {
      "cell_type": "markdown",
      "metadata": {
        "id": "4Yb0l4sapQpE"
      },
      "source": [
        "Function for adding account to accounts_df, using name. Assume default weights (if value does not exist for user, assume preference at 3, else take the value)"
      ]
    },
    {
      "cell_type": "code",
      "metadata": {
        "id": "HSQuC-lkpQPk"
      },
      "source": [
        "def add_to_account(first, last, account_df)-> int:\n",
        "  df = pd.DataFrame([[first, last, str(pd.to_datetime('now'))]], columns=(['first', 'last', 'date_time']))\n",
        "  id = df[['first', 'last', 'date_time']].sum(axis=1).map(hash)\n",
        "  df['id'] = abs(id)\n",
        "  account_df = account_df.append(df, ignore_index=True)\n",
        "  return account_df, id\n",
        "\n",
        "def remove_account(id, account_df):\n",
        "  account_df_ret = account_df.drop(account_df.index[account_df['id'] == id]).reset_index(drop=True)\n",
        "  return account_df_ret"
      ],
      "execution_count": 227,
      "outputs": []
    },
    {
      "cell_type": "code",
      "metadata": {
        "id": "c9Xu-Kj2s6vM"
      },
      "source": [
        "# account_df, id = add_to_account(\"Kachik\",\"Ashkaryan\", account_df)\n",
        "# account_df = remove_account(1719471895094307254, account_df)"
      ],
      "execution_count": 231,
      "outputs": []
    },
    {
      "cell_type": "markdown",
      "metadata": {
        "id": "a7nRxm2YtAaa"
      },
      "source": [
        "Now with account in dataframe, we add function that adjusts the weights.\n",
        "All categories:\n",
        "* CG_BD_BF - Board of Directors/Board Functions \n",
        "* CG_BD_BS - Board of Directors/Board Structure \n",
        "* CG_BD_CP - Board of Directors/Compensation Policy \n",
        "* CG_In_VS - Integration/Vision and Strategy \n",
        "* CG_Sh_SR - Shareholders /Shareholder Rights \n",
        "* Ec_Ma_Pe - Margins /Performance \n",
        "* Ec_Pr_SL - Profitability /Shareholder Loyalty \n",
        "* Ec_Re_CL - Revenue /Client Loyalty \n",
        "* En_En_ER - Emission Reduction \n",
        "* En_En_PI - Product Innovation\n",
        "* En_En_RR - Resource Reduction\n",
        "* So_Cu_PR - Customer /Product Responsibility \n",
        "* So_So_Co - Society /Community \n",
        "* So_So_HR - Society /Human Rights \n",
        "* So_Wo_DO - Workforce /Diversity and Opportunity \n",
        "* So_Wo_EQ - Workforce /Employment Quality \n",
        "* So_Wo_HS - Workforce /Health & Safety \n",
        "* So_Wo_TD - Workforce /Training and Development \n"
      ]
    },
    {
      "cell_type": "code",
      "metadata": {
        "id": "bu3RQmnfJ5t3"
      },
      "source": [
        "list_of_categories = \\\n",
        "[\"CG_BD_BF\",\n",
        "\"CG_BD_BS\",\n",
        "\"CG_BD_CP\",\n",
        "\"CG_In_VS\",\n",
        "\"CG_Sh_SR\",\n",
        "\"Ec_Ma_Pe\",\n",
        "\"Ec_Pr_SL\",\n",
        "\"Ec_Re_CL\",\n",
        "\"En_En_ER\",\n",
        "\"En_En_PI\",\n",
        "\"En_En_RR\",\n",
        "\"So_Cu_PR\",\n",
        "\"So_So_Co\",\n",
        "\"So_So_HR\",\n",
        "\"So_Wo_DO\",\n",
        "\"So_Wo_EQ\",\n",
        "\"So_Wo_HS\",\n",
        "\"So_Wo_TD\"]"
      ],
      "execution_count": 334,
      "outputs": []
    },
    {
      "cell_type": "code",
      "metadata": {
        "id": "JqY0z9pDuJB7"
      },
      "source": [
        "def adjust_weight(account_id, category, new_score, account_df):\n",
        "  list_of_indices = account_df.index[account_df['id'] == account_id]\n",
        "  account_df.loc[list_of_indices[0], category] = new_score\n",
        "  return account_df"
      ],
      "execution_count": 233,
      "outputs": []
    },
    {
      "cell_type": "code",
      "metadata": {
        "id": "4OspEanRxKFK"
      },
      "source": [
        "def get_weight(account_id, category, account_df):\n",
        "  list_of_index = account_df.index[account_df['id'] == account_id][0]\n",
        "  try:\n",
        "    score = account_df.at[list_of_index, category]\n",
        "  except KeyError:\n",
        "    return 3.0\n",
        "  if np.isnan(score):\n",
        "    return 3.0\n",
        "  return score"
      ],
      "execution_count": 257,
      "outputs": []
    },
    {
      "cell_type": "markdown",
      "metadata": {
        "id": "LoUZX2LWxHLM"
      },
      "source": [
        "Use config file to input robinhood holding, then logout to ensure data protection"
      ]
    },
    {
      "cell_type": "code",
      "metadata": {
        "id": "f9-Wt3WKRIIw"
      },
      "source": [
        "def robinhood_add_portfolio(account_id, config_file_path, account_df):\n",
        "  config=open(config_file_path).read()\n",
        "  content=json.loads(config)\n",
        "  rh.robinhood.authentication.login(content['username'], content['password'])\n",
        "\n",
        "  portfolio_rh = rh.robinhood.account.build_holdings()\n",
        "  portfolio_rh_df = pd.DataFrame.from_dict(portfolio_rh, orient='index')\n",
        "  portfolio_rh_df = portfolio_rh_df.reset_index()\n",
        "  port_list = portfolio_rh_df['index'].tolist()\n",
        "\n",
        "  account_df['portfolio'] = account_df['portfolio'].astype('object')\n",
        "\n",
        "  list_of_index = account_df.index[account_df['id'] == account_id][0]\n",
        "  account_df.at[list_of_index, 'portfolio'] = port_list\n",
        "  rh.robinhood.authentication.logout()\n",
        "\n",
        "  return account_df"
      ],
      "execution_count": 278,
      "outputs": []
    },
    {
      "cell_type": "code",
      "metadata": {
        "id": "qxDINZUjFIqU"
      },
      "source": [
        "def get_portfolio_with_id(account_id, account_df):\n",
        "  list_of_index = account_df.index[account_df['id'] == account_id][0]\n",
        "  try:\n",
        "    total_portfolio = account_df.at[list_of_index, 'portfolio']\n",
        "  except KeyError:\n",
        "    return []\n",
        "  try:\n",
        "    if np.isnan(total_portfolio):\n",
        "      return []\n",
        "  except TypeError:\n",
        "    return total_portfolio"
      ],
      "execution_count": 292,
      "outputs": []
    },
    {
      "cell_type": "code",
      "metadata": {
        "colab": {
          "base_uri": "https://localhost:8080/"
        },
        "id": "aKgIXs92FWXk",
        "outputId": "e7f8918f-7355-420f-d364-7f2655569566"
      },
      "source": [
        "# get_portfolio_with_id(8222082116939778480, account_df)"
      ],
      "execution_count": 297,
      "outputs": [
        {
          "output_type": "execute_result",
          "data": {
            "text/plain": [
              "[]"
            ]
          },
          "metadata": {},
          "execution_count": 297
        }
      ]
    },
    {
      "cell_type": "code",
      "metadata": {
        "colab": {
          "base_uri": "https://localhost:8080/",
          "height": 175
        },
        "id": "AIxY90cIB8Kf",
        "outputId": "25614859-56a3-44de-9aa5-53a029e14c47"
      },
      "source": [
        "# robinhood_add_portfolio(7256861173943290305, '/content/mnt/MyDrive/config.json', account_df)"
      ],
      "execution_count": 280,
      "outputs": [
        {
          "output_type": "execute_result",
          "data": {
            "text/html": [
              "<div>\n",
              "<style scoped>\n",
              "    .dataframe tbody tr th:only-of-type {\n",
              "        vertical-align: middle;\n",
              "    }\n",
              "\n",
              "    .dataframe tbody tr th {\n",
              "        vertical-align: top;\n",
              "    }\n",
              "\n",
              "    .dataframe thead th {\n",
              "        text-align: right;\n",
              "    }\n",
              "</style>\n",
              "<table border=\"1\" class=\"dataframe\">\n",
              "  <thead>\n",
              "    <tr style=\"text-align: right;\">\n",
              "      <th></th>\n",
              "      <th>first</th>\n",
              "      <th>last</th>\n",
              "      <th>date_time</th>\n",
              "      <th>id</th>\n",
              "      <th>So_Wo_TD</th>\n",
              "      <th>portfolio</th>\n",
              "    </tr>\n",
              "  </thead>\n",
              "  <tbody>\n",
              "    <tr>\n",
              "      <th>0</th>\n",
              "      <td>Kachik</td>\n",
              "      <td>Ashkaryan</td>\n",
              "      <td>2021-11-13 15:40:20.048934</td>\n",
              "      <td>7090982603147374729</td>\n",
              "      <td>5.0</td>\n",
              "      <td>[NIO, SNDL, LAZR, SOS, WISH, NVDA]</td>\n",
              "    </tr>\n",
              "    <tr>\n",
              "      <th>1</th>\n",
              "      <td>Kachik</td>\n",
              "      <td>Ashkaryan</td>\n",
              "      <td>2021-11-13 15:40:20.544904</td>\n",
              "      <td>4250566806045738170</td>\n",
              "      <td>NaN</td>\n",
              "      <td>NaN</td>\n",
              "    </tr>\n",
              "    <tr>\n",
              "      <th>2</th>\n",
              "      <td>Kachik</td>\n",
              "      <td>Ashkaryan</td>\n",
              "      <td>2021-11-13 15:40:21.029351</td>\n",
              "      <td>7256861173943290305</td>\n",
              "      <td>2.0</td>\n",
              "      <td>[NIO, SNDL, LAZR, SOS, WISH, NVDA]</td>\n",
              "    </tr>\n",
              "    <tr>\n",
              "      <th>3</th>\n",
              "      <td>Kachik</td>\n",
              "      <td>Ashkaryan</td>\n",
              "      <td>2021-11-13 15:40:21.456025</td>\n",
              "      <td>8222082116939778480</td>\n",
              "      <td>NaN</td>\n",
              "      <td>NaN</td>\n",
              "    </tr>\n",
              "  </tbody>\n",
              "</table>\n",
              "</div>"
            ],
            "text/plain": [
              "    first       last  ... So_Wo_TD                           portfolio\n",
              "0  Kachik  Ashkaryan  ...      5.0  [NIO, SNDL, LAZR, SOS, WISH, NVDA]\n",
              "1  Kachik  Ashkaryan  ...      NaN                                 NaN\n",
              "2  Kachik  Ashkaryan  ...      2.0  [NIO, SNDL, LAZR, SOS, WISH, NVDA]\n",
              "3  Kachik  Ashkaryan  ...      NaN                                 NaN\n",
              "\n",
              "[4 rows x 6 columns]"
            ]
          },
          "metadata": {},
          "execution_count": 280
        }
      ]
    },
    {
      "cell_type": "code",
      "metadata": {
        "id": "X5aa8KTcVOde"
      },
      "source": [
        "def add_ticker_to_portfolio(account_id, ticker, account_df):\n",
        "  list_of_index = account_df.index[account_df['id'] == account_id][0]\n",
        "  cur_portfolio = get_portfolio_with_id(account_id, account_df)\n",
        "  if len(cur_portfolio) == 0:\n",
        "    account_df.at[list_of_index, 'portfolio'] = [ticker]\n",
        "    return account_df\n",
        "  else:\n",
        "    if ticker not in cur_portfolio:\n",
        "      cur_portfolio.append(ticker) \n",
        "      account_df.at[list_of_index, 'portfolio'] = cur_portfolio\n",
        "    return account_df\n",
        "\n",
        "def remove_ticker_to_portfolio(account_id, ticker, account_df):\n",
        "  list_of_index = account_df.index[account_df['id'] == account_id][0]\n",
        "  cur_portfolio = get_portfolio_with_id(account_id, account_df)\n",
        "  if ticker in cur_portfolio:\n",
        "    cur_portfolio.remove(ticker) \n",
        "    account_df.at[list_of_index, 'portfolio'] = cur_portfolio\n",
        "  return account_df"
      ],
      "execution_count": 325,
      "outputs": []
    },
    {
      "cell_type": "code",
      "metadata": {
        "id": "P_F2hllFFCQF"
      },
      "source": [
        "# robinhood_add_portfolio(7256861173943290305, '/content/mnt/MyDrive/config.json', account_df)"
      ],
      "execution_count": null,
      "outputs": []
    },
    {
      "cell_type": "code",
      "metadata": {
        "colab": {
          "base_uri": "https://localhost:8080/",
          "height": 175
        },
        "id": "5GSxy0A0Pdru",
        "outputId": "d5d5b7c8-7bbc-4f24-c499-72bfd8f4fda4"
      },
      "source": [
        "account_df"
      ],
      "execution_count": 351,
      "outputs": [
        {
          "output_type": "execute_result",
          "data": {
            "text/html": [
              "<div>\n",
              "<style scoped>\n",
              "    .dataframe tbody tr th:only-of-type {\n",
              "        vertical-align: middle;\n",
              "    }\n",
              "\n",
              "    .dataframe tbody tr th {\n",
              "        vertical-align: top;\n",
              "    }\n",
              "\n",
              "    .dataframe thead th {\n",
              "        text-align: right;\n",
              "    }\n",
              "</style>\n",
              "<table border=\"1\" class=\"dataframe\">\n",
              "  <thead>\n",
              "    <tr style=\"text-align: right;\">\n",
              "      <th></th>\n",
              "      <th>first</th>\n",
              "      <th>last</th>\n",
              "      <th>date_time</th>\n",
              "      <th>id</th>\n",
              "      <th>So_Wo_TD</th>\n",
              "      <th>portfolio</th>\n",
              "    </tr>\n",
              "  </thead>\n",
              "  <tbody>\n",
              "    <tr>\n",
              "      <th>0</th>\n",
              "      <td>Kachik</td>\n",
              "      <td>Ashkaryan</td>\n",
              "      <td>2021-11-13 15:40:20.048934</td>\n",
              "      <td>7090982603147374729</td>\n",
              "      <td>5.0</td>\n",
              "      <td>[TSLA, SNDL]</td>\n",
              "    </tr>\n",
              "    <tr>\n",
              "      <th>1</th>\n",
              "      <td>Kachik</td>\n",
              "      <td>Ashkaryan</td>\n",
              "      <td>2021-11-13 15:40:20.544904</td>\n",
              "      <td>4250566806045738170</td>\n",
              "      <td>NaN</td>\n",
              "      <td>[TSLA]</td>\n",
              "    </tr>\n",
              "    <tr>\n",
              "      <th>2</th>\n",
              "      <td>Kachik</td>\n",
              "      <td>Ashkaryan</td>\n",
              "      <td>2021-11-13 15:40:21.029351</td>\n",
              "      <td>7256861173943290305</td>\n",
              "      <td>2.0</td>\n",
              "      <td>[SNDL, LAZR, SOS, WISH, NVDA, MSFT, NIO]</td>\n",
              "    </tr>\n",
              "    <tr>\n",
              "      <th>3</th>\n",
              "      <td>Kachik</td>\n",
              "      <td>Ashkaryan</td>\n",
              "      <td>2021-11-13 15:40:21.456025</td>\n",
              "      <td>8222082116939778480</td>\n",
              "      <td>NaN</td>\n",
              "      <td>NaN</td>\n",
              "    </tr>\n",
              "  </tbody>\n",
              "</table>\n",
              "</div>"
            ],
            "text/plain": [
              "    first       last  ... So_Wo_TD                                 portfolio\n",
              "0  Kachik  Ashkaryan  ...      5.0                              [TSLA, SNDL]\n",
              "1  Kachik  Ashkaryan  ...      NaN                                    [TSLA]\n",
              "2  Kachik  Ashkaryan  ...      2.0  [SNDL, LAZR, SOS, WISH, NVDA, MSFT, NIO]\n",
              "3  Kachik  Ashkaryan  ...      NaN                                       NaN\n",
              "\n",
              "[4 rows x 6 columns]"
            ]
          },
          "metadata": {},
          "execution_count": 351
        }
      ]
    },
    {
      "cell_type": "markdown",
      "metadata": {
        "id": "pshjTZ2XNlfO"
      },
      "source": [
        "#NEED TO ADJUST FOR QUERYING DB\n",
        "\n",
        "---\n"
      ]
    },
    {
      "cell_type": "markdown",
      "metadata": {
        "id": "48uVARaHIKeL"
      },
      "source": [
        "Make function, given account_id, return the specialized score for each company and total score\n",
        "\n",
        "* Make function that gets list of weights given account_id\n",
        "* Make function that gets list of portfolio given account_id\n",
        "  * def get_portfolio_with_id(account_id, account_df):\n",
        "* Make function that gives specific score for one company given ticker\n",
        "* Make function that combines all to give total score, as well as list of scores in same order as portfolio"
      ]
    },
    {
      "cell_type": "code",
      "metadata": {
        "id": "XmXH093QmkXR"
      },
      "source": [
        "import json\n",
        "try:\n",
        "    # For Python 3.0 and later\n",
        "        from urllib.request import urlopen\n",
        "except ImportError:\n",
        "# Fall back to Python 2's urllib2\n",
        "    from urllib2 import urlopen\n",
        "\n",
        "def get_jsonparsed_data(url):\n",
        "    \"\"\"\n",
        "    Receive the content of ``url``, parse it as JSON and return the object.\n",
        "    \"\"\"\n",
        "    response = urlopen(url)\n",
        "    data = response.read().decode(\"utf-8\")\n",
        "    return json.loads(data)"
      ],
      "execution_count": 451,
      "outputs": []
    },
    {
      "cell_type": "code",
      "metadata": {
        "id": "PnVeo7T2I-cp"
      },
      "source": [
        "def get_all_weights(account_id, account_df):\n",
        "  weights = []\n",
        "  for category in list_of_categories:\n",
        "    weights.append(get_weight(account_id, category, account_df))\n",
        "    \n",
        "  return weights\n",
        "\n",
        "def get_personalized_score_for_company(ticker, account_id, account_df, organization_df, esg_df):\n",
        "  category_weights = get_all_weights(account_id, account_df)\n",
        "\n",
        "  #normalize account's weights\n",
        "  normalized = [float(i)/sum(category_weights) for i in category_weights]\n",
        "\n",
        "  url = f\"https://financialmodelingprep.com/api/v3/profile/{ticker}?apikey=813841e1635f4f74e3555996113e7470\"\n",
        "  cusip = -1\n",
        "  try:\n",
        "    cusip = get_jsonparsed_data(url)[0]['cusip'][:-1]\n",
        "  except Exception as e:\n",
        "    print(e)\n",
        "\n",
        "  #get specific company's scores\n",
        "  try:\n",
        "    org_id = organization_df[organization_df['cusip'] == cusip]['orgid'].values[0]\n",
        "  except IndexError:\n",
        "    return None\n",
        "  esg_tuples = esg_df[esg_df['orgid'] == org_id]\n",
        "\n",
        "  total_score = 0\n",
        "  for idx, category in enumerate(list_of_categories):\n",
        "    total_score += normalized[idx] * np.nanmean(esg_tuples[category.lower()].values)\n",
        "\n",
        "  return total_score\n"
      ],
      "execution_count": 607,
      "outputs": []
    },
    {
      "cell_type": "markdown",
      "metadata": {
        "id": "OxkIInoMTtBv"
      },
      "source": [
        "Function, return total score for user using their portfolio"
      ]
    },
    {
      "cell_type": "code",
      "metadata": {
        "id": "bHeqts8RTs07"
      },
      "source": [
        "def get_user_scores_list(account_id, account_df, organization_df, esg_df):\n",
        "  list_of_comps =  get_portfolio_with_id(account_id, account_df)\n",
        "  scores_for_each_comp = []\n",
        "  for company in list_of_comps:\n",
        "    score = get_personalized_score_for_company(company, account_id, account_df, organization_df, esg_df)\n",
        "    if score is None:\n",
        "      print(company)\n",
        "    else:\n",
        "      scores_for_each_comp.append((company,score))\n",
        "\n",
        "  return scores_for_each_comp"
      ],
      "execution_count": 498,
      "outputs": []
    },
    {
      "cell_type": "code",
      "metadata": {
        "id": "6Xxc_KAqOqM2"
      },
      "source": [
        "comp_has_org_df = pd.read_csv('/content/drive/MyDrive/company_has_org.csv').drop(columns=['Unnamed: 0']).drop_duplicates()\n",
        "all_ESG_scores = pd.read_csv('/content/drive/MyDrive/orgid_to_allESGcatscores.csv').drop(columns=['Unnamed: 0']).drop_duplicates()"
      ],
      "execution_count": 415,
      "outputs": []
    },
    {
      "cell_type": "code",
      "metadata": {
        "colab": {
          "base_uri": "https://localhost:8080/",
          "height": 175
        },
        "id": "76_JguWRoW0a",
        "outputId": "86993abe-7687-4858-c93a-30c213fd02b7"
      },
      "source": [
        "account_df"
      ],
      "execution_count": 500,
      "outputs": [
        {
          "output_type": "execute_result",
          "data": {
            "text/html": [
              "<div>\n",
              "<style scoped>\n",
              "    .dataframe tbody tr th:only-of-type {\n",
              "        vertical-align: middle;\n",
              "    }\n",
              "\n",
              "    .dataframe tbody tr th {\n",
              "        vertical-align: top;\n",
              "    }\n",
              "\n",
              "    .dataframe thead th {\n",
              "        text-align: right;\n",
              "    }\n",
              "</style>\n",
              "<table border=\"1\" class=\"dataframe\">\n",
              "  <thead>\n",
              "    <tr style=\"text-align: right;\">\n",
              "      <th></th>\n",
              "      <th>first</th>\n",
              "      <th>last</th>\n",
              "      <th>date_time</th>\n",
              "      <th>id</th>\n",
              "      <th>So_Wo_TD</th>\n",
              "      <th>portfolio</th>\n",
              "    </tr>\n",
              "  </thead>\n",
              "  <tbody>\n",
              "    <tr>\n",
              "      <th>0</th>\n",
              "      <td>Kachik</td>\n",
              "      <td>Ashkaryan</td>\n",
              "      <td>2021-11-13 15:40:20.048934</td>\n",
              "      <td>7090982603147374729</td>\n",
              "      <td>5.0</td>\n",
              "      <td>[TSLA, SNDL]</td>\n",
              "    </tr>\n",
              "    <tr>\n",
              "      <th>1</th>\n",
              "      <td>Kachik</td>\n",
              "      <td>Ashkaryan</td>\n",
              "      <td>2021-11-13 15:40:20.544904</td>\n",
              "      <td>4250566806045738170</td>\n",
              "      <td>NaN</td>\n",
              "      <td>[TSLA]</td>\n",
              "    </tr>\n",
              "    <tr>\n",
              "      <th>2</th>\n",
              "      <td>Kachik</td>\n",
              "      <td>Ashkaryan</td>\n",
              "      <td>2021-11-13 15:40:21.029351</td>\n",
              "      <td>7256861173943290305</td>\n",
              "      <td>2.0</td>\n",
              "      <td>[SNDL, LAZR, SOS, WISH, NVDA, MSFT, NIO]</td>\n",
              "    </tr>\n",
              "    <tr>\n",
              "      <th>3</th>\n",
              "      <td>Kachik</td>\n",
              "      <td>Ashkaryan</td>\n",
              "      <td>2021-11-13 15:40:21.456025</td>\n",
              "      <td>8222082116939778480</td>\n",
              "      <td>NaN</td>\n",
              "      <td>NaN</td>\n",
              "    </tr>\n",
              "  </tbody>\n",
              "</table>\n",
              "</div>"
            ],
            "text/plain": [
              "    first       last  ... So_Wo_TD                                 portfolio\n",
              "0  Kachik  Ashkaryan  ...      5.0                              [TSLA, SNDL]\n",
              "1  Kachik  Ashkaryan  ...      NaN                                    [TSLA]\n",
              "2  Kachik  Ashkaryan  ...      2.0  [SNDL, LAZR, SOS, WISH, NVDA, MSFT, NIO]\n",
              "3  Kachik  Ashkaryan  ...      NaN                                       NaN\n",
              "\n",
              "[4 rows x 6 columns]"
            ]
          },
          "metadata": {},
          "execution_count": 500
        }
      ]
    },
    {
      "cell_type": "code",
      "metadata": {
        "id": "ttILRRKsK8Xz"
      },
      "source": [
        "# get_personalized_score_for_company('TSLA', 7090982603147374729, account_df, comp_has_org_df, all_ESG_scores)\n",
        "# get_user_scores_list(7256861173943290305, account_df, comp_has_org_df, all_ESG_scores)"
      ],
      "execution_count": null,
      "outputs": []
    },
    {
      "cell_type": "markdown",
      "metadata": {
        "id": "kKuc7WxQrzO9"
      },
      "source": [
        "#GET BASIC COMPANY DATA\n",
        "\n",
        "* Get about information, HQ, news feed, symbol, companyName, industry, website, description, ceo, sector, city, state, image"
      ]
    },
    {
      "cell_type": "code",
      "metadata": {
        "id": "NHDMY88c6x23"
      },
      "source": [
        "total_1000_df = pd.read_csv('/content/drive/MyDrive/Stocks in the Russell 1000 Index (1).csv').drop_duplicates()"
      ],
      "execution_count": 505,
      "outputs": []
    },
    {
      "cell_type": "code",
      "metadata": {
        "id": "vYe6fJ__67XO"
      },
      "source": [
        "total_1000_df"
      ],
      "execution_count": null,
      "outputs": []
    },
    {
      "cell_type": "code",
      "metadata": {
        "id": "_31XSQkX6YXn"
      },
      "source": [
        "def company_information_to_display(ticker, total_1000_df):\n",
        "  spec_comp = total_1000_df[total_1000_df['Symbol'] == ticker]\n",
        "  company_name = spec_comp['Description']\n",
        "  industry = spec_comp['GICS Sector']\n",
        "\n",
        "  url = f\"https://financialmodelingprep.com/api/v3/profile/{ticker}?apikey=81c66b2b7a409dde0ec114b052cd0d45\"\n",
        "  try:\n",
        "    total = get_jsonparsed_data(url)[0]\n",
        "  except Exception as e:\n",
        "    print(e)\n",
        "\n",
        "  headquarters = (total['city'], total['state'])\n",
        "  website = total['website']\n",
        "  description = total['description']\n",
        "  ceo = total['ceo']\n",
        "  sector = total['sector']\n",
        "  image = total['image']\n",
        "  fullTimeEmployees = total['fullTimeEmployees']\n",
        "  beta = total['beta']\n",
        "\n",
        "  return spec_comp, company_name, industry, headquarters, website, description,\\\n",
        "  ceo,  sector, image, fullTimeEmployees, beta\n",
        "\n",
        "company_information_to_display('TSLA', total_1000_df)"
      ],
      "execution_count": null,
      "outputs": []
    },
    {
      "cell_type": "code",
      "metadata": {
        "id": "_lmNhW9a98tz"
      },
      "source": [
        "def get_news_feed(ticker):\n",
        "  url = f\"https://financialmodelingprep.com/api/v3/stock_news?tickers={ticker}&limit=5&apikey=a4bedca2df6809daa70d74cf9671699f\"\n",
        "  try:\n",
        "    total = get_jsonparsed_data(url)[0]\n",
        "  except Exception as e:\n",
        "    print(e)\n",
        "\n",
        "  return total"
      ],
      "execution_count": null,
      "outputs": []
    },
    {
      "cell_type": "markdown",
      "metadata": {
        "id": "FmQkMxOZr3D7"
      },
      "source": [
        "#GET FINANCE DATA, COMPLETE RECOMMENDATION WITH FILTER AND REGRESSION"
      ]
    },
    {
      "cell_type": "markdown",
      "metadata": {
        "id": "wKRwhipdBBJ6"
      },
      "source": [
        "real-time stock price (X), daily_increase (dollar and percentage)(X), stock graph, market_cap(X), price-earnings ratio(X), dividend_yield, volume (X), daily_high(X), daily_low(X), open_price, 52_week_high(X), 52_week_low(X), earnings_per_share(X), beta, next_earnings_call, stock_peers"
      ]
    },
    {
      "cell_type": "code",
      "metadata": {
        "id": "_jeqPMSVsBC3"
      },
      "source": [
        "def get_financial_info(ticker):\n",
        "  url = f\"https://financialmodelingprep.com/api/v3/quote/{ticker}?apikey=a4bedca2df6809daa70d74cf9671699f\"\n",
        "  total=''\n",
        "  try:\n",
        "    total = get_jsonparsed_data(url)\n",
        "  except Exception as e:\n",
        "    print(e)\n",
        "  total = total[0]\n",
        "  current_price = total['price']\n",
        "  volume = total['volume']\n",
        "\n",
        "  daily_change_dollar = total['change']\n",
        "  daily_change_percent = total['changesPercentage']\n",
        "  daily_low = total['dayLow']\n",
        "  daily_high = total['dayHigh']\n",
        "  year_low = total['yearLow']\n",
        "  year_high = total['yearHigh']\n",
        "  market_cap = total['marketCap']\n",
        "  eps = total['eps']\n",
        "  pe = total['pe']\n",
        "  earnings_date = total['earningsAnnouncement']\n",
        "  return current_price, volume, daily_change_dollar, daily_change_percent,daily_low,\\\n",
        "  daily_high, year_low, year_high, market_cap, eps, pe, earnings_date\n",
        "\n",
        "\n",
        "\n",
        "get_financial_info('AAPL')\n"
      ],
      "execution_count": null,
      "outputs": []
    },
    {
      "cell_type": "markdown",
      "metadata": {
        "id": "CZ3ob0GEQtk1"
      },
      "source": [
        "###FUNCTION TO GRAPH STOCK"
      ]
    },
    {
      "cell_type": "code",
      "metadata": {
        "id": "rSY5OLuqWrKb"
      },
      "source": [
        "!pip install yfinance\n",
        "!pip install cufflinks"
      ],
      "execution_count": null,
      "outputs": []
    },
    {
      "cell_type": "code",
      "metadata": {
        "id": "sjYzM2swWnxe"
      },
      "source": [
        "import pandas as pd\n",
        "import cufflinks as cf\n",
        "import numpy as np\n",
        "import yfinance as yf\n",
        "import warnings\n",
        "warnings.filterwarnings(\"ignore\")\n",
        "import plotly.graph_objects as go\n",
        "from datetime import datetime\n",
        "import plotly.graph_objects as go\n",
        "cf.set_config_file(theme='pearl', world_readable=False)\n",
        "cf.go_offline()\n",
        "\n",
        "def graph_stock(ticker):\n",
        "  single_stock = yf.download('msft', start=\"2020-05-27\", end=datetime.today().strftime('%Y-%m-%d'))\n",
        "  fig = go.Figure( go.Scatter(y=single_stock['Adj Close'], x=single_stock.index ) )\n",
        "  fig.show(renderer=\"colab\")\n"
      ],
      "execution_count": null,
      "outputs": []
    },
    {
      "cell_type": "code",
      "metadata": {
        "id": "Ir45MSSCR_Kk"
      },
      "source": [
        "# graph_stock('TSLA')"
      ],
      "execution_count": null,
      "outputs": []
    },
    {
      "cell_type": "markdown",
      "metadata": {
        "id": "ZoN3KQh0XWTz"
      },
      "source": [
        "###FILTER RUSSEL TO TOP 5 BEST IN TERMS OF WEIGHTS"
      ]
    },
    {
      "cell_type": "code",
      "metadata": {
        "id": "JPz7TsABYN5B"
      },
      "source": [
        "def filter_to_top_10(account_id, account_df, company_df, all_esg, total_1000_df):\n",
        "  total_list = []\n",
        "  for comp in total_1000_df['Symbol']:\n",
        "    score = get_personalized_score_for_company(comp, account_id, account_df, comp_has_org_df, all_ESG_scores)\n",
        "    total_list.append((comp, score))\n",
        "\n",
        "  return sorted(total_list, key=lambda x: x[1])[:10]"
      ],
      "execution_count": 603,
      "outputs": []
    },
    {
      "cell_type": "markdown",
      "metadata": {
        "id": "M-Vr3YMcbvub"
      },
      "source": [
        "Variabled needed for regression MV (market-value), CP (cash to price ratio), BP (book-to-price ratio), Var (annualized variance of stock).\n",
        "\n",
        "Dependent varibale is cumulative excess return (ER)\n",
        "\n",
        "Regression formula is:\\\n",
        "$ER = α + β_1MV_{it} + β_2Var_{it} + β_3CP_{it} + β_4BP_{it} + β_5ESG_{i, t-1} + ε_{it}$\n",
        "\n"
      ]
    },
    {
      "cell_type": "code",
      "metadata": {
        "id": "_k5pzzu1bnPc"
      },
      "source": [
        "def regression_analysis_of_top_10(top_10_list_of_1000):\n",
        "  pass"
      ],
      "execution_count": null,
      "outputs": []
    },
    {
      "cell_type": "code",
      "metadata": {
        "id": "5_f4i3NQYlnQ"
      },
      "source": [
        "# top_10_list_of_1000 = filter_to_top_10(7090982603147374729, account_df, comp_has_org_df, all_ESG_scores, total_1000_df)"
      ],
      "execution_count": null,
      "outputs": []
    }
  ]
}